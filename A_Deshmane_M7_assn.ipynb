{
 "cells": [
  {
   "cell_type": "markdown",
   "id": "6d2f7be1",
   "metadata": {},
   "source": [
    "## DAV 5400 Module 7 Assignment\n",
    "#### By Aishwarya Deshmane"
   ]
  },
  {
   "cell_type": "markdown",
   "id": "0d69dc2e",
   "metadata": {},
   "source": [
    "Load re and pandas library"
   ]
  },
  {
   "cell_type": "code",
   "execution_count": 1,
   "id": "af551a60",
   "metadata": {},
   "outputs": [],
   "source": [
    "import re\n",
    "import pandas as pd"
   ]
  },
  {
   "cell_type": "markdown",
   "id": "1110ff83",
   "metadata": {},
   "source": [
    "### 1. Extract the names of each individual from the unformatted text string and store them in a vector of some sort\n",
    "Assigned the text to variable Text1\n",
    "\n",
    "[A-Za-z,.\\s]+ gives the first half part of the name from Text1. It includes all the mentioned characters from the square bracket. + sign at the end indicates 1 or more preceeding characters\n",
    "\n",
    "[A-Za-z]+ gives the remaining part of the name from Text1\n",
    "\n",
    "Combined the regex expressions to get the full name of the residents\n",
    "\n",
    "Used findall function and assigned it to Residents variable\n",
    "\n",
    "Printed the output"
   ]
  },
  {
   "cell_type": "code",
   "execution_count": 2,
   "id": "741ee224",
   "metadata": {},
   "outputs": [],
   "source": [
    "Text1 = \"555-1239Khan, Ghengis(636) 555-0113Fitzgerald, F. Scott555 -6542Rev. Adam Clayton Powell 555 8904Loretta Lynn636-555-3226Case,Justin5553642Dr. Julius Erving555-401-2232Constance Prudence Boringsworth\""
   ]
  },
  {
   "cell_type": "code",
   "execution_count": 3,
   "id": "d1662870",
   "metadata": {},
   "outputs": [
    {
     "data": {
      "text/plain": [
       "['Khan, Ghengis',\n",
       " 'Fitzgerald, F. Scott',\n",
       " 'Rev. Adam Clayton Powell',\n",
       " 'Loretta Lynn',\n",
       " 'Case,Justin',\n",
       " 'Dr. Julius Erving',\n",
       " 'Constance Prudence Boringsworth']"
      ]
     },
     "execution_count": 3,
     "metadata": {},
     "output_type": "execute_result"
    }
   ],
   "source": [
    "Residents = re.findall('[A-Za-z,.\\s]+[A-Za-z]+',Text1)\n",
    "Residents"
   ]
  },
  {
   "cell_type": "markdown",
   "id": "d04044ae",
   "metadata": {},
   "source": [
    "### 2a. Use your regex skills to rearrange the vector so that all elements conform to the standard “firstname middlename lastname”, preserving any titles (e.g., “Rev.”, “Dr.”, etc) or middle/second names\n",
    "Found the Residents whose names does not follow the naming standards. Names with the \",\"(comma) has last name written first\n",
    "\n",
    "([A-Za-z]+) finds 1 or more preceeding characters from the square brackets and grouped as group 1\n",
    "\n",
    "\",\" denotes single comma present after the group 1\n",
    "\n",
    "\\s* denotes 0 or more space included between the other characters\n",
    "\n",
    "([A-Za-z,.\\s]+) finds 1 or more preceeding characters from the square brackets and grouped as group 2"
   ]
  },
  {
   "cell_type": "code",
   "execution_count": 4,
   "id": "edd85d16",
   "metadata": {},
   "outputs": [
    {
     "data": {
      "text/plain": [
       "[('Khan', 'Ghengis'), ('Fitzgerald', 'F. Scott'), ('Case', 'Justin')]"
      ]
     },
     "execution_count": 4,
     "metadata": {},
     "output_type": "execute_result"
    }
   ],
   "source": [
    "re.findall('([A-Za-z]+),\\s*([A-Za-z,.\\s]+)',Text1)"
   ]
  },
  {
   "cell_type": "markdown",
   "id": "b31bff95",
   "metadata": {},
   "source": [
    "Compiled the same logical expression and replaced the group 1 with group 2 in the Text1 and assigned it to Name1"
   ]
  },
  {
   "cell_type": "code",
   "execution_count": 5,
   "id": "a61c5f84",
   "metadata": {},
   "outputs": [
    {
     "data": {
      "text/plain": [
       "'555-1239Ghengis Khan(636) 555-0113F. Scott Fitzgerald555 -6542Rev. Adam Clayton Powell 555 8904Loretta Lynn636-555-3226Justin Case5553642Dr. Julius Erving555-401-2232Constance Prudence Boringsworth'"
      ]
     },
     "execution_count": 5,
     "metadata": {},
     "output_type": "execute_result"
    }
   ],
   "source": [
    "Name = re.compile('([A-Za-z]+),\\s*([A-Za-z,.\\s]+)')\n",
    "Name1 = Name.sub(r'\\2 \\1', Text1)\n",
    "Name1"
   ]
  },
  {
   "cell_type": "markdown",
   "id": "0944ae3a",
   "metadata": {},
   "source": [
    "Used findall function to print the Resident names from the new string with proper naming standards"
   ]
  },
  {
   "cell_type": "code",
   "execution_count": 6,
   "id": "9289ef47",
   "metadata": {},
   "outputs": [
    {
     "data": {
      "text/plain": [
       "['Ghengis Khan',\n",
       " 'F. Scott Fitzgerald',\n",
       " 'Rev. Adam Clayton Powell',\n",
       " 'Loretta Lynn',\n",
       " 'Justin Case',\n",
       " 'Dr. Julius Erving',\n",
       " 'Constance Prudence Boringsworth']"
      ]
     },
     "execution_count": 6,
     "metadata": {},
     "output_type": "execute_result"
    }
   ],
   "source": [
    "Residents1 = re.findall('[A-Za-z.\\s]+[A-Za-z]+',Name1)\n",
    "Residents1"
   ]
  },
  {
   "cell_type": "markdown",
   "id": "0bf643a7",
   "metadata": {},
   "source": [
    "### 2b. Construct a logical vector indicating whether a character has a title (i.e., Rev. and Dr.)\n",
    "findall with the expression function used to get the titles of the characters\n",
    "\n",
    "The expression finds 1 character within [A-Z] followed by 1 or more preceeding characters within [a-z] and 1 \"\\.\"(Dot) character at the end"
   ]
  },
  {
   "cell_type": "code",
   "execution_count": 7,
   "id": "1ac5a17f",
   "metadata": {},
   "outputs": [
    {
     "data": {
      "text/plain": [
       "['Rev.', 'Dr.']"
      ]
     },
     "execution_count": 7,
     "metadata": {},
     "output_type": "execute_result"
    }
   ],
   "source": [
    "Title = re.findall('[A-Z][a-z]+\\.',Name1)\n",
    "Title"
   ]
  },
  {
   "cell_type": "markdown",
   "id": "211353db",
   "metadata": {},
   "source": [
    "Used pd.Series function to convert the Residents1 to pandas object"
   ]
  },
  {
   "cell_type": "code",
   "execution_count": 8,
   "id": "c947d5a1",
   "metadata": {},
   "outputs": [
    {
     "data": {
      "text/plain": [
       "0                       Ghengis Khan\n",
       "1                F. Scott Fitzgerald\n",
       "2           Rev. Adam Clayton Powell\n",
       "3                       Loretta Lynn\n",
       "4                        Justin Case\n",
       "5                  Dr. Julius Erving\n",
       "6    Constance Prudence Boringsworth\n",
       "dtype: object"
      ]
     },
     "execution_count": 8,
     "metadata": {},
     "output_type": "execute_result"
    }
   ],
   "source": [
    "Residentspd = pd.Series(Residents1)\n",
    "Residentspd"
   ]
  },
  {
   "cell_type": "markdown",
   "id": "aa35862a",
   "metadata": {},
   "source": [
    "Checked which Residents contains titles with Title index in boolean form\n",
    "\n",
    "\"+\" gave the combined output. Residents with index 2 and 5 has got the Title in the name"
   ]
  },
  {
   "cell_type": "code",
   "execution_count": 9,
   "id": "e3671fe5",
   "metadata": {},
   "outputs": [
    {
     "data": {
      "text/plain": [
       "0    False\n",
       "1    False\n",
       "2     True\n",
       "3    False\n",
       "4    False\n",
       "5     True\n",
       "6    False\n",
       "dtype: bool"
      ]
     },
     "execution_count": 9,
     "metadata": {},
     "output_type": "execute_result"
    }
   ],
   "source": [
    "Residentspd.str.contains(Title[0]) + Residentspd.str.contains(Title[1])"
   ]
  },
  {
   "cell_type": "markdown",
   "id": "9e794760",
   "metadata": {},
   "source": [
    "### 2c. Construct a logical vector indicating whether a character has a middle/second name\n",
    "Compliled the expression to find the Titles and replaced the Titles with nothing. Found this easy because \"F.\" is first name of someone and contains middlename. \"Dr.\" is the Title with no middlename and was matching the regex expression while finding the Residents with middlename\n",
    "\n",
    "Printed the String with no Titles in it"
   ]
  },
  {
   "cell_type": "code",
   "execution_count": 10,
   "id": "c1a79ec7",
   "metadata": {},
   "outputs": [
    {
     "data": {
      "text/plain": [
       "'555-1239Ghengis Khan(636) 555-0113F. Scott Fitzgerald555 -6542Adam Clayton Powell 555 8904Loretta Lynn636-555-3226Justin Case5553642Julius Erving555-401-2232Constance Prudence Boringsworth'"
      ]
     },
     "execution_count": 10,
     "metadata": {},
     "output_type": "execute_result"
    }
   ],
   "source": [
    "TitleName = re.compile('[A-Z][a-z]+\\.\\s')\n",
    "TitleName1 = TitleName.sub('',Name1)\n",
    "TitleName1"
   ]
  },
  {
   "cell_type": "markdown",
   "id": "4cf3223d",
   "metadata": {},
   "source": [
    "Found the names without Titles using the regex expression and printed the output in NameWithoutTitle"
   ]
  },
  {
   "cell_type": "code",
   "execution_count": 11,
   "id": "df81ec34",
   "metadata": {},
   "outputs": [
    {
     "data": {
      "text/plain": [
       "['Ghengis Khan',\n",
       " 'F. Scott Fitzgerald',\n",
       " 'Adam Clayton Powell',\n",
       " 'Loretta Lynn',\n",
       " 'Justin Case',\n",
       " 'Julius Erving',\n",
       " 'Constance Prudence Boringsworth']"
      ]
     },
     "execution_count": 11,
     "metadata": {},
     "output_type": "execute_result"
    }
   ],
   "source": [
    "NameWithoutTitle = re.findall('[A-Za-z.\\s]+[A-Za-z]+',TitleName1)\n",
    "NameWithoutTitle"
   ]
  },
  {
   "cell_type": "markdown",
   "id": "8e60e192",
   "metadata": {},
   "source": [
    "Found the Residents whose names contains middlename\n",
    "\n",
    "[A-Za-z.]+ finds 1 or more preceeding characters from the brackets\n",
    "\n",
    "\\s[A-Za-z]+\\s[A-Za-z]+ finds 1 or more preceeding characters from the square brackets and looks for 1 space between firstname-middlename and middlename-lastname"
   ]
  },
  {
   "cell_type": "code",
   "execution_count": 12,
   "id": "4646c10b",
   "metadata": {},
   "outputs": [
    {
     "data": {
      "text/plain": [
       "['F. Scott Fitzgerald',\n",
       " 'Adam Clayton Powell',\n",
       " 'Constance Prudence Boringsworth']"
      ]
     },
     "execution_count": 12,
     "metadata": {},
     "output_type": "execute_result"
    }
   ],
   "source": [
    "middlename = re.findall('[A-Za-z.]+\\s[A-Za-z]+\\s[A-Za-z]+',TitleName1)\n",
    "middlename"
   ]
  },
  {
   "cell_type": "markdown",
   "id": "2f54bb6a",
   "metadata": {},
   "source": [
    "Checked which Residents contains middlename with middlename index in boolean form\n",
    "\n",
    "\"+\" gave the combined output. Residents with index 1, 2 and 6 has got the middlename"
   ]
  },
  {
   "cell_type": "code",
   "execution_count": 13,
   "id": "a145638f",
   "metadata": {},
   "outputs": [
    {
     "data": {
      "text/plain": [
       "0    False\n",
       "1     True\n",
       "2     True\n",
       "3    False\n",
       "4    False\n",
       "5    False\n",
       "6     True\n",
       "dtype: bool"
      ]
     },
     "execution_count": 13,
     "metadata": {},
     "output_type": "execute_result"
    }
   ],
   "source": [
    "Residentspd.str.contains(middlename[0]) + Residentspd.str.contains(middlename[1]) + Residentspd.str.contains(middlename[2])"
   ]
  },
  {
   "cell_type": "markdown",
   "id": "5d3d554a",
   "metadata": {},
   "source": [
    "### 3. We would like to extract the first HTML tag of the HTML string. To do so we write the regular expression “<.+>”. Explain why this fails and correct the expression.\n",
    "Assigned the HTML string to Text2 variable"
   ]
  },
  {
   "cell_type": "code",
   "execution_count": 14,
   "id": "3fac48b7",
   "metadata": {},
   "outputs": [],
   "source": [
    "Text2 = \"<title>+++BREAKING NEWS+++<title>\""
   ]
  },
  {
   "cell_type": "markdown",
   "id": "7dacc189",
   "metadata": {},
   "source": [
    "The compiling expression \"<.+>\" is assigned to string1 and search function gives the searched text from the 1st location\n",
    "\n",
    "\"<.+>\" fails to give output because \".\"(Dot) matches any character except new line and + gives 1 or more preceeding characters. Hence it provides the whole string as output"
   ]
  },
  {
   "cell_type": "code",
   "execution_count": 15,
   "id": "02e6d08e",
   "metadata": {},
   "outputs": [
    {
     "data": {
      "text/plain": [
       "<re.Match object; span=(0, 33), match='<title>+++BREAKING NEWS+++<title>'>"
      ]
     },
     "execution_count": 15,
     "metadata": {},
     "output_type": "execute_result"
    }
   ],
   "source": [
    "string1 = re.compile('<.+>')\n",
    "string1.search(Text2)"
   ]
  },
  {
   "cell_type": "markdown",
   "id": "f38bd3c0",
   "metadata": {},
   "source": [
    "#### Correct expression:\n",
    "\n",
    "The compiling expression is assigned to string2 and search function gives the searched text from the 1st location\n",
    "\n",
    "\"<[a-z]+>\" searches for 1 character of \"<\" followed by 1 or more characters due to \"+\" within \"a-z\" and ends with 1 character \">\". This will provide the HTML Tag from the very 1st location"
   ]
  },
  {
   "cell_type": "code",
   "execution_count": 16,
   "id": "3dcdc587",
   "metadata": {},
   "outputs": [
    {
     "data": {
      "text/plain": [
       "<re.Match object; span=(0, 7), match='<title>'>"
      ]
     },
     "execution_count": 16,
     "metadata": {},
     "output_type": "execute_result"
    }
   ],
   "source": [
    "string2 = re.compile('<[a-z]+>')\n",
    "string2.search(Text2)"
   ]
  },
  {
   "cell_type": "markdown",
   "id": "489f95cb",
   "metadata": {},
   "source": [
    "### 4. Consider the string “(5-3)^2=5^2-2*5*3+3^2” conforms to the binomial theorem. We would like to extract the formula in the string. To do so we write the regular expression “[^0-9=+*()]+”. Explain why this fails and correct the expression.\n",
    "Assigned the string to Text3 variable"
   ]
  },
  {
   "cell_type": "code",
   "execution_count": 17,
   "id": "a3662969",
   "metadata": {},
   "outputs": [],
   "source": [
    "Text3 = \"(5-3)^2=5^2-253+3^2\""
   ]
  },
  {
   "cell_type": "markdown",
   "id": "1e5e8854",
   "metadata": {},
   "source": [
    "The compiling expression \"[^0-9=+*()]+\" is assigned to Theorem1 and findall function gives the searched text\n",
    "\n",
    "This expression fails to give output because \"^\"(Carat) symbol if given at starting position of the expression, excludes any character mentioned after it. Hence it excluded all the characters mention in the expression and gave the remaining characters as output"
   ]
  },
  {
   "cell_type": "code",
   "execution_count": 18,
   "id": "9008bcbc",
   "metadata": {},
   "outputs": [
    {
     "data": {
      "text/plain": [
       "['-', '^', '^', '-', '^']"
      ]
     },
     "execution_count": 18,
     "metadata": {},
     "output_type": "execute_result"
    }
   ],
   "source": [
    "Theorem1 = re.compile('[^0-9=+*()]+')\n",
    "Theorem1.findall(Text3)"
   ]
  },
  {
   "cell_type": "markdown",
   "id": "f7d55574",
   "metadata": {},
   "source": [
    "#### Correct expression:\n",
    "\n",
    "The compiling expression \"[0-9-=+*()^]+\" is assigned to Theorem2 and findall function gives the searched text\n",
    "\n",
    "\"^\"(Carat) symbol does not mean anything if not in the starting position of the expression and is considered as a character, hence, placed \"^\" anywhere except start position. \"+\" gives 1 or more preceeding characters mentioned in the expression were found and got the formula"
   ]
  },
  {
   "cell_type": "code",
   "execution_count": 19,
   "id": "5bc0d978",
   "metadata": {},
   "outputs": [
    {
     "data": {
      "text/plain": [
       "['(5-3)^2=5^2-253+3^2']"
      ]
     },
     "execution_count": 19,
     "metadata": {},
     "output_type": "execute_result"
    }
   ],
   "source": [
    "Theorem2 = re.compile('[0-9-=+*()^]+')\n",
    "Theorem2.findall(Text3)"
   ]
  }
 ],
 "metadata": {
  "kernelspec": {
   "display_name": "Python 3 (ipykernel)",
   "language": "python",
   "name": "python3"
  },
  "language_info": {
   "codemirror_mode": {
    "name": "ipython",
    "version": 3
   },
   "file_extension": ".py",
   "mimetype": "text/x-python",
   "name": "python",
   "nbconvert_exporter": "python",
   "pygments_lexer": "ipython3",
   "version": "3.9.12"
  }
 },
 "nbformat": 4,
 "nbformat_minor": 5
}
