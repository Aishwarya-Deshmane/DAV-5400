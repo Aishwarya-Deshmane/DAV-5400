{
 "cells": [
  {
   "cell_type": "markdown",
   "id": "243c63a4",
   "metadata": {},
   "source": [
    "# Project 4 - Predictive heart disease Analysis using scikit-learn\n",
    "\n",
    "### Submitted by :\n",
    "\n",
    "* Sweety Saha (ssaha2@mail.yu.edu)\n",
    "\n",
    "* Aishwarya Deshmane (adeshman@mail.yu.edu)\n",
    "\n",
    "* Nabid Zaman (nzaman@mail.yu.edu)\n",
    "\n",
    "\n",
    "\n"
   ]
  },
  {
   "cell_type": "markdown",
   "id": "d70c4018",
   "metadata": {},
   "source": [
    "The goal of this project is to develop a machine learning model that can predict whether or not a person has heart disease based on their medical characteristics. It explores the use of several Python-based machine learning and data science libraries. \n",
    "\n",
    "It is meant to serve as a complete illustration of what a proof of concept for data science and machine learning may entail. \n",
    "\n",
    "We are going to proceed as follows:\n",
    "* Problem Identification \n",
    "* Data\n",
    "* Evaluation\n",
    "* Features\n",
    "* Modelling\n",
    "* Conclusions\n",
    "\n",
    "\n",
    "### Problem Identification \n",
    "\n",
    "The issue we will be investigating in this instance is binary categorization (a sample can only be one of two things). \n",
    "\n",
    "This is so that we can forecast whether or not a person has heart disease using a variety of different information about that individual. \n",
    "\n",
    "Can we predict whether a patient has heart disease given their clinical characteristics?\n",
    "\n"
   ]
  },
  {
   "cell_type": "markdown",
   "id": "4f92eace",
   "metadata": {},
   "source": [
    "### Data\n",
    "\n",
    "Here, you should explore the data that your problem statement is built on. This might entail sourcing, establishing various parameters, talking to specialists about it, and learning what to anticipate. \n",
    "\n",
    "\n",
    "Only 7 (Diagnosis,\tAge\tGender,\tPainType,\tMaxHeartRate,\tExAngina,\tSTPeakSlope ) of the 11 characteristics in the dataset will be utilized in this instance. The variables we'll utilize to forecast our target variable are attributes. \n",
    "\n",
    "A goal variable can be referred to as a dependent variable, whereas attributes and characteristics are also referred to as independent variables. \n",
    "\n",
    "To forecast our dependent variable, we need the independent variables. \n",
    "\n",
    "Alternatively, in our situation, the dependent variable is whether or not a patient has heart disease, and the independent variables are their various medical characteristics."
   ]
  },
  {
   "cell_type": "markdown",
   "id": "24e47548",
   "metadata": {},
   "source": [
    "### Evaluation \n",
    "\n",
    "You might provide the assessment metric at the outset of a project. \n",
    "\n",
    "Given how experimental machine learning is, you may argue something like, \n",
    "\n",
    "We'll continue with the research if we can determine whether a patient has heart disease with 95% accuracy during the proof of concept. \n",
    "\n",
    "This is useful because it gives a machine learning engineer or data scientist a general objective to strive for. \n",
    "\n",
    "The assessment metric might, however, alter over time because of the nature of testing."
   ]
  },
  {
   "cell_type": "markdown",
   "id": "3303f0aa",
   "metadata": {},
   "source": [
    "### Features \n",
    "\n",
    "Here, you may get more specific details about each aspect of your data. You can accomplish this by conducting your own study or by consulting an authority on the subject (someone who knows about the dataset)."
   ]
  },
  {
   "cell_type": "markdown",
   "id": "bb7dd462",
   "metadata": {},
   "source": [
    "### Create data dictionary\n",
    "\n",
    "1. __Diagnosis__ - Indicates whether individual has heart disease (0 = no, >0 = yes)\n",
    "2. __Age__ - Age if individual in years\n",
    "3. __Gender__ - 1 = male; 0 = female\n",
    "4. __painType__ - Chest pain type (1 = 'Typical Angina', 2 = 'atypical angina', 3 = 'non- anginal pain', 4 = 'asymptomatic')\n",
    "5. __BloodPres__ - Resting systolic blood pressure in mm Hg\n",
    "6. __chol__ - Serum cholesterol in milligrams/decilitre\n",
    "7. __FBSugar__ - Indicator: Is fasting blood sugar > 120 mg/dl (1 = true; 0 = false)\n",
    "8. __RestECG__ - Resting echocardiogram results: 0 = normal; > 0 = abnormal\n",
    "9. __MaxHeart__ - Maximum heart rate achieved\n",
    "10. __ExAngina__ - Indicator: Is exercise induced angina present? (1 = true; 0 = false)\n",
    "11. __STPeakSlope__ - Stress test results: What is slope of peak exercise segment? (1 = 'upsloping', 2= 'flat', 3 = 'down sloping)"
   ]
  },
  {
   "cell_type": "markdown",
   "id": "10064501",
   "metadata": {},
   "source": [
    "### Preparing the tools\n",
    "\n",
    "* pandas for data analysis.\n",
    "* NumPy for numerical operations.\n",
    "* Matplotlib/seaborn for plotting or data visualization.\n",
    "* Scikit-Learn for machine learning modelling and evaluation."
   ]
  },
  {
   "cell_type": "code",
   "execution_count": 1,
   "id": "5fdbfbb2",
   "metadata": {},
   "outputs": [],
   "source": [
    "# Import all the tools we need\n",
    "\n",
    "# Regular EDA (exploratory data analysis) and plotting libraries\n",
    "import numpy as np\n",
    "import pandas as pd\n",
    "import matplotlib.pyplot as plt\n",
    "import seaborn as sns\n",
    "\n",
    "# we want our plots to appear inside the notebook\n",
    "%matplotlib inline \n",
    "\n",
    "# Models from Scikit-Learn\n",
    "from sklearn.linear_model import LogisticRegression\n",
    "from sklearn.neighbors import KNeighborsClassifier\n",
    "from sklearn.ensemble import RandomForestClassifier\n",
    "\n",
    "# Model Evaluations\n",
    "from sklearn.model_selection import train_test_split, cross_val_score, GridSearchCV\n",
    "from sklearn.metrics import precision_score, accuracy_score, confusion_matrix, classification_report, plot_roc_curve\n",
    "from sklearn.preprocessing import StandardScaler\n"
   ]
  },
  {
   "cell_type": "markdown",
   "id": "6ee4bc1c",
   "metadata": {},
   "source": [
    "### Load Data \n",
    "\n",
    "Data may be stored in a wide variety of ways. Tabular data, or data that resembles what you'd see in an Excel file, is typically stored in. in csv format. Comma-separated values is referred to as csv. \n",
    "\n",
    "To read.csv files, Pandas includes a built-in method called read csv() that accepts the file pathname (Github link) of your.csv file."
   ]
  },
  {
   "cell_type": "code",
   "execution_count": 2,
   "id": "2f0de798",
   "metadata": {},
   "outputs": [],
   "source": [
    "data = 'https://raw.githubusercontent.com/Aishwarya-Deshmane/DAV-5400/main/Project%204%20DATA.csv'\n",
    "df = pd.read_csv(data)"
   ]
  },
  {
   "cell_type": "code",
   "execution_count": 3,
   "id": "61161a4e",
   "metadata": {},
   "outputs": [
    {
     "data": {
      "text/plain": [
       "(303, 11)"
      ]
     },
     "execution_count": 3,
     "metadata": {},
     "output_type": "execute_result"
    }
   ],
   "source": [
    "df.shape # (rows, columns)"
   ]
  },
  {
   "cell_type": "code",
   "execution_count": 4,
   "id": "7e6766b1",
   "metadata": {},
   "outputs": [
    {
     "data": {
      "text/html": [
       "<div>\n",
       "<style scoped>\n",
       "    .dataframe tbody tr th:only-of-type {\n",
       "        vertical-align: middle;\n",
       "    }\n",
       "\n",
       "    .dataframe tbody tr th {\n",
       "        vertical-align: top;\n",
       "    }\n",
       "\n",
       "    .dataframe thead th {\n",
       "        text-align: right;\n",
       "    }\n",
       "</style>\n",
       "<table border=\"1\" class=\"dataframe\">\n",
       "  <thead>\n",
       "    <tr style=\"text-align: right;\">\n",
       "      <th></th>\n",
       "      <th>Diagnosis</th>\n",
       "      <th>Age</th>\n",
       "      <th>Gender</th>\n",
       "      <th>PainType</th>\n",
       "      <th>BloodPres</th>\n",
       "      <th>Chol</th>\n",
       "      <th>FBSugar</th>\n",
       "      <th>RestECG</th>\n",
       "      <th>MaxHeartRate</th>\n",
       "      <th>ExAngina</th>\n",
       "      <th>STPeakSlope</th>\n",
       "    </tr>\n",
       "  </thead>\n",
       "  <tbody>\n",
       "    <tr>\n",
       "      <th>0</th>\n",
       "      <td>0</td>\n",
       "      <td>63</td>\n",
       "      <td>1</td>\n",
       "      <td>1</td>\n",
       "      <td>145</td>\n",
       "      <td>233</td>\n",
       "      <td>1</td>\n",
       "      <td>2</td>\n",
       "      <td>150</td>\n",
       "      <td>0</td>\n",
       "      <td>3</td>\n",
       "    </tr>\n",
       "    <tr>\n",
       "      <th>1</th>\n",
       "      <td>2</td>\n",
       "      <td>67</td>\n",
       "      <td>1</td>\n",
       "      <td>4</td>\n",
       "      <td>160</td>\n",
       "      <td>286</td>\n",
       "      <td>0</td>\n",
       "      <td>2</td>\n",
       "      <td>108</td>\n",
       "      <td>1</td>\n",
       "      <td>2</td>\n",
       "    </tr>\n",
       "    <tr>\n",
       "      <th>2</th>\n",
       "      <td>1</td>\n",
       "      <td>67</td>\n",
       "      <td>1</td>\n",
       "      <td>4</td>\n",
       "      <td>120</td>\n",
       "      <td>229</td>\n",
       "      <td>0</td>\n",
       "      <td>2</td>\n",
       "      <td>129</td>\n",
       "      <td>1</td>\n",
       "      <td>2</td>\n",
       "    </tr>\n",
       "    <tr>\n",
       "      <th>3</th>\n",
       "      <td>0</td>\n",
       "      <td>37</td>\n",
       "      <td>1</td>\n",
       "      <td>3</td>\n",
       "      <td>130</td>\n",
       "      <td>250</td>\n",
       "      <td>0</td>\n",
       "      <td>0</td>\n",
       "      <td>187</td>\n",
       "      <td>0</td>\n",
       "      <td>3</td>\n",
       "    </tr>\n",
       "    <tr>\n",
       "      <th>4</th>\n",
       "      <td>0</td>\n",
       "      <td>41</td>\n",
       "      <td>0</td>\n",
       "      <td>2</td>\n",
       "      <td>130</td>\n",
       "      <td>204</td>\n",
       "      <td>0</td>\n",
       "      <td>2</td>\n",
       "      <td>172</td>\n",
       "      <td>0</td>\n",
       "      <td>1</td>\n",
       "    </tr>\n",
       "    <tr>\n",
       "      <th>...</th>\n",
       "      <td>...</td>\n",
       "      <td>...</td>\n",
       "      <td>...</td>\n",
       "      <td>...</td>\n",
       "      <td>...</td>\n",
       "      <td>...</td>\n",
       "      <td>...</td>\n",
       "      <td>...</td>\n",
       "      <td>...</td>\n",
       "      <td>...</td>\n",
       "      <td>...</td>\n",
       "    </tr>\n",
       "    <tr>\n",
       "      <th>298</th>\n",
       "      <td>1</td>\n",
       "      <td>45</td>\n",
       "      <td>1</td>\n",
       "      <td>1</td>\n",
       "      <td>110</td>\n",
       "      <td>264</td>\n",
       "      <td>0</td>\n",
       "      <td>0</td>\n",
       "      <td>132</td>\n",
       "      <td>0</td>\n",
       "      <td>2</td>\n",
       "    </tr>\n",
       "    <tr>\n",
       "      <th>299</th>\n",
       "      <td>2</td>\n",
       "      <td>68</td>\n",
       "      <td>1</td>\n",
       "      <td>4</td>\n",
       "      <td>144</td>\n",
       "      <td>193</td>\n",
       "      <td>1</td>\n",
       "      <td>0</td>\n",
       "      <td>141</td>\n",
       "      <td>0</td>\n",
       "      <td>2</td>\n",
       "    </tr>\n",
       "    <tr>\n",
       "      <th>300</th>\n",
       "      <td>3</td>\n",
       "      <td>57</td>\n",
       "      <td>1</td>\n",
       "      <td>4</td>\n",
       "      <td>130</td>\n",
       "      <td>131</td>\n",
       "      <td>0</td>\n",
       "      <td>0</td>\n",
       "      <td>115</td>\n",
       "      <td>1</td>\n",
       "      <td>2</td>\n",
       "    </tr>\n",
       "    <tr>\n",
       "      <th>301</th>\n",
       "      <td>1</td>\n",
       "      <td>57</td>\n",
       "      <td>0</td>\n",
       "      <td>2</td>\n",
       "      <td>130</td>\n",
       "      <td>236</td>\n",
       "      <td>0</td>\n",
       "      <td>2</td>\n",
       "      <td>174</td>\n",
       "      <td>0</td>\n",
       "      <td>2</td>\n",
       "    </tr>\n",
       "    <tr>\n",
       "      <th>302</th>\n",
       "      <td>0</td>\n",
       "      <td>38</td>\n",
       "      <td>1</td>\n",
       "      <td>3</td>\n",
       "      <td>138</td>\n",
       "      <td>175</td>\n",
       "      <td>0</td>\n",
       "      <td>0</td>\n",
       "      <td>173</td>\n",
       "      <td>0</td>\n",
       "      <td>1</td>\n",
       "    </tr>\n",
       "  </tbody>\n",
       "</table>\n",
       "<p>303 rows × 11 columns</p>\n",
       "</div>"
      ],
      "text/plain": [
       "     Diagnosis  Age  Gender  PainType  BloodPres  Chol  FBSugar  RestECG  \\\n",
       "0            0   63       1         1        145   233        1        2   \n",
       "1            2   67       1         4        160   286        0        2   \n",
       "2            1   67       1         4        120   229        0        2   \n",
       "3            0   37       1         3        130   250        0        0   \n",
       "4            0   41       0         2        130   204        0        2   \n",
       "..         ...  ...     ...       ...        ...   ...      ...      ...   \n",
       "298          1   45       1         1        110   264        0        0   \n",
       "299          2   68       1         4        144   193        1        0   \n",
       "300          3   57       1         4        130   131        0        0   \n",
       "301          1   57       0         2        130   236        0        2   \n",
       "302          0   38       1         3        138   175        0        0   \n",
       "\n",
       "     MaxHeartRate  ExAngina  STPeakSlope  \n",
       "0             150         0            3  \n",
       "1             108         1            2  \n",
       "2             129         1            2  \n",
       "3             187         0            3  \n",
       "4             172         0            1  \n",
       "..            ...       ...          ...  \n",
       "298           132         0            2  \n",
       "299           141         0            2  \n",
       "300           115         1            2  \n",
       "301           174         0            2  \n",
       "302           173         0            1  \n",
       "\n",
       "[303 rows x 11 columns]"
      ]
     },
     "execution_count": 4,
     "metadata": {},
     "output_type": "execute_result"
    }
   ],
   "source": [
    "df"
   ]
  },
  {
   "cell_type": "code",
   "execution_count": 5,
   "id": "3aa943e6",
   "metadata": {},
   "outputs": [
    {
     "data": {
      "text/html": [
       "<div>\n",
       "<style scoped>\n",
       "    .dataframe tbody tr th:only-of-type {\n",
       "        vertical-align: middle;\n",
       "    }\n",
       "\n",
       "    .dataframe tbody tr th {\n",
       "        vertical-align: top;\n",
       "    }\n",
       "\n",
       "    .dataframe thead th {\n",
       "        text-align: right;\n",
       "    }\n",
       "</style>\n",
       "<table border=\"1\" class=\"dataframe\">\n",
       "  <thead>\n",
       "    <tr style=\"text-align: right;\">\n",
       "      <th></th>\n",
       "      <th>Diagnosis</th>\n",
       "      <th>Age</th>\n",
       "      <th>Gender</th>\n",
       "      <th>PainType</th>\n",
       "      <th>BloodPres</th>\n",
       "      <th>Chol</th>\n",
       "      <th>MaxHeartRate</th>\n",
       "      <th>ExAngina</th>\n",
       "      <th>STPeakSlope</th>\n",
       "    </tr>\n",
       "  </thead>\n",
       "  <tbody>\n",
       "    <tr>\n",
       "      <th>0</th>\n",
       "      <td>0</td>\n",
       "      <td>63</td>\n",
       "      <td>1</td>\n",
       "      <td>1</td>\n",
       "      <td>145</td>\n",
       "      <td>233</td>\n",
       "      <td>150</td>\n",
       "      <td>0</td>\n",
       "      <td>3</td>\n",
       "    </tr>\n",
       "    <tr>\n",
       "      <th>1</th>\n",
       "      <td>2</td>\n",
       "      <td>67</td>\n",
       "      <td>1</td>\n",
       "      <td>4</td>\n",
       "      <td>160</td>\n",
       "      <td>286</td>\n",
       "      <td>108</td>\n",
       "      <td>1</td>\n",
       "      <td>2</td>\n",
       "    </tr>\n",
       "    <tr>\n",
       "      <th>2</th>\n",
       "      <td>1</td>\n",
       "      <td>67</td>\n",
       "      <td>1</td>\n",
       "      <td>4</td>\n",
       "      <td>120</td>\n",
       "      <td>229</td>\n",
       "      <td>129</td>\n",
       "      <td>1</td>\n",
       "      <td>2</td>\n",
       "    </tr>\n",
       "    <tr>\n",
       "      <th>3</th>\n",
       "      <td>0</td>\n",
       "      <td>37</td>\n",
       "      <td>1</td>\n",
       "      <td>3</td>\n",
       "      <td>130</td>\n",
       "      <td>250</td>\n",
       "      <td>187</td>\n",
       "      <td>0</td>\n",
       "      <td>3</td>\n",
       "    </tr>\n",
       "    <tr>\n",
       "      <th>4</th>\n",
       "      <td>0</td>\n",
       "      <td>41</td>\n",
       "      <td>0</td>\n",
       "      <td>2</td>\n",
       "      <td>130</td>\n",
       "      <td>204</td>\n",
       "      <td>172</td>\n",
       "      <td>0</td>\n",
       "      <td>1</td>\n",
       "    </tr>\n",
       "    <tr>\n",
       "      <th>...</th>\n",
       "      <td>...</td>\n",
       "      <td>...</td>\n",
       "      <td>...</td>\n",
       "      <td>...</td>\n",
       "      <td>...</td>\n",
       "      <td>...</td>\n",
       "      <td>...</td>\n",
       "      <td>...</td>\n",
       "      <td>...</td>\n",
       "    </tr>\n",
       "    <tr>\n",
       "      <th>298</th>\n",
       "      <td>1</td>\n",
       "      <td>45</td>\n",
       "      <td>1</td>\n",
       "      <td>1</td>\n",
       "      <td>110</td>\n",
       "      <td>264</td>\n",
       "      <td>132</td>\n",
       "      <td>0</td>\n",
       "      <td>2</td>\n",
       "    </tr>\n",
       "    <tr>\n",
       "      <th>299</th>\n",
       "      <td>2</td>\n",
       "      <td>68</td>\n",
       "      <td>1</td>\n",
       "      <td>4</td>\n",
       "      <td>144</td>\n",
       "      <td>193</td>\n",
       "      <td>141</td>\n",
       "      <td>0</td>\n",
       "      <td>2</td>\n",
       "    </tr>\n",
       "    <tr>\n",
       "      <th>300</th>\n",
       "      <td>3</td>\n",
       "      <td>57</td>\n",
       "      <td>1</td>\n",
       "      <td>4</td>\n",
       "      <td>130</td>\n",
       "      <td>131</td>\n",
       "      <td>115</td>\n",
       "      <td>1</td>\n",
       "      <td>2</td>\n",
       "    </tr>\n",
       "    <tr>\n",
       "      <th>301</th>\n",
       "      <td>1</td>\n",
       "      <td>57</td>\n",
       "      <td>0</td>\n",
       "      <td>2</td>\n",
       "      <td>130</td>\n",
       "      <td>236</td>\n",
       "      <td>174</td>\n",
       "      <td>0</td>\n",
       "      <td>2</td>\n",
       "    </tr>\n",
       "    <tr>\n",
       "      <th>302</th>\n",
       "      <td>0</td>\n",
       "      <td>38</td>\n",
       "      <td>1</td>\n",
       "      <td>3</td>\n",
       "      <td>138</td>\n",
       "      <td>175</td>\n",
       "      <td>173</td>\n",
       "      <td>0</td>\n",
       "      <td>1</td>\n",
       "    </tr>\n",
       "  </tbody>\n",
       "</table>\n",
       "<p>303 rows × 9 columns</p>\n",
       "</div>"
      ],
      "text/plain": [
       "     Diagnosis  Age  Gender  PainType  BloodPres  Chol  MaxHeartRate  \\\n",
       "0            0   63       1         1        145   233           150   \n",
       "1            2   67       1         4        160   286           108   \n",
       "2            1   67       1         4        120   229           129   \n",
       "3            0   37       1         3        130   250           187   \n",
       "4            0   41       0         2        130   204           172   \n",
       "..         ...  ...     ...       ...        ...   ...           ...   \n",
       "298          1   45       1         1        110   264           132   \n",
       "299          2   68       1         4        144   193           141   \n",
       "300          3   57       1         4        130   131           115   \n",
       "301          1   57       0         2        130   236           174   \n",
       "302          0   38       1         3        138   175           173   \n",
       "\n",
       "     ExAngina  STPeakSlope  \n",
       "0           0            3  \n",
       "1           1            2  \n",
       "2           1            2  \n",
       "3           0            3  \n",
       "4           0            1  \n",
       "..        ...          ...  \n",
       "298         0            2  \n",
       "299         0            2  \n",
       "300         1            2  \n",
       "301         0            2  \n",
       "302         0            1  \n",
       "\n",
       "[303 rows x 9 columns]"
      ]
     },
     "execution_count": 5,
     "metadata": {},
     "output_type": "execute_result"
    }
   ],
   "source": [
    "df2 = df.drop(['RestECG','FBSugar'],axis=1)\n",
    "df2"
   ]
  },
  {
   "cell_type": "markdown",
   "id": "ef684dd5",
   "metadata": {},
   "source": [
    "## Data Exploration (Exploratory data analysis or EDA)"
   ]
  },
  {
   "cell_type": "markdown",
   "id": "cea5f7e6",
   "metadata": {},
   "source": [
    "The following stage after importing a dataset is exploration. There is no one method to go about this. But you should aim to familiarize yourself with the dataset more and more. \n",
    "\n",
    "Compare various columns to one another and to the desired variable. Review your data dictionary to refresh your memory on the definitions of the various columns. \n",
    "\n",
    "Being an authority on the dataset you're dealing with is your aim. As a result, if someone has a question about it, you may explain it to them. When developing models, you can also sound test them to make sure they're not overfitting or otherwise functioning poorly (underfitting). "
   ]
  },
  {
   "cell_type": "markdown",
   "id": "4b73326e",
   "metadata": {},
   "source": [
    "The following is a quick checklist you might wish to go through because there isn't really a standard methodology for EDA. \n",
    " \n",
    "* What issue(s) are you attempting to resolve (or disprove)? \n",
    "* Which forms of data do you have, and how do you handle them? \n",
    "* What information is absent from the data, and how do you handle it? \n",
    "* What is an outlier, and why should you be concerned about it? \n",
    "* How can you enhance, modify, or eliminate features to make the most of your data? \n",
    "\n",
    "The head() method is one of the quickest and simplest ways to verify your data. It prints the top 5 rows for any dataframe when called, and the bottom 5 when called by tail(). You can also give them a number, such as head(10)  to show the top 10 rows."
   ]
  },
  {
   "cell_type": "code",
   "execution_count": 6,
   "id": "517bc6ff",
   "metadata": {},
   "outputs": [
    {
     "data": {
      "text/html": [
       "<div>\n",
       "<style scoped>\n",
       "    .dataframe tbody tr th:only-of-type {\n",
       "        vertical-align: middle;\n",
       "    }\n",
       "\n",
       "    .dataframe tbody tr th {\n",
       "        vertical-align: top;\n",
       "    }\n",
       "\n",
       "    .dataframe thead th {\n",
       "        text-align: right;\n",
       "    }\n",
       "</style>\n",
       "<table border=\"1\" class=\"dataframe\">\n",
       "  <thead>\n",
       "    <tr style=\"text-align: right;\">\n",
       "      <th></th>\n",
       "      <th>Diagnosis</th>\n",
       "      <th>Age</th>\n",
       "      <th>Gender</th>\n",
       "      <th>PainType</th>\n",
       "      <th>BloodPres</th>\n",
       "      <th>Chol</th>\n",
       "      <th>MaxHeartRate</th>\n",
       "      <th>ExAngina</th>\n",
       "      <th>STPeakSlope</th>\n",
       "    </tr>\n",
       "  </thead>\n",
       "  <tbody>\n",
       "    <tr>\n",
       "      <th>0</th>\n",
       "      <td>0</td>\n",
       "      <td>63</td>\n",
       "      <td>1</td>\n",
       "      <td>1</td>\n",
       "      <td>145</td>\n",
       "      <td>233</td>\n",
       "      <td>150</td>\n",
       "      <td>0</td>\n",
       "      <td>3</td>\n",
       "    </tr>\n",
       "    <tr>\n",
       "      <th>1</th>\n",
       "      <td>2</td>\n",
       "      <td>67</td>\n",
       "      <td>1</td>\n",
       "      <td>4</td>\n",
       "      <td>160</td>\n",
       "      <td>286</td>\n",
       "      <td>108</td>\n",
       "      <td>1</td>\n",
       "      <td>2</td>\n",
       "    </tr>\n",
       "    <tr>\n",
       "      <th>2</th>\n",
       "      <td>1</td>\n",
       "      <td>67</td>\n",
       "      <td>1</td>\n",
       "      <td>4</td>\n",
       "      <td>120</td>\n",
       "      <td>229</td>\n",
       "      <td>129</td>\n",
       "      <td>1</td>\n",
       "      <td>2</td>\n",
       "    </tr>\n",
       "    <tr>\n",
       "      <th>3</th>\n",
       "      <td>0</td>\n",
       "      <td>37</td>\n",
       "      <td>1</td>\n",
       "      <td>3</td>\n",
       "      <td>130</td>\n",
       "      <td>250</td>\n",
       "      <td>187</td>\n",
       "      <td>0</td>\n",
       "      <td>3</td>\n",
       "    </tr>\n",
       "    <tr>\n",
       "      <th>4</th>\n",
       "      <td>0</td>\n",
       "      <td>41</td>\n",
       "      <td>0</td>\n",
       "      <td>2</td>\n",
       "      <td>130</td>\n",
       "      <td>204</td>\n",
       "      <td>172</td>\n",
       "      <td>0</td>\n",
       "      <td>1</td>\n",
       "    </tr>\n",
       "  </tbody>\n",
       "</table>\n",
       "</div>"
      ],
      "text/plain": [
       "   Diagnosis  Age  Gender  PainType  BloodPres  Chol  MaxHeartRate  ExAngina  \\\n",
       "0          0   63       1         1        145   233           150         0   \n",
       "1          2   67       1         4        160   286           108         1   \n",
       "2          1   67       1         4        120   229           129         1   \n",
       "3          0   37       1         3        130   250           187         0   \n",
       "4          0   41       0         2        130   204           172         0   \n",
       "\n",
       "   STPeakSlope  \n",
       "0            3  \n",
       "1            2  \n",
       "2            2  \n",
       "3            3  \n",
       "4            1  "
      ]
     },
     "execution_count": 6,
     "metadata": {},
     "output_type": "execute_result"
    }
   ],
   "source": [
    "df2.head()"
   ]
  },
  {
   "cell_type": "code",
   "execution_count": 7,
   "id": "242fe0be",
   "metadata": {},
   "outputs": [
    {
     "data": {
      "text/html": [
       "<div>\n",
       "<style scoped>\n",
       "    .dataframe tbody tr th:only-of-type {\n",
       "        vertical-align: middle;\n",
       "    }\n",
       "\n",
       "    .dataframe tbody tr th {\n",
       "        vertical-align: top;\n",
       "    }\n",
       "\n",
       "    .dataframe thead th {\n",
       "        text-align: right;\n",
       "    }\n",
       "</style>\n",
       "<table border=\"1\" class=\"dataframe\">\n",
       "  <thead>\n",
       "    <tr style=\"text-align: right;\">\n",
       "      <th></th>\n",
       "      <th>Diagnosis</th>\n",
       "      <th>Age</th>\n",
       "      <th>Gender</th>\n",
       "      <th>PainType</th>\n",
       "      <th>BloodPres</th>\n",
       "      <th>Chol</th>\n",
       "      <th>MaxHeartRate</th>\n",
       "      <th>ExAngina</th>\n",
       "      <th>STPeakSlope</th>\n",
       "    </tr>\n",
       "  </thead>\n",
       "  <tbody>\n",
       "    <tr>\n",
       "      <th>298</th>\n",
       "      <td>1</td>\n",
       "      <td>45</td>\n",
       "      <td>1</td>\n",
       "      <td>1</td>\n",
       "      <td>110</td>\n",
       "      <td>264</td>\n",
       "      <td>132</td>\n",
       "      <td>0</td>\n",
       "      <td>2</td>\n",
       "    </tr>\n",
       "    <tr>\n",
       "      <th>299</th>\n",
       "      <td>2</td>\n",
       "      <td>68</td>\n",
       "      <td>1</td>\n",
       "      <td>4</td>\n",
       "      <td>144</td>\n",
       "      <td>193</td>\n",
       "      <td>141</td>\n",
       "      <td>0</td>\n",
       "      <td>2</td>\n",
       "    </tr>\n",
       "    <tr>\n",
       "      <th>300</th>\n",
       "      <td>3</td>\n",
       "      <td>57</td>\n",
       "      <td>1</td>\n",
       "      <td>4</td>\n",
       "      <td>130</td>\n",
       "      <td>131</td>\n",
       "      <td>115</td>\n",
       "      <td>1</td>\n",
       "      <td>2</td>\n",
       "    </tr>\n",
       "    <tr>\n",
       "      <th>301</th>\n",
       "      <td>1</td>\n",
       "      <td>57</td>\n",
       "      <td>0</td>\n",
       "      <td>2</td>\n",
       "      <td>130</td>\n",
       "      <td>236</td>\n",
       "      <td>174</td>\n",
       "      <td>0</td>\n",
       "      <td>2</td>\n",
       "    </tr>\n",
       "    <tr>\n",
       "      <th>302</th>\n",
       "      <td>0</td>\n",
       "      <td>38</td>\n",
       "      <td>1</td>\n",
       "      <td>3</td>\n",
       "      <td>138</td>\n",
       "      <td>175</td>\n",
       "      <td>173</td>\n",
       "      <td>0</td>\n",
       "      <td>1</td>\n",
       "    </tr>\n",
       "  </tbody>\n",
       "</table>\n",
       "</div>"
      ],
      "text/plain": [
       "     Diagnosis  Age  Gender  PainType  BloodPres  Chol  MaxHeartRate  \\\n",
       "298          1   45       1         1        110   264           132   \n",
       "299          2   68       1         4        144   193           141   \n",
       "300          3   57       1         4        130   131           115   \n",
       "301          1   57       0         2        130   236           174   \n",
       "302          0   38       1         3        138   175           173   \n",
       "\n",
       "     ExAngina  STPeakSlope  \n",
       "298         0            2  \n",
       "299         0            2  \n",
       "300         1            2  \n",
       "301         0            2  \n",
       "302         0            1  "
      ]
     },
     "execution_count": 7,
     "metadata": {},
     "output_type": "execute_result"
    }
   ],
   "source": [
    "df2.tail()"
   ]
  },
  {
   "cell_type": "code",
   "execution_count": 8,
   "id": "808f50a3",
   "metadata": {},
   "outputs": [
    {
     "data": {
      "text/plain": [
       "array([[<AxesSubplot:title={'center':'Diagnosis'}>,\n",
       "        <AxesSubplot:title={'center':'Age'}>,\n",
       "        <AxesSubplot:title={'center':'Gender'}>],\n",
       "       [<AxesSubplot:title={'center':'PainType'}>,\n",
       "        <AxesSubplot:title={'center':'BloodPres'}>,\n",
       "        <AxesSubplot:title={'center':'Chol'}>],\n",
       "       [<AxesSubplot:title={'center':'MaxHeartRate'}>,\n",
       "        <AxesSubplot:title={'center':'ExAngina'}>,\n",
       "        <AxesSubplot:title={'center':'STPeakSlope'}>]], dtype=object)"
      ]
     },
     "execution_count": 8,
     "metadata": {},
     "output_type": "execute_result"
    },
    {
     "data": {
      "image/png": "[encoded data removed]",
      "text/plain": [
       "<Figure size 1080x1440 with 9 Axes>"
      ]
     },
     "metadata": {
      "needs_background": "light"
     },
     "output_type": "display_data"
    }
   ],
   "source": [
    "#Distribution of all the variables of the DataFrame\n",
    "df2.hist(figsize=(15,20),bins=10,color='red',edgecolor='black')"
   ]
  },
  {
   "cell_type": "markdown",
   "id": "402121dc",
   "metadata": {},
   "source": [
    "All of the numerical variables are distributed into positive numbers, as can be seen from these histograms (there is no incoherent negative values)."
   ]
  },
  {
   "cell_type": "markdown",
   "id": "9b5ec16d",
   "metadata": {},
   "source": [
    "You may display the frequency of each value in a category column with value_ counts()."
   ]
  },
  {
   "cell_type": "code",
   "execution_count": 9,
   "id": "b8046801",
   "metadata": {},
   "outputs": [
    {
     "data": {
      "text/plain": [
       "0    164\n",
       "1     55\n",
       "2     36\n",
       "3     35\n",
       "4     13\n",
       "Name: Diagnosis, dtype: int64"
      ]
     },
     "execution_count": 9,
     "metadata": {},
     "output_type": "execute_result"
    }
   ],
   "source": [
    "# Let's see how many positive (1) and negative (0) samples we have in our dataframe\n",
    "df2.Diagnosis.value_counts()"
   ]
  },
  {
   "cell_type": "markdown",
   "id": "84ccd37b",
   "metadata": {},
   "source": [
    "Value counts() accepts an option, normalize, which may be set to true if you'd like these numbers in percentages."
   ]
  },
  {
   "cell_type": "code",
   "execution_count": 10,
   "id": "c57468e9",
   "metadata": {
    "scrolled": true
   },
   "outputs": [
    {
     "data": {
      "text/plain": [
       "0    0.541254\n",
       "1    0.181518\n",
       "2    0.118812\n",
       "3    0.115512\n",
       "4    0.042904\n",
       "Name: Diagnosis, dtype: float64"
      ]
     },
     "execution_count": 10,
     "metadata": {},
     "output_type": "execute_result"
    }
   ],
   "source": [
    "# Normalized value counts\n",
    "df2.Diagnosis.value_counts(normalize=True)\n"
   ]
  },
  {
   "cell_type": "code",
   "execution_count": 11,
   "id": "8785e369",
   "metadata": {},
   "outputs": [
    {
     "data": {
      "image/png": "[encoded data removed]",
      "text/plain": [
       "<Figure size 432x288 with 1 Axes>"
      ]
     },
     "metadata": {
      "needs_background": "light"
     },
     "output_type": "display_data"
    }
   ],
   "source": [
    "df2[\"Diagnosis\"].value_counts().plot(kind=\"bar\", color=[\"blue\", \"lightblue\",\"purple\"]);\n"
   ]
  },
  {
   "cell_type": "code",
   "execution_count": 12,
   "id": "e8f7f084",
   "metadata": {},
   "outputs": [
    {
     "data": {
      "text/plain": [
       "4    144\n",
       "3     86\n",
       "2     50\n",
       "1     23\n",
       "Name: PainType, dtype: int64"
      ]
     },
     "execution_count": 12,
     "metadata": {},
     "output_type": "execute_result"
    }
   ],
   "source": [
    "df2.PainType.value_counts()"
   ]
  },
  {
   "cell_type": "code",
   "execution_count": 13,
   "id": "b9bd65b8",
   "metadata": {},
   "outputs": [
    {
     "data": {
      "image/png": "[encoded data removed]",
      "text/plain": [
       "<Figure size 432x288 with 1 Axes>"
      ]
     },
     "metadata": {
      "needs_background": "light"
     },
     "output_type": "display_data"
    }
   ],
   "source": [
    "df2[\"PainType\"].value_counts().plot(kind=\"bar\", color=[\"pink\", \"lightblue\"]);\n",
    "\n"
   ]
  },
  {
   "cell_type": "code",
   "execution_count": 14,
   "id": "3c033c0d",
   "metadata": {
    "scrolled": true
   },
   "outputs": [
    {
     "data": {
      "text/plain": [
       "0    204\n",
       "1     99\n",
       "Name: ExAngina, dtype: int64"
      ]
     },
     "execution_count": 14,
     "metadata": {},
     "output_type": "execute_result"
    }
   ],
   "source": [
    "df2.ExAngina.value_counts()"
   ]
  },
  {
   "cell_type": "markdown",
   "id": "3804d4aa",
   "metadata": {},
   "source": [
    "By invoking the plot() method and specifying the type of plot we'd want, in this example, bar is good, we can plot the target column value counts."
   ]
  },
  {
   "cell_type": "code",
   "execution_count": 15,
   "id": "7a2e054a",
   "metadata": {},
   "outputs": [
    {
     "data": {
      "image/png": "[encoded data removed]",
      "text/plain": [
       "<Figure size 432x288 with 1 Axes>"
      ]
     },
     "metadata": {
      "needs_background": "light"
     },
     "output_type": "display_data"
    }
   ],
   "source": [
    "# Plot the value_counts with a bar graph\n",
    "df2.ExAngina.value_counts().plot(kind=\"bar\", color=[\"pink\", \"lightblue\"]);"
   ]
  },
  {
   "cell_type": "code",
   "execution_count": 16,
   "id": "dc7ef281",
   "metadata": {},
   "outputs": [
    {
     "data": {
      "text/plain": [
       "1    142\n",
       "2    140\n",
       "3     21\n",
       "Name: STPeakSlope, dtype: int64"
      ]
     },
     "execution_count": 16,
     "metadata": {},
     "output_type": "execute_result"
    }
   ],
   "source": [
    "df2.STPeakSlope.value_counts()"
   ]
  },
  {
   "cell_type": "code",
   "execution_count": 17,
   "id": "3bac5447",
   "metadata": {},
   "outputs": [
    {
     "data": {
      "image/png": "[encoded data removed]",
      "text/plain": [
       "<Figure size 432x288 with 1 Axes>"
      ]
     },
     "metadata": {
      "needs_background": "light"
     },
     "output_type": "display_data"
    }
   ],
   "source": [
    "# Plot the value_counts with a bar graph\n",
    "df2.STPeakSlope.value_counts().plot(kind=\"bar\", color=[\"orange\", \"lightgreen\"]);"
   ]
  },
  {
   "cell_type": "code",
   "execution_count": 18,
   "id": "91a9e01f",
   "metadata": {},
   "outputs": [
    {
     "data": {
      "image/png": "[encoded data removed]",
      "text/plain": [
       "<Figure size 1080x648 with 1 Axes>"
      ]
     },
     "metadata": {
      "needs_background": "light"
     },
     "output_type": "display_data"
    }
   ],
   "source": [
    "df2.Age.value_counts().plot(kind=\"bar\", color=[\"orange\", \"lightgreen\"],figsize=(15,9));"
   ]
  },
  {
   "cell_type": "code",
   "execution_count": 19,
   "id": "8eb626b2",
   "metadata": {},
   "outputs": [
    {
     "data": {
      "image/png": "[encoded data removed]",
      "text/plain": [
       "<Figure size 432x288 with 1 Axes>"
      ]
     },
     "metadata": {
      "needs_background": "light"
     },
     "output_type": "display_data"
    }
   ],
   "source": [
    "df2.Gender.value_counts().plot(kind=\"bar\", color=[\"PURPLE\", \"green\"]);"
   ]
  },
  {
   "cell_type": "code",
   "execution_count": 20,
   "id": "bf9f8787",
   "metadata": {},
   "outputs": [
    {
     "data": {
      "text/plain": [
       "<AxesSubplot:ylabel='Frequency'>"
      ]
     },
     "execution_count": 20,
     "metadata": {},
     "output_type": "execute_result"
    },
    {
     "data": {
      "image/png": "[encoded data removed]",
      "text/plain": [
       "<Figure size 432x288 with 1 Axes>"
      ]
     },
     "metadata": {
      "needs_background": "light"
     },
     "output_type": "display_data"
    }
   ],
   "source": [
    "df2['Age'].plot(kind='hist', edgecolor='black')"
   ]
  },
  {
   "cell_type": "markdown",
   "id": "c6fd01ce",
   "metadata": {},
   "source": [
    "The df.info() function provides a brief overview of your data's kind and the quantity of missing values. \n",
    "\n",
    "In our scenario, all of our columns are numerical and there are no missing data."
   ]
  },
  {
   "cell_type": "code",
   "execution_count": 21,
   "id": "4cce66d6",
   "metadata": {},
   "outputs": [
    {
     "name": "stdout",
     "output_type": "stream",
     "text": [
      "<class 'pandas.core.frame.DataFrame'>\n",
      "RangeIndex: 303 entries, 0 to 302\n",
      "Data columns (total 9 columns):\n",
      " #   Column        Non-Null Count  Dtype\n",
      "---  ------        --------------  -----\n",
      " 0   Diagnosis     303 non-null    int64\n",
      " 1   Age           303 non-null    int64\n",
      " 2   Gender        303 non-null    int64\n",
      " 3   PainType      303 non-null    int64\n",
      " 4   BloodPres     303 non-null    int64\n",
      " 5   Chol          303 non-null    int64\n",
      " 6   MaxHeartRate  303 non-null    int64\n",
      " 7   ExAngina      303 non-null    int64\n",
      " 8   STPeakSlope   303 non-null    int64\n",
      "dtypes: int64(9)\n",
      "memory usage: 21.4 KB\n"
     ]
    }
   ],
   "source": [
    "df2.info()"
   ]
  },
  {
   "cell_type": "code",
   "execution_count": 22,
   "id": "b27b5eda",
   "metadata": {},
   "outputs": [
    {
     "data": {
      "text/plain": [
       "Diagnosis       0\n",
       "Age             0\n",
       "Gender          0\n",
       "PainType        0\n",
       "BloodPres       0\n",
       "Chol            0\n",
       "MaxHeartRate    0\n",
       "ExAngina        0\n",
       "STPeakSlope     0\n",
       "dtype: int64"
      ]
     },
     "execution_count": 22,
     "metadata": {},
     "output_type": "execute_result"
    }
   ],
   "source": [
    "# Are there any missing values?\n",
    "df2.isna().sum()"
   ]
  },
  {
   "cell_type": "markdown",
   "id": "e50b25f9",
   "metadata": {},
   "source": [
    "Using \"df.describe()\" is another simple approach to see your dataframe's insides. The function \"describe()\" displays a variety of metrics about your numerical columns, including mean, maximum, and standard deviation."
   ]
  },
  {
   "cell_type": "code",
   "execution_count": 23,
   "id": "7ea1b8ea",
   "metadata": {},
   "outputs": [
    {
     "data": {
      "text/html": [
       "<div>\n",
       "<style scoped>\n",
       "    .dataframe tbody tr th:only-of-type {\n",
       "        vertical-align: middle;\n",
       "    }\n",
       "\n",
       "    .dataframe tbody tr th {\n",
       "        vertical-align: top;\n",
       "    }\n",
       "\n",
       "    .dataframe thead th {\n",
       "        text-align: right;\n",
       "    }\n",
       "</style>\n",
       "<table border=\"1\" class=\"dataframe\">\n",
       "  <thead>\n",
       "    <tr style=\"text-align: right;\">\n",
       "      <th></th>\n",
       "      <th>Diagnosis</th>\n",
       "      <th>Age</th>\n",
       "      <th>Gender</th>\n",
       "      <th>PainType</th>\n",
       "      <th>BloodPres</th>\n",
       "      <th>Chol</th>\n",
       "      <th>MaxHeartRate</th>\n",
       "      <th>ExAngina</th>\n",
       "      <th>STPeakSlope</th>\n",
       "    </tr>\n",
       "  </thead>\n",
       "  <tbody>\n",
       "    <tr>\n",
       "      <th>count</th>\n",
       "      <td>303.000000</td>\n",
       "      <td>303.000000</td>\n",
       "      <td>303.000000</td>\n",
       "      <td>303.000000</td>\n",
       "      <td>303.000000</td>\n",
       "      <td>303.000000</td>\n",
       "      <td>303.000000</td>\n",
       "      <td>303.000000</td>\n",
       "      <td>303.000000</td>\n",
       "    </tr>\n",
       "    <tr>\n",
       "      <th>mean</th>\n",
       "      <td>0.937294</td>\n",
       "      <td>54.438944</td>\n",
       "      <td>0.679868</td>\n",
       "      <td>3.158416</td>\n",
       "      <td>131.689769</td>\n",
       "      <td>246.693069</td>\n",
       "      <td>149.607261</td>\n",
       "      <td>0.326733</td>\n",
       "      <td>1.600660</td>\n",
       "    </tr>\n",
       "    <tr>\n",
       "      <th>std</th>\n",
       "      <td>1.228536</td>\n",
       "      <td>9.038662</td>\n",
       "      <td>0.467299</td>\n",
       "      <td>0.960126</td>\n",
       "      <td>17.599748</td>\n",
       "      <td>51.776918</td>\n",
       "      <td>22.875003</td>\n",
       "      <td>0.469794</td>\n",
       "      <td>0.616226</td>\n",
       "    </tr>\n",
       "    <tr>\n",
       "      <th>min</th>\n",
       "      <td>0.000000</td>\n",
       "      <td>29.000000</td>\n",
       "      <td>0.000000</td>\n",
       "      <td>1.000000</td>\n",
       "      <td>94.000000</td>\n",
       "      <td>126.000000</td>\n",
       "      <td>71.000000</td>\n",
       "      <td>0.000000</td>\n",
       "      <td>1.000000</td>\n",
       "    </tr>\n",
       "    <tr>\n",
       "      <th>25%</th>\n",
       "      <td>0.000000</td>\n",
       "      <td>48.000000</td>\n",
       "      <td>0.000000</td>\n",
       "      <td>3.000000</td>\n",
       "      <td>120.000000</td>\n",
       "      <td>211.000000</td>\n",
       "      <td>133.500000</td>\n",
       "      <td>0.000000</td>\n",
       "      <td>1.000000</td>\n",
       "    </tr>\n",
       "    <tr>\n",
       "      <th>50%</th>\n",
       "      <td>0.000000</td>\n",
       "      <td>56.000000</td>\n",
       "      <td>1.000000</td>\n",
       "      <td>3.000000</td>\n",
       "      <td>130.000000</td>\n",
       "      <td>241.000000</td>\n",
       "      <td>153.000000</td>\n",
       "      <td>0.000000</td>\n",
       "      <td>2.000000</td>\n",
       "    </tr>\n",
       "    <tr>\n",
       "      <th>75%</th>\n",
       "      <td>2.000000</td>\n",
       "      <td>61.000000</td>\n",
       "      <td>1.000000</td>\n",
       "      <td>4.000000</td>\n",
       "      <td>140.000000</td>\n",
       "      <td>275.000000</td>\n",
       "      <td>166.000000</td>\n",
       "      <td>1.000000</td>\n",
       "      <td>2.000000</td>\n",
       "    </tr>\n",
       "    <tr>\n",
       "      <th>max</th>\n",
       "      <td>4.000000</td>\n",
       "      <td>77.000000</td>\n",
       "      <td>1.000000</td>\n",
       "      <td>4.000000</td>\n",
       "      <td>200.000000</td>\n",
       "      <td>564.000000</td>\n",
       "      <td>202.000000</td>\n",
       "      <td>1.000000</td>\n",
       "      <td>3.000000</td>\n",
       "    </tr>\n",
       "  </tbody>\n",
       "</table>\n",
       "</div>"
      ],
      "text/plain": [
       "        Diagnosis         Age      Gender    PainType   BloodPres        Chol  \\\n",
       "count  303.000000  303.000000  303.000000  303.000000  303.000000  303.000000   \n",
       "mean     0.937294   54.438944    0.679868    3.158416  131.689769  246.693069   \n",
       "std      1.228536    9.038662    0.467299    0.960126   17.599748   51.776918   \n",
       "min      0.000000   29.000000    0.000000    1.000000   94.000000  126.000000   \n",
       "25%      0.000000   48.000000    0.000000    3.000000  120.000000  211.000000   \n",
       "50%      0.000000   56.000000    1.000000    3.000000  130.000000  241.000000   \n",
       "75%      2.000000   61.000000    1.000000    4.000000  140.000000  275.000000   \n",
       "max      4.000000   77.000000    1.000000    4.000000  200.000000  564.000000   \n",
       "\n",
       "       MaxHeartRate    ExAngina  STPeakSlope  \n",
       "count    303.000000  303.000000   303.000000  \n",
       "mean     149.607261    0.326733     1.600660  \n",
       "std       22.875003    0.469794     0.616226  \n",
       "min       71.000000    0.000000     1.000000  \n",
       "25%      133.500000    0.000000     1.000000  \n",
       "50%      153.000000    0.000000     2.000000  \n",
       "75%      166.000000    1.000000     2.000000  \n",
       "max      202.000000    1.000000     3.000000  "
      ]
     },
     "execution_count": 23,
     "metadata": {},
     "output_type": "execute_result"
    }
   ],
   "source": [
    "df2.describe()"
   ]
  },
  {
   "cell_type": "markdown",
   "id": "ef9bc515",
   "metadata": {},
   "source": [
    "### Heart Disease Frequency according to Gender"
   ]
  },
  {
   "cell_type": "markdown",
   "id": "95f762a0",
   "metadata": {},
   "source": [
    "Use the function pd.crosstab(column 1, column 2) to compare two columns to one another. \n",
    "\n",
    "This is useful if you want to start developing a sense for how your independent and dependent variables interact. \n",
    "\n",
    "Comparing our ExAngina column to the Gender column can help. \n",
    "\n",
    "\n",
    "Recall that the ExAngina column in our data dictionary asks: \"Is exercise-induced angina present?\" (0 is false; 1 is true). and for sex, 0 is female and 1 is male."
   ]
  },
  {
   "cell_type": "code",
   "execution_count": 24,
   "id": "a1767fd3",
   "metadata": {},
   "outputs": [
    {
     "data": {
      "text/plain": [
       "1    206\n",
       "0     97\n",
       "Name: Gender, dtype: int64"
      ]
     },
     "execution_count": 24,
     "metadata": {},
     "output_type": "execute_result"
    }
   ],
   "source": [
    "df.Gender.value_counts()"
   ]
  },
  {
   "cell_type": "markdown",
   "id": "e12238c8",
   "metadata": {},
   "source": [
    "There are 206 males and 97 females in our study."
   ]
  },
  {
   "cell_type": "code",
   "execution_count": 25,
   "id": "09f89488",
   "metadata": {},
   "outputs": [
    {
     "data": {
      "text/html": [
       "<div>\n",
       "<style scoped>\n",
       "    .dataframe tbody tr th:only-of-type {\n",
       "        vertical-align: middle;\n",
       "    }\n",
       "\n",
       "    .dataframe tbody tr th {\n",
       "        vertical-align: top;\n",
       "    }\n",
       "\n",
       "    .dataframe thead th {\n",
       "        text-align: right;\n",
       "    }\n",
       "</style>\n",
       "<table border=\"1\" class=\"dataframe\">\n",
       "  <thead>\n",
       "    <tr style=\"text-align: right;\">\n",
       "      <th>Gender</th>\n",
       "      <th>0</th>\n",
       "      <th>1</th>\n",
       "    </tr>\n",
       "    <tr>\n",
       "      <th>ExAngina</th>\n",
       "      <th></th>\n",
       "      <th></th>\n",
       "    </tr>\n",
       "  </thead>\n",
       "  <tbody>\n",
       "    <tr>\n",
       "      <th>0</th>\n",
       "      <td>75</td>\n",
       "      <td>129</td>\n",
       "    </tr>\n",
       "    <tr>\n",
       "      <th>1</th>\n",
       "      <td>22</td>\n",
       "      <td>77</td>\n",
       "    </tr>\n",
       "  </tbody>\n",
       "</table>\n",
       "</div>"
      ],
      "text/plain": [
       "Gender     0    1\n",
       "ExAngina         \n",
       "0         75  129\n",
       "1         22   77"
      ]
     },
     "execution_count": 25,
     "metadata": {},
     "output_type": "execute_result"
    }
   ],
   "source": [
    "# Compare the gender column with the ExAngina column.\n",
    "pd.crosstab(df.ExAngina, df.Gender)"
   ]
  },
  {
   "cell_type": "markdown",
   "id": "5dc8e31a",
   "metadata": {},
   "source": [
    "Angina is chest pain or discomfort that develops when your heart muscle is not receiving adequate blood flow.\n",
    "\n",
    "\n",
    "What is the implication of this? Let's develop a basic heuristic. \n",
    "\n",
    "Since there are around 100 women in the sample and 72 of them have a value for having heart disease, we may conclude that if a participant is a woman, there is a 75% chance that she has heart disease. \n",
    "\n",
    "There are around 200 men overall, of whom roughly half have heart disease. Therefore, if the individual is male, we may assume that he will have heart disease 50% of the time. \n",
    "\n",
    "Based only on these two numbers, we may conclude that there is a 62.5% likelihood that every given person has heart disease. \n",
    "\n",
    "This might be our very basic baseline, and we'll use machine learning to try to outperform it."
   ]
  },
  {
   "cell_type": "markdown",
   "id": "ec6d38bc",
   "metadata": {},
   "source": [
    "## Visualizing our crosstab \n",
    "\n",
    "Using the plot() function, you can plot the crosstab by providing it with a few arguments, including kind (the sort of plot you want), figsize=(length, width), and color=[color 1, color 2] (the various colors you'd want to use). \n",
    "\n",
    "Different types of plots are suitable for displaying various metrics. A bar graph works well in this situation. Later, we'll see illustrations of more. And with some experience, you'll develop an understanding for the best plot to employ given various factors."
   ]
  },
  {
   "cell_type": "code",
   "execution_count": 26,
   "id": "565d09a8",
   "metadata": {},
   "outputs": [
    {
     "data": {
      "text/plain": [
       "(array([ 0,  1,  2,  3,  4,  5,  6,  7,  8,  9, 10, 11, 12, 13, 14, 15, 16,\n",
       "        17, 18, 19, 20, 21, 22, 23, 24, 25, 26, 27, 28, 29, 30, 31, 32, 33,\n",
       "        34, 35, 36, 37, 38, 39, 40]),\n",
       " [Text(0, 0, '29'),\n",
       "  Text(1, 0, '34'),\n",
       "  Text(2, 0, '35'),\n",
       "  Text(3, 0, '37'),\n",
       "  Text(4, 0, '38'),\n",
       "  Text(5, 0, '39'),\n",
       "  Text(6, 0, '40'),\n",
       "  Text(7, 0, '41'),\n",
       "  Text(8, 0, '42'),\n",
       "  Text(9, 0, '43'),\n",
       "  Text(10, 0, '44'),\n",
       "  Text(11, 0, '45'),\n",
       "  Text(12, 0, '46'),\n",
       "  Text(13, 0, '47'),\n",
       "  Text(14, 0, '48'),\n",
       "  Text(15, 0, '49'),\n",
       "  Text(16, 0, '50'),\n",
       "  Text(17, 0, '51'),\n",
       "  Text(18, 0, '52'),\n",
       "  Text(19, 0, '53'),\n",
       "  Text(20, 0, '54'),\n",
       "  Text(21, 0, '55'),\n",
       "  Text(22, 0, '56'),\n",
       "  Text(23, 0, '57'),\n",
       "  Text(24, 0, '58'),\n",
       "  Text(25, 0, '59'),\n",
       "  Text(26, 0, '60'),\n",
       "  Text(27, 0, '61'),\n",
       "  Text(28, 0, '62'),\n",
       "  Text(29, 0, '63'),\n",
       "  Text(30, 0, '64'),\n",
       "  Text(31, 0, '65'),\n",
       "  Text(32, 0, '66'),\n",
       "  Text(33, 0, '67'),\n",
       "  Text(34, 0, '68'),\n",
       "  Text(35, 0, '69'),\n",
       "  Text(36, 0, '70'),\n",
       "  Text(37, 0, '71'),\n",
       "  Text(38, 0, '74'),\n",
       "  Text(39, 0, '76'),\n",
       "  Text(40, 0, '77')])"
      ]
     },
     "execution_count": 26,
     "metadata": {},
     "output_type": "execute_result"
    },
    {
     "data": {
      "image/png": "[encoded data removed]",
      "text/plain": [
       "<Figure size 1656x576 with 1 Axes>"
      ]
     },
     "metadata": {
      "needs_background": "light"
     },
     "output_type": "display_data"
    }
   ],
   "source": [
    "pd.crosstab(df2.Age, df2.Diagnosis).plot(kind=\"bar\",\n",
    "                                   figsize=(23, 8),\n",
    "                                   color=[\"pink\", \"blue\",\"yellow\",\"green\",\"red\"])\n",
    "\n",
    "# Add some communication\n",
    "plt.title(\"Diagnosis Vs Age\")\n",
    "plt.xlabel(\"Age\")\n",
    "plt.ylabel(\"Count\")\n",
    "plt.legend([\"0\", \"1\",\"2\",\"3\",\"4\"])\n",
    "plt.xticks(rotation=0)"
   ]
  },
  {
   "cell_type": "code",
   "execution_count": 27,
   "id": "56274d67",
   "metadata": {},
   "outputs": [
    {
     "data": {
      "text/plain": [
       "(array([0, 1, 2, 3]),\n",
       " [Text(0, 0, '1'), Text(1, 0, '2'), Text(2, 0, '3'), Text(3, 0, '4')])"
      ]
     },
     "execution_count": 27,
     "metadata": {},
     "output_type": "execute_result"
    },
    {
     "data": {
      "image/png": "[encoded data removed]",
      "text/plain": [
       "<Figure size 1080x576 with 1 Axes>"
      ]
     },
     "metadata": {
      "needs_background": "light"
     },
     "output_type": "display_data"
    }
   ],
   "source": [
    "pd.crosstab(df2.PainType, df2.Diagnosis).plot(kind=\"bar\",\n",
    "                                   figsize=(15, 8),\n",
    "                                   color=[\"purple\", \"blue\",\"yellow\",\"green\",\"red\"])\n",
    "\n",
    "# Add some communication\n",
    "plt.title(\"Diagnosis Vs PainType\")\n",
    "plt.xlabel(\"PainType\")\n",
    "plt.ylabel(\"Count\")\n",
    "plt.legend([\"0\", \"1\",\"2\",\"3\",\"4\"])\n",
    "plt.xticks(rotation=0)"
   ]
  },
  {
   "cell_type": "code",
   "execution_count": 28,
   "id": "a351ff5f",
   "metadata": {},
   "outputs": [
    {
     "data": {
      "text/plain": [
       "(array([0, 1, 2]), [Text(0, 0, '1'), Text(1, 0, '2'), Text(2, 0, '3')])"
      ]
     },
     "execution_count": 28,
     "metadata": {},
     "output_type": "execute_result"
    },
    {
     "data": {
      "image/png": "[encoded data removed]",
      "text/plain": [
       "<Figure size 1080x576 with 1 Axes>"
      ]
     },
     "metadata": {
      "needs_background": "light"
     },
     "output_type": "display_data"
    }
   ],
   "source": [
    "pd.crosstab(df2.STPeakSlope, df2.Diagnosis).plot(kind=\"bar\",\n",
    "                                   figsize=(15, 8),\n",
    "                                   color=[\"green\", \"lightblue\",\"yellow\",\"pink\",\"red\"])\n",
    "\n",
    "# Add some communication\n",
    "plt.title(\"Diagnosis Vs STPeakSlope\")\n",
    "plt.xlabel(\"STPeakSlope\")\n",
    "plt.ylabel(\"Count\")\n",
    "plt.legend([\"0\", \"1\",\"2\",\"3\",\"4\"])\n",
    "plt.xticks(rotation=0)"
   ]
  },
  {
   "cell_type": "code",
   "execution_count": 29,
   "id": "78a8d5f7",
   "metadata": {},
   "outputs": [
    {
     "data": {
      "text/plain": [
       "(array([0, 1]), [Text(0, 0, '0'), Text(1, 0, '1')])"
      ]
     },
     "execution_count": 29,
     "metadata": {},
     "output_type": "execute_result"
    },
    {
     "data": {
      "image/png": "[encoded data removed]",
      "text/plain": [
       "<Figure size 1080x576 with 1 Axes>"
      ]
     },
     "metadata": {
      "needs_background": "light"
     },
     "output_type": "display_data"
    }
   ],
   "source": [
    "pd.crosstab(df2.ExAngina, df2.Diagnosis).plot(kind=\"bar\",\n",
    "                                   figsize=(15, 8),\n",
    "                                   color=[\"maroon\", \"lightblue\",\"yellow\",\"pink\",\"red\"])\n",
    "\n",
    "# Add some communication\n",
    "plt.title(\"Diagnosis Vs ExAngina\")\n",
    "plt.xlabel(\"ExAngina\")\n",
    "plt.ylabel(\"Count\")\n",
    "plt.legend([\"0\", \"1\",\"2\",\"3\",\"4\"])\n",
    "plt.xticks(rotation=0)"
   ]
  },
  {
   "cell_type": "markdown",
   "id": "1766e94f",
   "metadata": {},
   "source": [
    "### Max Heart Rate vs. Age  for Heart Disease \n",
    "\n",
    "To compare them to our heart disease ExAngina variable, let's try combining a few independent variables, including age and maxheartrate. \n",
    "\n",
    "We'll choose a scatter plot because age and MaxHeartRate can both have a wide range of values."
   ]
  },
  {
   "cell_type": "code",
   "execution_count": 30,
   "id": "d1e71ae7",
   "metadata": {},
   "outputs": [
    {
     "data": {
      "text/plain": [
       "<matplotlib.legend.Legend at 0x7fe4a1473ac0>"
      ]
     },
     "execution_count": 30,
     "metadata": {},
     "output_type": "execute_result"
    },
    {
     "data": {
      "image/png": "[encoded data removed]",
      "text/plain": [
       "<Figure size 720x432 with 1 Axes>"
      ]
     },
     "metadata": {
      "needs_background": "light"
     },
     "output_type": "display_data"
    }
   ],
   "source": [
    "# Create another figure\n",
    "plt.figure(figsize=(10, 6))\n",
    "\n",
    "# Scatter with possitive examples\n",
    "plt.scatter(df2.Age[df2.ExAngina == 1], df2.MaxHeartRate[df2.ExAngina == 1], c=\"pink\")\n",
    "\n",
    "# Scatter with negative examples\n",
    "plt.scatter(df2.Age[df2.ExAngina == 0], df2.MaxHeartRate[df2.ExAngina == 0], c=\"lightblue\")\n",
    "\n",
    "# Add some helpful info\n",
    "plt.title(\"Heart disease in function of Age and Max Heart Rate\")\n",
    "plt.xlabel(\"Age\")\n",
    "plt.ylabel(\"Max Heart Rate\")\n",
    "plt.legend([\"ExAngina present\", \"No ExAngina present\"])"
   ]
  },
  {
   "cell_type": "markdown",
   "id": "0c0cd58c",
   "metadata": {},
   "source": [
    "What is the implication of this? \n",
    "\n",
    "Younger people appear to have greater maximum heart rates (dots are higher on the graph's left), whereas elderly people appear to have more blue dots. However, this might be due to the fact that there are more dots grouped together on the graph's right side (older participants) \n",
    "\n",
    "Although both of these are observational studies, our goal is to develop a comprehension of the data. \n",
    "\n",
    "Let's look at the distribution of ages."
   ]
  },
  {
   "cell_type": "code",
   "execution_count": 31,
   "id": "44b0fd37",
   "metadata": {},
   "outputs": [
    {
     "data": {
      "text/plain": [
       "<AxesSubplot:ylabel='Frequency'>"
      ]
     },
     "execution_count": 31,
     "metadata": {},
     "output_type": "execute_result"
    },
    {
     "data": {
      "image/png": "[encoded data removed]",
      "text/plain": [
       "<Figure size 432x288 with 1 Axes>"
      ]
     },
     "metadata": {
      "needs_background": "light"
     },
     "output_type": "display_data"
    }
   ],
   "source": [
    "# Check the distribution of the age column with a histogram\n",
    "df2['Age'].plot(kind='hist', edgecolor='black')"
   ]
  },
  {
   "cell_type": "markdown",
   "id": "474d385b",
   "metadata": {},
   "source": [
    "The scatter plot above shows that it has a normal distribution but is somewhat skewed to the right. \n",
    "\n",
    "Let's continue."
   ]
  },
  {
   "cell_type": "markdown",
   "id": "39e5aab0",
   "metadata": {},
   "source": [
    "### Frequency of Heart Disease by Pain Type \n",
    "\n",
    "Try one more independent variable, PainType this time. \n",
    "\n"
   ]
  },
  {
   "cell_type": "code",
   "execution_count": 32,
   "id": "0167926c",
   "metadata": {},
   "outputs": [
    {
     "data": {
      "text/html": [
       "<div>\n",
       "<style scoped>\n",
       "    .dataframe tbody tr th:only-of-type {\n",
       "        vertical-align: middle;\n",
       "    }\n",
       "\n",
       "    .dataframe tbody tr th {\n",
       "        vertical-align: top;\n",
       "    }\n",
       "\n",
       "    .dataframe thead th {\n",
       "        text-align: right;\n",
       "    }\n",
       "</style>\n",
       "<table border=\"1\" class=\"dataframe\">\n",
       "  <thead>\n",
       "    <tr style=\"text-align: right;\">\n",
       "      <th>Diagnosis</th>\n",
       "      <th>0</th>\n",
       "      <th>1</th>\n",
       "      <th>2</th>\n",
       "      <th>3</th>\n",
       "      <th>4</th>\n",
       "    </tr>\n",
       "    <tr>\n",
       "      <th>PainType</th>\n",
       "      <th></th>\n",
       "      <th></th>\n",
       "      <th></th>\n",
       "      <th></th>\n",
       "      <th></th>\n",
       "    </tr>\n",
       "  </thead>\n",
       "  <tbody>\n",
       "    <tr>\n",
       "      <th>1</th>\n",
       "      <td>16</td>\n",
       "      <td>5</td>\n",
       "      <td>1</td>\n",
       "      <td>0</td>\n",
       "      <td>1</td>\n",
       "    </tr>\n",
       "    <tr>\n",
       "      <th>2</th>\n",
       "      <td>41</td>\n",
       "      <td>6</td>\n",
       "      <td>1</td>\n",
       "      <td>2</td>\n",
       "      <td>0</td>\n",
       "    </tr>\n",
       "    <tr>\n",
       "      <th>3</th>\n",
       "      <td>68</td>\n",
       "      <td>9</td>\n",
       "      <td>4</td>\n",
       "      <td>4</td>\n",
       "      <td>1</td>\n",
       "    </tr>\n",
       "    <tr>\n",
       "      <th>4</th>\n",
       "      <td>39</td>\n",
       "      <td>35</td>\n",
       "      <td>30</td>\n",
       "      <td>29</td>\n",
       "      <td>11</td>\n",
       "    </tr>\n",
       "  </tbody>\n",
       "</table>\n",
       "</div>"
      ],
      "text/plain": [
       "Diagnosis   0   1   2   3   4\n",
       "PainType                     \n",
       "1          16   5   1   0   1\n",
       "2          41   6   1   2   0\n",
       "3          68   9   4   4   1\n",
       "4          39  35  30  29  11"
      ]
     },
     "execution_count": 32,
     "metadata": {},
     "output_type": "execute_result"
    }
   ],
   "source": [
    "pd.crosstab(df2.PainType, df.Diagnosis)"
   ]
  },
  {
   "cell_type": "code",
   "execution_count": 33,
   "id": "c1409ba7",
   "metadata": {},
   "outputs": [
    {
     "data": {
      "text/plain": [
       "(array([0, 1, 2, 3]),\n",
       " [Text(0, 0, '1'), Text(1, 0, '2'), Text(2, 0, '3'), Text(3, 0, '4')])"
      ]
     },
     "execution_count": 33,
     "metadata": {},
     "output_type": "execute_result"
    },
    {
     "data": {
      "image/png": "[encoded data removed]",
      "text/plain": [
       "<Figure size 720x432 with 1 Axes>"
      ]
     },
     "metadata": {
      "needs_background": "light"
     },
     "output_type": "display_data"
    }
   ],
   "source": [
    "# Make the crosstab more visual\n",
    "pd.crosstab(df.PainType, df.Diagnosis).plot(kind=\"bar\",\n",
    "                                   figsize=(10, 6),\n",
    "                                   color=[\"salmon\",\"blue\",\"yellow\", \"lightblue\",\"purple\"])\n",
    "\n",
    "# Add some communication\n",
    "plt.title(\"Heart Disease Frequency per Chest Pain Type\")\n",
    "plt.xlabel(\"Chest pain Type\")\n",
    "plt.ylabel(\"Count\")\n",
    "plt.legend([\"0\", \"1\",\"2\",\"3\",\"4\"])\n",
    "plt.xticks(rotation=0)"
   ]
  },
  {
   "cell_type": "markdown",
   "id": "041ca2db",
   "metadata": {},
   "source": [
    "Keep in mind the varied degrees of chest discomfort from our data dictionary. \n",
    "\n",
    " chest pain type\n",
    "* 1: Typical angina: chest pain related decrease blood supply to the heart\n",
    "* 2: Atypical angina: chest pain not related to heart\n",
    "* 3: Non-anginal pain: typically esophageal spasms (non heart related)\n",
    "* 4: Asymptomatic: chest pain not showing signs of disease\n",
    "\n",
    "It's interesting the atypical agina (value 1) states it's not related to the heart but seems to have a higher ratio of participants with heart disease than not.\n",
    "\n",
    "What even denotes atypical agina? \n",
    "\n",
    "\n",
    "At this stage, it's crucial to keep in mind that you could wish to conduct more study on your values if your data dictionary is lacking in details. Asking a specialist (such as a cardiologist or the individual who provided the data) or searching online for extra information are two ways to do this study. \n",
    "\n",
    "Even some medical experts appear to be baffled by the word, according to PubMed. \n",
    "\n",
    "\"Atypical chest discomfort\" is still well-liked in medical circles today, 23 years later. But its significance is still a mystery. A few articles include the phrase in their titles but don't describe it or talk about it in the body of the article. The word is used to describe noncardiac causes of chest pain in other articles."
   ]
  },
  {
   "cell_type": "markdown",
   "id": "3656bdd9",
   "metadata": {},
   "source": [
    "### Relationship between unrelated variables \n",
    "\n",
    "We will then compare each independent variable separately. \n",
    "\n",
    "\n",
    "Considering that this could provide insight into which independent factors might or might not have an effect on our target variable. \n",
    "\n",
    "This may be accomplished by using df.corr(), which will generate a correlation matrix for us, or, put another way, a large table of data that shows us how closely connected each variable is to the others."
   ]
  },
  {
   "cell_type": "code",
   "execution_count": 34,
   "id": "41c3c384",
   "metadata": {},
   "outputs": [
    {
     "data": {
      "text/html": [
       "<div>\n",
       "<style scoped>\n",
       "    .dataframe tbody tr th:only-of-type {\n",
       "        vertical-align: middle;\n",
       "    }\n",
       "\n",
       "    .dataframe tbody tr th {\n",
       "        vertical-align: top;\n",
       "    }\n",
       "\n",
       "    .dataframe thead th {\n",
       "        text-align: right;\n",
       "    }\n",
       "</style>\n",
       "<table border=\"1\" class=\"dataframe\">\n",
       "  <thead>\n",
       "    <tr style=\"text-align: right;\">\n",
       "      <th></th>\n",
       "      <th>Diagnosis</th>\n",
       "      <th>Age</th>\n",
       "      <th>Gender</th>\n",
       "      <th>PainType</th>\n",
       "      <th>BloodPres</th>\n",
       "      <th>Chol</th>\n",
       "      <th>MaxHeartRate</th>\n",
       "      <th>ExAngina</th>\n",
       "      <th>STPeakSlope</th>\n",
       "    </tr>\n",
       "  </thead>\n",
       "  <tbody>\n",
       "    <tr>\n",
       "      <th>Diagnosis</th>\n",
       "      <td>1.000000</td>\n",
       "      <td>0.222853</td>\n",
       "      <td>0.224469</td>\n",
       "      <td>0.407075</td>\n",
       "      <td>0.157754</td>\n",
       "      <td>0.070909</td>\n",
       "      <td>-0.415040</td>\n",
       "      <td>0.397057</td>\n",
       "      <td>0.377957</td>\n",
       "    </tr>\n",
       "    <tr>\n",
       "      <th>Age</th>\n",
       "      <td>0.222853</td>\n",
       "      <td>1.000000</td>\n",
       "      <td>-0.097542</td>\n",
       "      <td>0.104139</td>\n",
       "      <td>0.284946</td>\n",
       "      <td>0.208950</td>\n",
       "      <td>-0.393806</td>\n",
       "      <td>0.091661</td>\n",
       "      <td>0.161770</td>\n",
       "    </tr>\n",
       "    <tr>\n",
       "      <th>Gender</th>\n",
       "      <td>0.224469</td>\n",
       "      <td>-0.097542</td>\n",
       "      <td>1.000000</td>\n",
       "      <td>0.010084</td>\n",
       "      <td>-0.064456</td>\n",
       "      <td>-0.199915</td>\n",
       "      <td>-0.048663</td>\n",
       "      <td>0.146201</td>\n",
       "      <td>0.037533</td>\n",
       "    </tr>\n",
       "    <tr>\n",
       "      <th>PainType</th>\n",
       "      <td>0.407075</td>\n",
       "      <td>0.104139</td>\n",
       "      <td>0.010084</td>\n",
       "      <td>1.000000</td>\n",
       "      <td>-0.036077</td>\n",
       "      <td>0.072319</td>\n",
       "      <td>-0.334422</td>\n",
       "      <td>0.384060</td>\n",
       "      <td>0.152050</td>\n",
       "    </tr>\n",
       "    <tr>\n",
       "      <th>BloodPres</th>\n",
       "      <td>0.157754</td>\n",
       "      <td>0.284946</td>\n",
       "      <td>-0.064456</td>\n",
       "      <td>-0.036077</td>\n",
       "      <td>1.000000</td>\n",
       "      <td>0.130120</td>\n",
       "      <td>-0.045351</td>\n",
       "      <td>0.064762</td>\n",
       "      <td>0.117382</td>\n",
       "    </tr>\n",
       "    <tr>\n",
       "      <th>Chol</th>\n",
       "      <td>0.070909</td>\n",
       "      <td>0.208950</td>\n",
       "      <td>-0.199915</td>\n",
       "      <td>0.072319</td>\n",
       "      <td>0.130120</td>\n",
       "      <td>1.000000</td>\n",
       "      <td>-0.003432</td>\n",
       "      <td>0.061310</td>\n",
       "      <td>-0.004062</td>\n",
       "    </tr>\n",
       "    <tr>\n",
       "      <th>MaxHeartRate</th>\n",
       "      <td>-0.415040</td>\n",
       "      <td>-0.393806</td>\n",
       "      <td>-0.048663</td>\n",
       "      <td>-0.334422</td>\n",
       "      <td>-0.045351</td>\n",
       "      <td>-0.003432</td>\n",
       "      <td>1.000000</td>\n",
       "      <td>-0.378103</td>\n",
       "      <td>-0.385601</td>\n",
       "    </tr>\n",
       "    <tr>\n",
       "      <th>ExAngina</th>\n",
       "      <td>0.397057</td>\n",
       "      <td>0.091661</td>\n",
       "      <td>0.146201</td>\n",
       "      <td>0.384060</td>\n",
       "      <td>0.064762</td>\n",
       "      <td>0.061310</td>\n",
       "      <td>-0.378103</td>\n",
       "      <td>1.000000</td>\n",
       "      <td>0.257748</td>\n",
       "    </tr>\n",
       "    <tr>\n",
       "      <th>STPeakSlope</th>\n",
       "      <td>0.377957</td>\n",
       "      <td>0.161770</td>\n",
       "      <td>0.037533</td>\n",
       "      <td>0.152050</td>\n",
       "      <td>0.117382</td>\n",
       "      <td>-0.004062</td>\n",
       "      <td>-0.385601</td>\n",
       "      <td>0.257748</td>\n",
       "      <td>1.000000</td>\n",
       "    </tr>\n",
       "  </tbody>\n",
       "</table>\n",
       "</div>"
      ],
      "text/plain": [
       "              Diagnosis       Age    Gender  PainType  BloodPres      Chol  \\\n",
       "Diagnosis      1.000000  0.222853  0.224469  0.407075   0.157754  0.070909   \n",
       "Age            0.222853  1.000000 -0.097542  0.104139   0.284946  0.208950   \n",
       "Gender         0.224469 -0.097542  1.000000  0.010084  -0.064456 -0.199915   \n",
       "PainType       0.407075  0.104139  0.010084  1.000000  -0.036077  0.072319   \n",
       "BloodPres      0.157754  0.284946 -0.064456 -0.036077   1.000000  0.130120   \n",
       "Chol           0.070909  0.208950 -0.199915  0.072319   0.130120  1.000000   \n",
       "MaxHeartRate  -0.415040 -0.393806 -0.048663 -0.334422  -0.045351 -0.003432   \n",
       "ExAngina       0.397057  0.091661  0.146201  0.384060   0.064762  0.061310   \n",
       "STPeakSlope    0.377957  0.161770  0.037533  0.152050   0.117382 -0.004062   \n",
       "\n",
       "              MaxHeartRate  ExAngina  STPeakSlope  \n",
       "Diagnosis        -0.415040  0.397057     0.377957  \n",
       "Age              -0.393806  0.091661     0.161770  \n",
       "Gender           -0.048663  0.146201     0.037533  \n",
       "PainType         -0.334422  0.384060     0.152050  \n",
       "BloodPres        -0.045351  0.064762     0.117382  \n",
       "Chol             -0.003432  0.061310    -0.004062  \n",
       "MaxHeartRate      1.000000 -0.378103    -0.385601  \n",
       "ExAngina         -0.378103  1.000000     0.257748  \n",
       "STPeakSlope      -0.385601  0.257748     1.000000  "
      ]
     },
     "execution_count": 34,
     "metadata": {},
     "output_type": "execute_result"
    }
   ],
   "source": [
    "# Find the correlation between our independent variables\n",
    "c = df2.corr()\n",
    "c"
   ]
  },
  {
   "cell_type": "code",
   "execution_count": 35,
   "id": "206b802e",
   "metadata": {},
   "outputs": [
    {
     "data": {
      "image/png": "[encoded data removed]",
      "text/plain": [
       "<Figure size 1080x720 with 2 Axes>"
      ]
     },
     "metadata": {
      "needs_background": "light"
     },
     "output_type": "display_data"
    }
   ],
   "source": [
    "# let's make our correlation matrix a little prettier\n",
    "c = df2.corr()\n",
    "fig, ax = plt.subplots(figsize=(15, 10))\n",
    "ax = sns.heatmap(c,\n",
    "                 annot=True,\n",
    "                 linewidths=0.5,\n",
    "                 fmt=\".2f\",\n",
    "                 cmap=\"YlGnBu\")"
   ]
  },
  {
   "cell_type": "markdown",
   "id": "95678365",
   "metadata": {},
   "source": [
    "Much improved view. Higher positive values indicate a possible rise in the positive correlation, while higher negative values indicate a potential drop in the negative correlation (decrease)"
   ]
  },
  {
   "cell_type": "markdown",
   "id": "7ebf0054",
   "metadata": {},
   "source": [
    "### MaxHeartRate early findings may aid in determining if a particular person has heart disease."
   ]
  },
  {
   "cell_type": "markdown",
   "id": "91a7963c",
   "metadata": {},
   "source": [
    "* The American Heart Association states that while a damaged heart will continue to pump blood throughout the body, the effort may weaken it. The experience may cause a person's heart rate to rise. A beta-blocker may be administered by a physician or emergency department staff to reduce the heart rate and lower the heart's need for oxygen.\n",
    "\n",
    "\n",
    "* The cardiovascular disease continuum is hampered at all stages by an elevated resting heart rate. Heart rate may contribute to the development of diabetes or arterial hypertension, raise the cardiovascular risk in those who already have these conditions, and determine mortality and morbidity in those with CAD and heart failure. \n",
    "\n",
    "\n",
    "* Lower is preferable when it comes to resting heart rate. It often indicates that your heart muscle is in better shape and doesn't need to work as hard to keep a regular beat. Greater blood pressure, body weight, and a higher resting heart rate have all been associated in studies to decreased physical fitness."
   ]
  },
  {
   "cell_type": "markdown",
   "id": "ed6fc3b8",
   "metadata": {},
   "source": [
    "Know Your Numbers: Maximum and Target Heart Rate by Age\n",
    "This table shows target heart rate zones for different ages. Your maximum heart rate is about 220 minus your age.3\n",
    "\n",
    "In the age category closest to yours, read across to find your target heart rates. Target heart rate during moderate intensity activities is about 50-70% of maximum heart rate, while during vigorous physical activity it’s about 70-85% of maximum.\n",
    "\n",
    "The figures are averages, so use them as a general guide.\n",
    "\n",
    "  Age\t|Target HR Zone 50-85%|\tAverage Maximum Heart Rate, 100%\n",
    "* 20 years|\t100-170bpm|\t200 bpm\n",
    "* 30 years|\t95-162 bpm|\t190 bpm\n",
    "* 35 years|\t93-157 bpm|\t185 bpm\n",
    "* 40 years|\t90-153 bpm|\t180 bpm\n",
    "* 45 years|\t88-149 bpm|\t175 bpm\n",
    "* 50 years|\t85-145 bpm|\t170 bpm\n",
    "* 55 years|\t83-140 bpm|\t165 bpm\n",
    "* 60 years|\t80-136 bpm|\t160 bpm\n",
    "* 65 years|\t78-132 bpm|\t155 bpm\n",
    "* 70 years|\t75-128 bpm|\t150 bpm"
   ]
  },
  {
   "cell_type": "markdown",
   "id": "703378ea",
   "metadata": {},
   "source": [
    "Now, For both the PainType and STPeakSlope columns in your DataFrame create a set of dummy variables. "
   ]
  },
  {
   "cell_type": "markdown",
   "id": "4862479e",
   "metadata": {},
   "source": [
    "To create dummy varriables from PainType and STPeakSlpe, we need to replace numerical data from those columns to categorical variables. We are following the descriptions for each attributes from the given dataset dictionary."
   ]
  },
  {
   "cell_type": "code",
   "execution_count": 36,
   "id": "2e4bcf90",
   "metadata": {},
   "outputs": [
    {
     "data": {
      "text/html": [
       "<div>\n",
       "<style scoped>\n",
       "    .dataframe tbody tr th:only-of-type {\n",
       "        vertical-align: middle;\n",
       "    }\n",
       "\n",
       "    .dataframe tbody tr th {\n",
       "        vertical-align: top;\n",
       "    }\n",
       "\n",
       "    .dataframe thead th {\n",
       "        text-align: right;\n",
       "    }\n",
       "</style>\n",
       "<table border=\"1\" class=\"dataframe\">\n",
       "  <thead>\n",
       "    <tr style=\"text-align: right;\">\n",
       "      <th></th>\n",
       "      <th>Diagnosis</th>\n",
       "      <th>Age</th>\n",
       "      <th>Gender</th>\n",
       "      <th>PainType</th>\n",
       "      <th>BloodPres</th>\n",
       "      <th>Chol</th>\n",
       "      <th>MaxHeartRate</th>\n",
       "      <th>ExAngina</th>\n",
       "      <th>STPeakSlope</th>\n",
       "    </tr>\n",
       "  </thead>\n",
       "  <tbody>\n",
       "    <tr>\n",
       "      <th>0</th>\n",
       "      <td>0</td>\n",
       "      <td>63</td>\n",
       "      <td>1</td>\n",
       "      <td>Typical_Angina</td>\n",
       "      <td>145</td>\n",
       "      <td>233</td>\n",
       "      <td>150</td>\n",
       "      <td>0</td>\n",
       "      <td>down_sloping</td>\n",
       "    </tr>\n",
       "    <tr>\n",
       "      <th>1</th>\n",
       "      <td>2</td>\n",
       "      <td>67</td>\n",
       "      <td>1</td>\n",
       "      <td>Asymptomatic</td>\n",
       "      <td>160</td>\n",
       "      <td>286</td>\n",
       "      <td>108</td>\n",
       "      <td>1</td>\n",
       "      <td>flat</td>\n",
       "    </tr>\n",
       "    <tr>\n",
       "      <th>2</th>\n",
       "      <td>1</td>\n",
       "      <td>67</td>\n",
       "      <td>1</td>\n",
       "      <td>Asymptomatic</td>\n",
       "      <td>120</td>\n",
       "      <td>229</td>\n",
       "      <td>129</td>\n",
       "      <td>1</td>\n",
       "      <td>flat</td>\n",
       "    </tr>\n",
       "    <tr>\n",
       "      <th>3</th>\n",
       "      <td>0</td>\n",
       "      <td>37</td>\n",
       "      <td>1</td>\n",
       "      <td>Non-anginal_pain</td>\n",
       "      <td>130</td>\n",
       "      <td>250</td>\n",
       "      <td>187</td>\n",
       "      <td>0</td>\n",
       "      <td>down_sloping</td>\n",
       "    </tr>\n",
       "    <tr>\n",
       "      <th>4</th>\n",
       "      <td>0</td>\n",
       "      <td>41</td>\n",
       "      <td>0</td>\n",
       "      <td>Atypical_Angina</td>\n",
       "      <td>130</td>\n",
       "      <td>204</td>\n",
       "      <td>172</td>\n",
       "      <td>0</td>\n",
       "      <td>up_sloping</td>\n",
       "    </tr>\n",
       "  </tbody>\n",
       "</table>\n",
       "</div>"
      ],
      "text/plain": [
       "   Diagnosis  Age  Gender          PainType  BloodPres  Chol  MaxHeartRate  \\\n",
       "0          0   63       1    Typical_Angina        145   233           150   \n",
       "1          2   67       1      Asymptomatic        160   286           108   \n",
       "2          1   67       1      Asymptomatic        120   229           129   \n",
       "3          0   37       1  Non-anginal_pain        130   250           187   \n",
       "4          0   41       0   Atypical_Angina        130   204           172   \n",
       "\n",
       "   ExAngina   STPeakSlope  \n",
       "0         0  down_sloping  \n",
       "1         1          flat  \n",
       "2         1          flat  \n",
       "3         0  down_sloping  \n",
       "4         0    up_sloping  "
      ]
     },
     "execution_count": 36,
     "metadata": {},
     "output_type": "execute_result"
    }
   ],
   "source": [
    "# replace Pain Type col values\n",
    "df2.PainType.replace({1:'Typical_Angina',\n",
    "                      2:'Atypical_Angina',\n",
    "                      3:'Non-anginal_pain',\n",
    "                      4:'Asymptomatic'}, inplace = True)\n",
    "\n",
    "# replace STPeakSlope col values\n",
    "df2.STPeakSlope.replace({1:'up_sloping',\n",
    "                        2:'flat',\n",
    "                        3:'down_sloping'}, inplace = True)\n",
    "\n",
    "df2.head()"
   ]
  },
  {
   "cell_type": "markdown",
   "id": "c63fba91",
   "metadata": {},
   "source": [
    "pd.get_dummies() function is applied to achieve dummy varriables from categorical columns."
   ]
  },
  {
   "cell_type": "code",
   "execution_count": 37,
   "id": "3522c389",
   "metadata": {},
   "outputs": [
    {
     "data": {
      "text/html": [
       "<div>\n",
       "<style scoped>\n",
       "    .dataframe tbody tr th:only-of-type {\n",
       "        vertical-align: middle;\n",
       "    }\n",
       "\n",
       "    .dataframe tbody tr th {\n",
       "        vertical-align: top;\n",
       "    }\n",
       "\n",
       "    .dataframe thead th {\n",
       "        text-align: right;\n",
       "    }\n",
       "</style>\n",
       "<table border=\"1\" class=\"dataframe\">\n",
       "  <thead>\n",
       "    <tr style=\"text-align: right;\">\n",
       "      <th></th>\n",
       "      <th>Diagnosis</th>\n",
       "      <th>Age</th>\n",
       "      <th>Gender</th>\n",
       "      <th>BloodPres</th>\n",
       "      <th>Chol</th>\n",
       "      <th>MaxHeartRate</th>\n",
       "      <th>ExAngina</th>\n",
       "      <th>PainType_Asymptomatic</th>\n",
       "      <th>PainType_Atypical_Angina</th>\n",
       "      <th>PainType_Non-anginal_pain</th>\n",
       "      <th>PainType_Typical_Angina</th>\n",
       "      <th>STPeakSlope_down_sloping</th>\n",
       "      <th>STPeakSlope_flat</th>\n",
       "      <th>STPeakSlope_up_sloping</th>\n",
       "    </tr>\n",
       "  </thead>\n",
       "  <tbody>\n",
       "    <tr>\n",
       "      <th>0</th>\n",
       "      <td>0</td>\n",
       "      <td>63</td>\n",
       "      <td>1</td>\n",
       "      <td>145</td>\n",
       "      <td>233</td>\n",
       "      <td>150</td>\n",
       "      <td>0</td>\n",
       "      <td>0</td>\n",
       "      <td>0</td>\n",
       "      <td>0</td>\n",
       "      <td>1</td>\n",
       "      <td>1</td>\n",
       "      <td>0</td>\n",
       "      <td>0</td>\n",
       "    </tr>\n",
       "    <tr>\n",
       "      <th>1</th>\n",
       "      <td>2</td>\n",
       "      <td>67</td>\n",
       "      <td>1</td>\n",
       "      <td>160</td>\n",
       "      <td>286</td>\n",
       "      <td>108</td>\n",
       "      <td>1</td>\n",
       "      <td>1</td>\n",
       "      <td>0</td>\n",
       "      <td>0</td>\n",
       "      <td>0</td>\n",
       "      <td>0</td>\n",
       "      <td>1</td>\n",
       "      <td>0</td>\n",
       "    </tr>\n",
       "    <tr>\n",
       "      <th>2</th>\n",
       "      <td>1</td>\n",
       "      <td>67</td>\n",
       "      <td>1</td>\n",
       "      <td>120</td>\n",
       "      <td>229</td>\n",
       "      <td>129</td>\n",
       "      <td>1</td>\n",
       "      <td>1</td>\n",
       "      <td>0</td>\n",
       "      <td>0</td>\n",
       "      <td>0</td>\n",
       "      <td>0</td>\n",
       "      <td>1</td>\n",
       "      <td>0</td>\n",
       "    </tr>\n",
       "    <tr>\n",
       "      <th>3</th>\n",
       "      <td>0</td>\n",
       "      <td>37</td>\n",
       "      <td>1</td>\n",
       "      <td>130</td>\n",
       "      <td>250</td>\n",
       "      <td>187</td>\n",
       "      <td>0</td>\n",
       "      <td>0</td>\n",
       "      <td>0</td>\n",
       "      <td>1</td>\n",
       "      <td>0</td>\n",
       "      <td>1</td>\n",
       "      <td>0</td>\n",
       "      <td>0</td>\n",
       "    </tr>\n",
       "    <tr>\n",
       "      <th>4</th>\n",
       "      <td>0</td>\n",
       "      <td>41</td>\n",
       "      <td>0</td>\n",
       "      <td>130</td>\n",
       "      <td>204</td>\n",
       "      <td>172</td>\n",
       "      <td>0</td>\n",
       "      <td>0</td>\n",
       "      <td>1</td>\n",
       "      <td>0</td>\n",
       "      <td>0</td>\n",
       "      <td>0</td>\n",
       "      <td>0</td>\n",
       "      <td>1</td>\n",
       "    </tr>\n",
       "  </tbody>\n",
       "</table>\n",
       "</div>"
      ],
      "text/plain": [
       "   Diagnosis  Age  Gender  BloodPres  Chol  MaxHeartRate  ExAngina  \\\n",
       "0          0   63       1        145   233           150         0   \n",
       "1          2   67       1        160   286           108         1   \n",
       "2          1   67       1        120   229           129         1   \n",
       "3          0   37       1        130   250           187         0   \n",
       "4          0   41       0        130   204           172         0   \n",
       "\n",
       "   PainType_Asymptomatic  PainType_Atypical_Angina  PainType_Non-anginal_pain  \\\n",
       "0                      0                         0                          0   \n",
       "1                      1                         0                          0   \n",
       "2                      1                         0                          0   \n",
       "3                      0                         0                          1   \n",
       "4                      0                         1                          0   \n",
       "\n",
       "   PainType_Typical_Angina  STPeakSlope_down_sloping  STPeakSlope_flat  \\\n",
       "0                        1                         1                 0   \n",
       "1                        0                         0                 1   \n",
       "2                        0                         0                 1   \n",
       "3                        0                         1                 0   \n",
       "4                        0                         0                 0   \n",
       "\n",
       "   STPeakSlope_up_sloping  \n",
       "0                       0  \n",
       "1                       0  \n",
       "2                       0  \n",
       "3                       0  \n",
       "4                       1  "
      ]
     },
     "execution_count": 37,
     "metadata": {},
     "output_type": "execute_result"
    }
   ],
   "source": [
    "# use get_dummies function\n",
    "dum = pd.get_dummies(df2)\n",
    "\n",
    "#print the first 5 rows\n",
    "dum.head()"
   ]
  },
  {
   "cell_type": "code",
   "execution_count": 38,
   "id": "ea307d49",
   "metadata": {
    "scrolled": true
   },
   "outputs": [
    {
     "data": {
      "text/html": [
       "<div>\n",
       "<style scoped>\n",
       "    .dataframe tbody tr th:only-of-type {\n",
       "        vertical-align: middle;\n",
       "    }\n",
       "\n",
       "    .dataframe tbody tr th {\n",
       "        vertical-align: top;\n",
       "    }\n",
       "\n",
       "    .dataframe thead th {\n",
       "        text-align: right;\n",
       "    }\n",
       "</style>\n",
       "<table border=\"1\" class=\"dataframe\">\n",
       "  <thead>\n",
       "    <tr style=\"text-align: right;\">\n",
       "      <th></th>\n",
       "      <th>Diagnosis</th>\n",
       "      <th>Age</th>\n",
       "      <th>Gender</th>\n",
       "      <th>BloodPres</th>\n",
       "      <th>Chol</th>\n",
       "      <th>MaxHeartRate</th>\n",
       "      <th>ExAngina</th>\n",
       "      <th>PainType_Asymptomatic</th>\n",
       "      <th>PainType_Atypical_Angina</th>\n",
       "      <th>PainType_Non-anginal_pain</th>\n",
       "      <th>PainType_Typical_Angina</th>\n",
       "      <th>STPeakSlope_down_sloping</th>\n",
       "      <th>STPeakSlope_flat</th>\n",
       "      <th>STPeakSlope_up_sloping</th>\n",
       "    </tr>\n",
       "  </thead>\n",
       "  <tbody>\n",
       "    <tr>\n",
       "      <th>count</th>\n",
       "      <td>303.000000</td>\n",
       "      <td>303.000000</td>\n",
       "      <td>303.000000</td>\n",
       "      <td>303.000000</td>\n",
       "      <td>303.000000</td>\n",
       "      <td>303.000000</td>\n",
       "      <td>303.000000</td>\n",
       "      <td>303.000000</td>\n",
       "      <td>303.000000</td>\n",
       "      <td>303.000000</td>\n",
       "      <td>303.000000</td>\n",
       "      <td>303.000000</td>\n",
       "      <td>303.000000</td>\n",
       "      <td>303.000000</td>\n",
       "    </tr>\n",
       "    <tr>\n",
       "      <th>mean</th>\n",
       "      <td>0.937294</td>\n",
       "      <td>54.438944</td>\n",
       "      <td>0.679868</td>\n",
       "      <td>131.689769</td>\n",
       "      <td>246.693069</td>\n",
       "      <td>149.607261</td>\n",
       "      <td>0.326733</td>\n",
       "      <td>0.475248</td>\n",
       "      <td>0.165017</td>\n",
       "      <td>0.283828</td>\n",
       "      <td>0.075908</td>\n",
       "      <td>0.069307</td>\n",
       "      <td>0.462046</td>\n",
       "      <td>0.468647</td>\n",
       "    </tr>\n",
       "    <tr>\n",
       "      <th>std</th>\n",
       "      <td>1.228536</td>\n",
       "      <td>9.038662</td>\n",
       "      <td>0.467299</td>\n",
       "      <td>17.599748</td>\n",
       "      <td>51.776918</td>\n",
       "      <td>22.875003</td>\n",
       "      <td>0.469794</td>\n",
       "      <td>0.500213</td>\n",
       "      <td>0.371809</td>\n",
       "      <td>0.451600</td>\n",
       "      <td>0.265288</td>\n",
       "      <td>0.254395</td>\n",
       "      <td>0.499382</td>\n",
       "      <td>0.499842</td>\n",
       "    </tr>\n",
       "    <tr>\n",
       "      <th>min</th>\n",
       "      <td>0.000000</td>\n",
       "      <td>29.000000</td>\n",
       "      <td>0.000000</td>\n",
       "      <td>94.000000</td>\n",
       "      <td>126.000000</td>\n",
       "      <td>71.000000</td>\n",
       "      <td>0.000000</td>\n",
       "      <td>0.000000</td>\n",
       "      <td>0.000000</td>\n",
       "      <td>0.000000</td>\n",
       "      <td>0.000000</td>\n",
       "      <td>0.000000</td>\n",
       "      <td>0.000000</td>\n",
       "      <td>0.000000</td>\n",
       "    </tr>\n",
       "    <tr>\n",
       "      <th>25%</th>\n",
       "      <td>0.000000</td>\n",
       "      <td>48.000000</td>\n",
       "      <td>0.000000</td>\n",
       "      <td>120.000000</td>\n",
       "      <td>211.000000</td>\n",
       "      <td>133.500000</td>\n",
       "      <td>0.000000</td>\n",
       "      <td>0.000000</td>\n",
       "      <td>0.000000</td>\n",
       "      <td>0.000000</td>\n",
       "      <td>0.000000</td>\n",
       "      <td>0.000000</td>\n",
       "      <td>0.000000</td>\n",
       "      <td>0.000000</td>\n",
       "    </tr>\n",
       "    <tr>\n",
       "      <th>50%</th>\n",
       "      <td>0.000000</td>\n",
       "      <td>56.000000</td>\n",
       "      <td>1.000000</td>\n",
       "      <td>130.000000</td>\n",
       "      <td>241.000000</td>\n",
       "      <td>153.000000</td>\n",
       "      <td>0.000000</td>\n",
       "      <td>0.000000</td>\n",
       "      <td>0.000000</td>\n",
       "      <td>0.000000</td>\n",
       "      <td>0.000000</td>\n",
       "      <td>0.000000</td>\n",
       "      <td>0.000000</td>\n",
       "      <td>0.000000</td>\n",
       "    </tr>\n",
       "    <tr>\n",
       "      <th>75%</th>\n",
       "      <td>2.000000</td>\n",
       "      <td>61.000000</td>\n",
       "      <td>1.000000</td>\n",
       "      <td>140.000000</td>\n",
       "      <td>275.000000</td>\n",
       "      <td>166.000000</td>\n",
       "      <td>1.000000</td>\n",
       "      <td>1.000000</td>\n",
       "      <td>0.000000</td>\n",
       "      <td>1.000000</td>\n",
       "      <td>0.000000</td>\n",
       "      <td>0.000000</td>\n",
       "      <td>1.000000</td>\n",
       "      <td>1.000000</td>\n",
       "    </tr>\n",
       "    <tr>\n",
       "      <th>max</th>\n",
       "      <td>4.000000</td>\n",
       "      <td>77.000000</td>\n",
       "      <td>1.000000</td>\n",
       "      <td>200.000000</td>\n",
       "      <td>564.000000</td>\n",
       "      <td>202.000000</td>\n",
       "      <td>1.000000</td>\n",
       "      <td>1.000000</td>\n",
       "      <td>1.000000</td>\n",
       "      <td>1.000000</td>\n",
       "      <td>1.000000</td>\n",
       "      <td>1.000000</td>\n",
       "      <td>1.000000</td>\n",
       "      <td>1.000000</td>\n",
       "    </tr>\n",
       "  </tbody>\n",
       "</table>\n",
       "</div>"
      ],
      "text/plain": [
       "        Diagnosis         Age      Gender   BloodPres        Chol  \\\n",
       "count  303.000000  303.000000  303.000000  303.000000  303.000000   \n",
       "mean     0.937294   54.438944    0.679868  131.689769  246.693069   \n",
       "std      1.228536    9.038662    0.467299   17.599748   51.776918   \n",
       "min      0.000000   29.000000    0.000000   94.000000  126.000000   \n",
       "25%      0.000000   48.000000    0.000000  120.000000  211.000000   \n",
       "50%      0.000000   56.000000    1.000000  130.000000  241.000000   \n",
       "75%      2.000000   61.000000    1.000000  140.000000  275.000000   \n",
       "max      4.000000   77.000000    1.000000  200.000000  564.000000   \n",
       "\n",
       "       MaxHeartRate    ExAngina  PainType_Asymptomatic  \\\n",
       "count    303.000000  303.000000             303.000000   \n",
       "mean     149.607261    0.326733               0.475248   \n",
       "std       22.875003    0.469794               0.500213   \n",
       "min       71.000000    0.000000               0.000000   \n",
       "25%      133.500000    0.000000               0.000000   \n",
       "50%      153.000000    0.000000               0.000000   \n",
       "75%      166.000000    1.000000               1.000000   \n",
       "max      202.000000    1.000000               1.000000   \n",
       "\n",
       "       PainType_Atypical_Angina  PainType_Non-anginal_pain  \\\n",
       "count                303.000000                 303.000000   \n",
       "mean                   0.165017                   0.283828   \n",
       "std                    0.371809                   0.451600   \n",
       "min                    0.000000                   0.000000   \n",
       "25%                    0.000000                   0.000000   \n",
       "50%                    0.000000                   0.000000   \n",
       "75%                    0.000000                   1.000000   \n",
       "max                    1.000000                   1.000000   \n",
       "\n",
       "       PainType_Typical_Angina  STPeakSlope_down_sloping  STPeakSlope_flat  \\\n",
       "count               303.000000                303.000000        303.000000   \n",
       "mean                  0.075908                  0.069307          0.462046   \n",
       "std                   0.265288                  0.254395          0.499382   \n",
       "min                   0.000000                  0.000000          0.000000   \n",
       "25%                   0.000000                  0.000000          0.000000   \n",
       "50%                   0.000000                  0.000000          0.000000   \n",
       "75%                   0.000000                  0.000000          1.000000   \n",
       "max                   1.000000                  1.000000          1.000000   \n",
       "\n",
       "       STPeakSlope_up_sloping  \n",
       "count              303.000000  \n",
       "mean                 0.468647  \n",
       "std                  0.499842  \n",
       "min                  0.000000  \n",
       "25%                  0.000000  \n",
       "50%                  0.000000  \n",
       "75%                  1.000000  \n",
       "max                  1.000000  "
      ]
     },
     "execution_count": 38,
     "metadata": {},
     "output_type": "execute_result"
    }
   ],
   "source": [
    "dum.describe()"
   ]
  },
  {
   "cell_type": "markdown",
   "id": "3dbabf7a",
   "metadata": {},
   "source": [
    "### Modeling \n",
    "\n",
    "Following a data exploration, we will attempt to apply machine learning to predict our target variable based on the 14 independent factors. \n",
    "\n",
    "\n",
    "Can we determine a patient's risk of heart disease based on clinical parameters? \n",
    "\n",
    "We'll be attempting to address it. \n",
    "\n",
    "Do you still recall our assessment metric? \n",
    "\n",
    "We'll move on with this research if we can determine whether a patient has cardiac disease with 95% accuracy during the proof of concept. \n",
    "\n",
    "That is the goal that we will pursue. \n",
    "\n",
    "But first, we need to prepare our dataset before we can develop a model. \n",
    "\n"
   ]
  },
  {
   "cell_type": "markdown",
   "id": "2389d0cb",
   "metadata": {},
   "source": [
    "Scale the dum data to bring down all the values to the same magnitude\n",
    "\n",
    "fit_transform function from StandardScaler will help scale the data"
   ]
  },
  {
   "cell_type": "code",
   "execution_count": 39,
   "id": "13259cd8",
   "metadata": {
    "scrolled": true
   },
   "outputs": [
    {
     "data": {
      "text/html": [
       "<div>\n",
       "<style scoped>\n",
       "    .dataframe tbody tr th:only-of-type {\n",
       "        vertical-align: middle;\n",
       "    }\n",
       "\n",
       "    .dataframe tbody tr th {\n",
       "        vertical-align: top;\n",
       "    }\n",
       "\n",
       "    .dataframe thead th {\n",
       "        text-align: right;\n",
       "    }\n",
       "</style>\n",
       "<table border=\"1\" class=\"dataframe\">\n",
       "  <thead>\n",
       "    <tr style=\"text-align: right;\">\n",
       "      <th></th>\n",
       "      <th>Diagnosis</th>\n",
       "      <th>Age</th>\n",
       "      <th>Gender</th>\n",
       "      <th>BloodPres</th>\n",
       "      <th>Chol</th>\n",
       "      <th>MaxHeartRate</th>\n",
       "      <th>ExAngina</th>\n",
       "      <th>PainType_Asymptomatic</th>\n",
       "      <th>PainType_Atypical_Angina</th>\n",
       "      <th>PainType_Non-anginal_pain</th>\n",
       "      <th>PainType_Typical_Angina</th>\n",
       "      <th>STPeakSlope_down_sloping</th>\n",
       "      <th>STPeakSlope_flat</th>\n",
       "      <th>STPeakSlope_up_sloping</th>\n",
       "    </tr>\n",
       "  </thead>\n",
       "  <tbody>\n",
       "    <tr>\n",
       "      <th>0</th>\n",
       "      <td>0</td>\n",
       "      <td>0.948726</td>\n",
       "      <td>1</td>\n",
       "      <td>0.757525</td>\n",
       "      <td>-0.264900</td>\n",
       "      <td>0.017197</td>\n",
       "      <td>0</td>\n",
       "      <td>0</td>\n",
       "      <td>0</td>\n",
       "      <td>0</td>\n",
       "      <td>1</td>\n",
       "      <td>1</td>\n",
       "      <td>0</td>\n",
       "      <td>0</td>\n",
       "    </tr>\n",
       "    <tr>\n",
       "      <th>1</th>\n",
       "      <td>2</td>\n",
       "      <td>1.392002</td>\n",
       "      <td>1</td>\n",
       "      <td>1.611220</td>\n",
       "      <td>0.760415</td>\n",
       "      <td>-1.821905</td>\n",
       "      <td>1</td>\n",
       "      <td>1</td>\n",
       "      <td>0</td>\n",
       "      <td>0</td>\n",
       "      <td>0</td>\n",
       "      <td>0</td>\n",
       "      <td>1</td>\n",
       "      <td>0</td>\n",
       "    </tr>\n",
       "    <tr>\n",
       "      <th>2</th>\n",
       "      <td>1</td>\n",
       "      <td>1.392002</td>\n",
       "      <td>1</td>\n",
       "      <td>-0.665300</td>\n",
       "      <td>-0.342283</td>\n",
       "      <td>-0.902354</td>\n",
       "      <td>1</td>\n",
       "      <td>1</td>\n",
       "      <td>0</td>\n",
       "      <td>0</td>\n",
       "      <td>0</td>\n",
       "      <td>0</td>\n",
       "      <td>1</td>\n",
       "      <td>0</td>\n",
       "    </tr>\n",
       "    <tr>\n",
       "      <th>3</th>\n",
       "      <td>0</td>\n",
       "      <td>-1.932564</td>\n",
       "      <td>1</td>\n",
       "      <td>-0.096170</td>\n",
       "      <td>0.063974</td>\n",
       "      <td>1.637359</td>\n",
       "      <td>0</td>\n",
       "      <td>0</td>\n",
       "      <td>0</td>\n",
       "      <td>1</td>\n",
       "      <td>0</td>\n",
       "      <td>1</td>\n",
       "      <td>0</td>\n",
       "      <td>0</td>\n",
       "    </tr>\n",
       "    <tr>\n",
       "      <th>4</th>\n",
       "      <td>0</td>\n",
       "      <td>-1.489288</td>\n",
       "      <td>0</td>\n",
       "      <td>-0.096170</td>\n",
       "      <td>-0.825922</td>\n",
       "      <td>0.980537</td>\n",
       "      <td>0</td>\n",
       "      <td>0</td>\n",
       "      <td>1</td>\n",
       "      <td>0</td>\n",
       "      <td>0</td>\n",
       "      <td>0</td>\n",
       "      <td>0</td>\n",
       "      <td>1</td>\n",
       "    </tr>\n",
       "    <tr>\n",
       "      <th>...</th>\n",
       "      <td>...</td>\n",
       "      <td>...</td>\n",
       "      <td>...</td>\n",
       "      <td>...</td>\n",
       "      <td>...</td>\n",
       "      <td>...</td>\n",
       "      <td>...</td>\n",
       "      <td>...</td>\n",
       "      <td>...</td>\n",
       "      <td>...</td>\n",
       "      <td>...</td>\n",
       "      <td>...</td>\n",
       "      <td>...</td>\n",
       "      <td>...</td>\n",
       "    </tr>\n",
       "    <tr>\n",
       "      <th>298</th>\n",
       "      <td>1</td>\n",
       "      <td>-1.046013</td>\n",
       "      <td>1</td>\n",
       "      <td>-1.234430</td>\n",
       "      <td>0.334813</td>\n",
       "      <td>-0.770990</td>\n",
       "      <td>0</td>\n",
       "      <td>0</td>\n",
       "      <td>0</td>\n",
       "      <td>0</td>\n",
       "      <td>1</td>\n",
       "      <td>0</td>\n",
       "      <td>1</td>\n",
       "      <td>0</td>\n",
       "    </tr>\n",
       "    <tr>\n",
       "      <th>299</th>\n",
       "      <td>2</td>\n",
       "      <td>1.502821</td>\n",
       "      <td>1</td>\n",
       "      <td>0.700612</td>\n",
       "      <td>-1.038723</td>\n",
       "      <td>-0.376896</td>\n",
       "      <td>0</td>\n",
       "      <td>1</td>\n",
       "      <td>0</td>\n",
       "      <td>0</td>\n",
       "      <td>0</td>\n",
       "      <td>0</td>\n",
       "      <td>1</td>\n",
       "      <td>0</td>\n",
       "    </tr>\n",
       "    <tr>\n",
       "      <th>300</th>\n",
       "      <td>3</td>\n",
       "      <td>0.283813</td>\n",
       "      <td>1</td>\n",
       "      <td>-0.096170</td>\n",
       "      <td>-2.238149</td>\n",
       "      <td>-1.515388</td>\n",
       "      <td>1</td>\n",
       "      <td>1</td>\n",
       "      <td>0</td>\n",
       "      <td>0</td>\n",
       "      <td>0</td>\n",
       "      <td>0</td>\n",
       "      <td>1</td>\n",
       "      <td>0</td>\n",
       "    </tr>\n",
       "    <tr>\n",
       "      <th>301</th>\n",
       "      <td>1</td>\n",
       "      <td>0.283813</td>\n",
       "      <td>0</td>\n",
       "      <td>-0.096170</td>\n",
       "      <td>-0.206864</td>\n",
       "      <td>1.068113</td>\n",
       "      <td>0</td>\n",
       "      <td>0</td>\n",
       "      <td>1</td>\n",
       "      <td>0</td>\n",
       "      <td>0</td>\n",
       "      <td>0</td>\n",
       "      <td>1</td>\n",
       "      <td>0</td>\n",
       "    </tr>\n",
       "    <tr>\n",
       "      <th>302</th>\n",
       "      <td>0</td>\n",
       "      <td>-1.821745</td>\n",
       "      <td>1</td>\n",
       "      <td>0.359134</td>\n",
       "      <td>-1.386944</td>\n",
       "      <td>1.024325</td>\n",
       "      <td>0</td>\n",
       "      <td>0</td>\n",
       "      <td>0</td>\n",
       "      <td>1</td>\n",
       "      <td>0</td>\n",
       "      <td>0</td>\n",
       "      <td>0</td>\n",
       "      <td>1</td>\n",
       "    </tr>\n",
       "  </tbody>\n",
       "</table>\n",
       "<p>303 rows × 14 columns</p>\n",
       "</div>"
      ],
      "text/plain": [
       "     Diagnosis       Age  Gender  BloodPres      Chol  MaxHeartRate  ExAngina  \\\n",
       "0            0  0.948726       1   0.757525 -0.264900      0.017197         0   \n",
       "1            2  1.392002       1   1.611220  0.760415     -1.821905         1   \n",
       "2            1  1.392002       1  -0.665300 -0.342283     -0.902354         1   \n",
       "3            0 -1.932564       1  -0.096170  0.063974      1.637359         0   \n",
       "4            0 -1.489288       0  -0.096170 -0.825922      0.980537         0   \n",
       "..         ...       ...     ...        ...       ...           ...       ...   \n",
       "298          1 -1.046013       1  -1.234430  0.334813     -0.770990         0   \n",
       "299          2  1.502821       1   0.700612 -1.038723     -0.376896         0   \n",
       "300          3  0.283813       1  -0.096170 -2.238149     -1.515388         1   \n",
       "301          1  0.283813       0  -0.096170 -0.206864      1.068113         0   \n",
       "302          0 -1.821745       1   0.359134 -1.386944      1.024325         0   \n",
       "\n",
       "     PainType_Asymptomatic  PainType_Atypical_Angina  \\\n",
       "0                        0                         0   \n",
       "1                        1                         0   \n",
       "2                        1                         0   \n",
       "3                        0                         0   \n",
       "4                        0                         1   \n",
       "..                     ...                       ...   \n",
       "298                      0                         0   \n",
       "299                      1                         0   \n",
       "300                      1                         0   \n",
       "301                      0                         1   \n",
       "302                      0                         0   \n",
       "\n",
       "     PainType_Non-anginal_pain  PainType_Typical_Angina  \\\n",
       "0                            0                        1   \n",
       "1                            0                        0   \n",
       "2                            0                        0   \n",
       "3                            1                        0   \n",
       "4                            0                        0   \n",
       "..                         ...                      ...   \n",
       "298                          0                        1   \n",
       "299                          0                        0   \n",
       "300                          0                        0   \n",
       "301                          0                        0   \n",
       "302                          1                        0   \n",
       "\n",
       "     STPeakSlope_down_sloping  STPeakSlope_flat  STPeakSlope_up_sloping  \n",
       "0                           1                 0                       0  \n",
       "1                           0                 1                       0  \n",
       "2                           0                 1                       0  \n",
       "3                           1                 0                       0  \n",
       "4                           0                 0                       1  \n",
       "..                        ...               ...                     ...  \n",
       "298                         0                 1                       0  \n",
       "299                         0                 1                       0  \n",
       "300                         0                 1                       0  \n",
       "301                         0                 1                       0  \n",
       "302                         0                 0                       1  \n",
       "\n",
       "[303 rows x 14 columns]"
      ]
     },
     "execution_count": 39,
     "metadata": {},
     "output_type": "execute_result"
    }
   ],
   "source": [
    "ss = StandardScaler()\n",
    "scalecolumns = ['Age','BloodPres','Chol','MaxHeartRate']\n",
    "dum[scalecolumns] = ss.fit_transform(dum[scalecolumns])\n",
    "dum"
   ]
  },
  {
   "cell_type": "markdown",
   "id": "de56fe25",
   "metadata": {},
   "source": [
    "Prepare the data X using all the columns from dum except diagnosis"
   ]
  },
  {
   "cell_type": "code",
   "execution_count": 40,
   "id": "7f2b7933",
   "metadata": {
    "scrolled": true
   },
   "outputs": [
    {
     "data": {
      "text/html": [
       "<div>\n",
       "<style scoped>\n",
       "    .dataframe tbody tr th:only-of-type {\n",
       "        vertical-align: middle;\n",
       "    }\n",
       "\n",
       "    .dataframe tbody tr th {\n",
       "        vertical-align: top;\n",
       "    }\n",
       "\n",
       "    .dataframe thead th {\n",
       "        text-align: right;\n",
       "    }\n",
       "</style>\n",
       "<table border=\"1\" class=\"dataframe\">\n",
       "  <thead>\n",
       "    <tr style=\"text-align: right;\">\n",
       "      <th></th>\n",
       "      <th>Age</th>\n",
       "      <th>Gender</th>\n",
       "      <th>BloodPres</th>\n",
       "      <th>Chol</th>\n",
       "      <th>MaxHeartRate</th>\n",
       "      <th>ExAngina</th>\n",
       "      <th>PainType_Asymptomatic</th>\n",
       "      <th>PainType_Atypical_Angina</th>\n",
       "      <th>PainType_Non-anginal_pain</th>\n",
       "      <th>PainType_Typical_Angina</th>\n",
       "      <th>STPeakSlope_down_sloping</th>\n",
       "      <th>STPeakSlope_flat</th>\n",
       "      <th>STPeakSlope_up_sloping</th>\n",
       "    </tr>\n",
       "  </thead>\n",
       "  <tbody>\n",
       "    <tr>\n",
       "      <th>0</th>\n",
       "      <td>0.948726</td>\n",
       "      <td>1</td>\n",
       "      <td>0.757525</td>\n",
       "      <td>-0.264900</td>\n",
       "      <td>0.017197</td>\n",
       "      <td>0</td>\n",
       "      <td>0</td>\n",
       "      <td>0</td>\n",
       "      <td>0</td>\n",
       "      <td>1</td>\n",
       "      <td>1</td>\n",
       "      <td>0</td>\n",
       "      <td>0</td>\n",
       "    </tr>\n",
       "    <tr>\n",
       "      <th>1</th>\n",
       "      <td>1.392002</td>\n",
       "      <td>1</td>\n",
       "      <td>1.611220</td>\n",
       "      <td>0.760415</td>\n",
       "      <td>-1.821905</td>\n",
       "      <td>1</td>\n",
       "      <td>1</td>\n",
       "      <td>0</td>\n",
       "      <td>0</td>\n",
       "      <td>0</td>\n",
       "      <td>0</td>\n",
       "      <td>1</td>\n",
       "      <td>0</td>\n",
       "    </tr>\n",
       "    <tr>\n",
       "      <th>2</th>\n",
       "      <td>1.392002</td>\n",
       "      <td>1</td>\n",
       "      <td>-0.665300</td>\n",
       "      <td>-0.342283</td>\n",
       "      <td>-0.902354</td>\n",
       "      <td>1</td>\n",
       "      <td>1</td>\n",
       "      <td>0</td>\n",
       "      <td>0</td>\n",
       "      <td>0</td>\n",
       "      <td>0</td>\n",
       "      <td>1</td>\n",
       "      <td>0</td>\n",
       "    </tr>\n",
       "    <tr>\n",
       "      <th>3</th>\n",
       "      <td>-1.932564</td>\n",
       "      <td>1</td>\n",
       "      <td>-0.096170</td>\n",
       "      <td>0.063974</td>\n",
       "      <td>1.637359</td>\n",
       "      <td>0</td>\n",
       "      <td>0</td>\n",
       "      <td>0</td>\n",
       "      <td>1</td>\n",
       "      <td>0</td>\n",
       "      <td>1</td>\n",
       "      <td>0</td>\n",
       "      <td>0</td>\n",
       "    </tr>\n",
       "    <tr>\n",
       "      <th>4</th>\n",
       "      <td>-1.489288</td>\n",
       "      <td>0</td>\n",
       "      <td>-0.096170</td>\n",
       "      <td>-0.825922</td>\n",
       "      <td>0.980537</td>\n",
       "      <td>0</td>\n",
       "      <td>0</td>\n",
       "      <td>1</td>\n",
       "      <td>0</td>\n",
       "      <td>0</td>\n",
       "      <td>0</td>\n",
       "      <td>0</td>\n",
       "      <td>1</td>\n",
       "    </tr>\n",
       "    <tr>\n",
       "      <th>...</th>\n",
       "      <td>...</td>\n",
       "      <td>...</td>\n",
       "      <td>...</td>\n",
       "      <td>...</td>\n",
       "      <td>...</td>\n",
       "      <td>...</td>\n",
       "      <td>...</td>\n",
       "      <td>...</td>\n",
       "      <td>...</td>\n",
       "      <td>...</td>\n",
       "      <td>...</td>\n",
       "      <td>...</td>\n",
       "      <td>...</td>\n",
       "    </tr>\n",
       "    <tr>\n",
       "      <th>298</th>\n",
       "      <td>-1.046013</td>\n",
       "      <td>1</td>\n",
       "      <td>-1.234430</td>\n",
       "      <td>0.334813</td>\n",
       "      <td>-0.770990</td>\n",
       "      <td>0</td>\n",
       "      <td>0</td>\n",
       "      <td>0</td>\n",
       "      <td>0</td>\n",
       "      <td>1</td>\n",
       "      <td>0</td>\n",
       "      <td>1</td>\n",
       "      <td>0</td>\n",
       "    </tr>\n",
       "    <tr>\n",
       "      <th>299</th>\n",
       "      <td>1.502821</td>\n",
       "      <td>1</td>\n",
       "      <td>0.700612</td>\n",
       "      <td>-1.038723</td>\n",
       "      <td>-0.376896</td>\n",
       "      <td>0</td>\n",
       "      <td>1</td>\n",
       "      <td>0</td>\n",
       "      <td>0</td>\n",
       "      <td>0</td>\n",
       "      <td>0</td>\n",
       "      <td>1</td>\n",
       "      <td>0</td>\n",
       "    </tr>\n",
       "    <tr>\n",
       "      <th>300</th>\n",
       "      <td>0.283813</td>\n",
       "      <td>1</td>\n",
       "      <td>-0.096170</td>\n",
       "      <td>-2.238149</td>\n",
       "      <td>-1.515388</td>\n",
       "      <td>1</td>\n",
       "      <td>1</td>\n",
       "      <td>0</td>\n",
       "      <td>0</td>\n",
       "      <td>0</td>\n",
       "      <td>0</td>\n",
       "      <td>1</td>\n",
       "      <td>0</td>\n",
       "    </tr>\n",
       "    <tr>\n",
       "      <th>301</th>\n",
       "      <td>0.283813</td>\n",
       "      <td>0</td>\n",
       "      <td>-0.096170</td>\n",
       "      <td>-0.206864</td>\n",
       "      <td>1.068113</td>\n",
       "      <td>0</td>\n",
       "      <td>0</td>\n",
       "      <td>1</td>\n",
       "      <td>0</td>\n",
       "      <td>0</td>\n",
       "      <td>0</td>\n",
       "      <td>1</td>\n",
       "      <td>0</td>\n",
       "    </tr>\n",
       "    <tr>\n",
       "      <th>302</th>\n",
       "      <td>-1.821745</td>\n",
       "      <td>1</td>\n",
       "      <td>0.359134</td>\n",
       "      <td>-1.386944</td>\n",
       "      <td>1.024325</td>\n",
       "      <td>0</td>\n",
       "      <td>0</td>\n",
       "      <td>0</td>\n",
       "      <td>1</td>\n",
       "      <td>0</td>\n",
       "      <td>0</td>\n",
       "      <td>0</td>\n",
       "      <td>1</td>\n",
       "    </tr>\n",
       "  </tbody>\n",
       "</table>\n",
       "<p>303 rows × 13 columns</p>\n",
       "</div>"
      ],
      "text/plain": [
       "          Age  Gender  BloodPres      Chol  MaxHeartRate  ExAngina  \\\n",
       "0    0.948726       1   0.757525 -0.264900      0.017197         0   \n",
       "1    1.392002       1   1.611220  0.760415     -1.821905         1   \n",
       "2    1.392002       1  -0.665300 -0.342283     -0.902354         1   \n",
       "3   -1.932564       1  -0.096170  0.063974      1.637359         0   \n",
       "4   -1.489288       0  -0.096170 -0.825922      0.980537         0   \n",
       "..        ...     ...        ...       ...           ...       ...   \n",
       "298 -1.046013       1  -1.234430  0.334813     -0.770990         0   \n",
       "299  1.502821       1   0.700612 -1.038723     -0.376896         0   \n",
       "300  0.283813       1  -0.096170 -2.238149     -1.515388         1   \n",
       "301  0.283813       0  -0.096170 -0.206864      1.068113         0   \n",
       "302 -1.821745       1   0.359134 -1.386944      1.024325         0   \n",
       "\n",
       "     PainType_Asymptomatic  PainType_Atypical_Angina  \\\n",
       "0                        0                         0   \n",
       "1                        1                         0   \n",
       "2                        1                         0   \n",
       "3                        0                         0   \n",
       "4                        0                         1   \n",
       "..                     ...                       ...   \n",
       "298                      0                         0   \n",
       "299                      1                         0   \n",
       "300                      1                         0   \n",
       "301                      0                         1   \n",
       "302                      0                         0   \n",
       "\n",
       "     PainType_Non-anginal_pain  PainType_Typical_Angina  \\\n",
       "0                            0                        1   \n",
       "1                            0                        0   \n",
       "2                            0                        0   \n",
       "3                            1                        0   \n",
       "4                            0                        0   \n",
       "..                         ...                      ...   \n",
       "298                          0                        1   \n",
       "299                          0                        0   \n",
       "300                          0                        0   \n",
       "301                          0                        0   \n",
       "302                          1                        0   \n",
       "\n",
       "     STPeakSlope_down_sloping  STPeakSlope_flat  STPeakSlope_up_sloping  \n",
       "0                           1                 0                       0  \n",
       "1                           0                 1                       0  \n",
       "2                           0                 1                       0  \n",
       "3                           1                 0                       0  \n",
       "4                           0                 0                       1  \n",
       "..                        ...               ...                     ...  \n",
       "298                         0                 1                       0  \n",
       "299                         0                 1                       0  \n",
       "300                         0                 1                       0  \n",
       "301                         0                 1                       0  \n",
       "302                         0                 0                       1  \n",
       "\n",
       "[303 rows x 13 columns]"
      ]
     },
     "execution_count": 40,
     "metadata": {},
     "output_type": "execute_result"
    }
   ],
   "source": [
    "X = dum.drop(['Diagnosis'],axis = 1)\n",
    "X"
   ]
  },
  {
   "cell_type": "markdown",
   "id": "5c0b1d27",
   "metadata": {},
   "source": [
    "Prepare the data y with Diagnosis column. Assign the numbers above 0 with 1. 0 represents no heart disease and 1 represents the person has got heart disease"
   ]
  },
  {
   "cell_type": "code",
   "execution_count": 41,
   "id": "5c52dc8f",
   "metadata": {
    "scrolled": true
   },
   "outputs": [
    {
     "data": {
      "text/plain": [
       "0      0\n",
       "1      1\n",
       "2      1\n",
       "3      0\n",
       "4      0\n",
       "      ..\n",
       "298    1\n",
       "299    1\n",
       "300    1\n",
       "301    1\n",
       "302    0\n",
       "Name: Diagnosis, Length: 303, dtype: int64"
      ]
     },
     "execution_count": 41,
     "metadata": {},
     "output_type": "execute_result"
    }
   ],
   "source": [
    "y = (dum.Diagnosis > 0).astype(int)\n",
    "y"
   ]
  },
  {
   "cell_type": "markdown",
   "id": "666aeb76",
   "metadata": {},
   "source": [
    "Create the train and test data using train_test_split function on X and y datasets created above\n",
    "\n",
    "The train size is 75% and test size is 25% with the random observations picking for test with 30"
   ]
  },
  {
   "cell_type": "code",
   "execution_count": 42,
   "id": "2294f243",
   "metadata": {},
   "outputs": [
    {
     "name": "stdout",
     "output_type": "stream",
     "text": [
      "X_train :\n",
      "           Age  Gender  BloodPres      Chol  MaxHeartRate  ExAngina  \\\n",
      "227  1.392002       0   1.155916  0.586305      0.980537         0   \n",
      "228 -0.048643       1  -1.234430 -0.787231     -1.821905         1   \n",
      "205 -1.046013       1   0.586786  1.205363     -0.114167         1   \n",
      "182 -1.378470       1   0.928264 -0.052099      1.243266         0   \n",
      "288  0.172994       1  -0.096170 -0.497047      0.586443         0   \n",
      "\n",
      "     PainType_Asymptomatic  PainType_Atypical_Angina  \\\n",
      "227                      0                         0   \n",
      "228                      1                         0   \n",
      "205                      1                         0   \n",
      "182                      0                         0   \n",
      "288                      0                         1   \n",
      "\n",
      "     PainType_Non-anginal_pain  PainType_Typical_Angina  \\\n",
      "227                          1                        0   \n",
      "228                          0                        0   \n",
      "205                          0                        0   \n",
      "182                          0                        1   \n",
      "288                          0                        0   \n",
      "\n",
      "     STPeakSlope_down_sloping  STPeakSlope_flat  STPeakSlope_up_sloping  \n",
      "227                         0                 0                       1  \n",
      "228                         0                 1                       0  \n",
      "205                         0                 1                       0  \n",
      "182                         0                 0                       1  \n",
      "288                         0                 0                       1  \n",
      "X_test:\n",
      "           Age  Gender  BloodPres      Chol  MaxHeartRate  ExAngina  \\\n",
      "97   0.616270       0   1.042090  0.218739      0.323714         0   \n",
      "122 -0.381100       1  -1.803559 -0.477702     -0.289320         1   \n",
      "84  -0.270281       1  -0.665300  1.514893      0.980537         0   \n",
      "231  0.062176       0   2.749480  1.553584     -1.427812         1   \n",
      "110  0.727089       0   0.757525  1.166672     -0.157955         1   \n",
      "\n",
      "     PainType_Asymptomatic  PainType_Atypical_Angina  \\\n",
      "97                       1                         0   \n",
      "122                      0                         0   \n",
      "84                       0                         1   \n",
      "231                      1                         0   \n",
      "110                      1                         0   \n",
      "\n",
      "     PainType_Non-anginal_pain  PainType_Typical_Angina  \\\n",
      "97                           0                        0   \n",
      "122                          1                        0   \n",
      "84                           0                        0   \n",
      "231                          0                        0   \n",
      "110                          0                        0   \n",
      "\n",
      "     STPeakSlope_down_sloping  STPeakSlope_flat  STPeakSlope_up_sloping  \n",
      "97                          0                 1                       0  \n",
      "122                         0                 1                       0  \n",
      "84                          0                 0                       1  \n",
      "231                         0                 1                       0  \n",
      "110                         0                 1                       0  \n",
      "y_train:\n",
      " 227    0\n",
      "228    1\n",
      "205    1\n",
      "182    0\n",
      "288    0\n",
      "Name: Diagnosis, dtype: int64\n",
      "y_test:\n",
      " 97     1\n",
      "122    0\n",
      "84     0\n",
      "231    1\n",
      "110    1\n",
      "Name: Diagnosis, dtype: int64\n"
     ]
    }
   ],
   "source": [
    "X_train, X_test, y_train, y_test = train_test_split(X, y, test_size = 0.25, random_state = 30)\n",
    "print(\"X_train :\\n\",X_train.head())\n",
    "print(\"X_test:\\n\",X_test.head())\n",
    "print(\"y_train:\\n\",y_train.head())\n",
    "print(\"y_test:\\n\",y_test.head())"
   ]
  },
  {
   "cell_type": "markdown",
   "id": "f136012c",
   "metadata": {},
   "source": [
    "### LOGISTIC REGRESSION MODEL:\n",
    "\n",
    "Used Logistic Regression as the first model\n",
    "\n",
    "Fit the model to the train data and check the score. The score gives us the training accuracy and for model1 it is 81% "
   ]
  },
  {
   "cell_type": "code",
   "execution_count": 43,
   "id": "07a93f74",
   "metadata": {},
   "outputs": [
    {
     "data": {
      "text/plain": [
       "0.8149779735682819"
      ]
     },
     "execution_count": 43,
     "metadata": {},
     "output_type": "execute_result"
    }
   ],
   "source": [
    "lr = LogisticRegression()\n",
    "model1 = lr.fit(X_train, y_train)\n",
    "lr.score(X_train, y_train)"
   ]
  },
  {
   "cell_type": "markdown",
   "id": "9dd47fd8",
   "metadata": {},
   "source": [
    "Examine the coefficients\n",
    "\n",
    "Table below shows correlaion coefficients between all the variables like age, gender etc against the dignosis.\n",
    "Age, gender, bloodpres, chol, exagina, paintype_asymptomiatic, stpealslope_down_sloping and stpeakslope_flat have positive correlation with diagnosis.\n",
    "Maxheartrate, paintype_atypical_angina, paintype_non-anginal_pain, paintype_typical_angina and stpeakslope_up_sloping have negative correlation with dignosis.\n",
    "Paintype_asymptomatic and gender have the higher correlation with diagosis with slope >1.0, rest of variables have correlation with slope <1.0"
   ]
  },
  {
   "cell_type": "code",
   "execution_count": 44,
   "id": "206cfb0f",
   "metadata": {},
   "outputs": [
    {
     "data": {
      "text/html": [
       "<div>\n",
       "<style scoped>\n",
       "    .dataframe tbody tr th:only-of-type {\n",
       "        vertical-align: middle;\n",
       "    }\n",
       "\n",
       "    .dataframe tbody tr th {\n",
       "        vertical-align: top;\n",
       "    }\n",
       "\n",
       "    .dataframe thead th {\n",
       "        text-align: right;\n",
       "    }\n",
       "</style>\n",
       "<table border=\"1\" class=\"dataframe\">\n",
       "  <thead>\n",
       "    <tr style=\"text-align: right;\">\n",
       "      <th></th>\n",
       "      <th>0</th>\n",
       "      <th>1</th>\n",
       "    </tr>\n",
       "  </thead>\n",
       "  <tbody>\n",
       "    <tr>\n",
       "      <th>0</th>\n",
       "      <td>Age</td>\n",
       "      <td>[0.30102872150410526]</td>\n",
       "    </tr>\n",
       "    <tr>\n",
       "      <th>1</th>\n",
       "      <td>Gender</td>\n",
       "      <td>[1.8069952546516637]</td>\n",
       "    </tr>\n",
       "    <tr>\n",
       "      <th>2</th>\n",
       "      <td>BloodPres</td>\n",
       "      <td>[0.28697511053129204]</td>\n",
       "    </tr>\n",
       "    <tr>\n",
       "      <th>3</th>\n",
       "      <td>Chol</td>\n",
       "      <td>[0.200762472990411]</td>\n",
       "    </tr>\n",
       "    <tr>\n",
       "      <th>4</th>\n",
       "      <td>MaxHeartRate</td>\n",
       "      <td>[-0.27681119336618565]</td>\n",
       "    </tr>\n",
       "    <tr>\n",
       "      <th>5</th>\n",
       "      <td>ExAngina</td>\n",
       "      <td>[0.6978891556053726]</td>\n",
       "    </tr>\n",
       "    <tr>\n",
       "      <th>6</th>\n",
       "      <td>PainType_Asymptomatic</td>\n",
       "      <td>[1.2818402355628449]</td>\n",
       "    </tr>\n",
       "    <tr>\n",
       "      <th>7</th>\n",
       "      <td>PainType_Atypical_Angina</td>\n",
       "      <td>[-0.38510865496329705]</td>\n",
       "    </tr>\n",
       "    <tr>\n",
       "      <th>8</th>\n",
       "      <td>PainType_Non-anginal_pain</td>\n",
       "      <td>[-0.5254527302024004]</td>\n",
       "    </tr>\n",
       "    <tr>\n",
       "      <th>9</th>\n",
       "      <td>PainType_Typical_Angina</td>\n",
       "      <td>[-0.3713284618820918]</td>\n",
       "    </tr>\n",
       "    <tr>\n",
       "      <th>10</th>\n",
       "      <td>STPeakSlope_down_sloping</td>\n",
       "      <td>[0.2531650083789737]</td>\n",
       "    </tr>\n",
       "    <tr>\n",
       "      <th>11</th>\n",
       "      <td>STPeakSlope_flat</td>\n",
       "      <td>[0.33625614525804753]</td>\n",
       "    </tr>\n",
       "    <tr>\n",
       "      <th>12</th>\n",
       "      <td>STPeakSlope_up_sloping</td>\n",
       "      <td>[-0.5894707651219654]</td>\n",
       "    </tr>\n",
       "  </tbody>\n",
       "</table>\n",
       "</div>"
      ],
      "text/plain": [
       "                            0                       1\n",
       "0                         Age   [0.30102872150410526]\n",
       "1                      Gender    [1.8069952546516637]\n",
       "2                   BloodPres   [0.28697511053129204]\n",
       "3                        Chol     [0.200762472990411]\n",
       "4                MaxHeartRate  [-0.27681119336618565]\n",
       "5                    ExAngina    [0.6978891556053726]\n",
       "6       PainType_Asymptomatic    [1.2818402355628449]\n",
       "7    PainType_Atypical_Angina  [-0.38510865496329705]\n",
       "8   PainType_Non-anginal_pain   [-0.5254527302024004]\n",
       "9     PainType_Typical_Angina   [-0.3713284618820918]\n",
       "10   STPeakSlope_down_sloping    [0.2531650083789737]\n",
       "11           STPeakSlope_flat   [0.33625614525804753]\n",
       "12     STPeakSlope_up_sloping   [-0.5894707651219654]"
      ]
     },
     "execution_count": 44,
     "metadata": {},
     "output_type": "execute_result"
    }
   ],
   "source": [
    "pd.DataFrame(zip(X.columns, np.transpose(model1.coef_)))"
   ]
  },
  {
   "cell_type": "markdown",
   "id": "2fe9f48d",
   "metadata": {},
   "source": [
    "Generate predictions using model1 on the test data"
   ]
  },
  {
   "cell_type": "code",
   "execution_count": 45,
   "id": "f7393fc6",
   "metadata": {},
   "outputs": [
    {
     "data": {
      "text/plain": [
       "array([1, 0, 0, 1, 1, 1, 0, 0, 0, 1, 1, 0, 1, 0, 0, 0, 0, 0, 0, 1, 0, 0,\n",
       "       1, 1, 0, 1, 1, 0, 1, 0, 0, 1, 1, 1, 1, 1, 1, 0, 1, 1, 0, 0, 1, 1,\n",
       "       0, 1, 0, 0, 1, 0, 1, 1, 0, 0, 0, 0, 0, 1, 1, 1, 0, 0, 0, 1, 0, 1,\n",
       "       1, 0, 1, 1, 0, 0, 0, 1, 0, 1])"
      ]
     },
     "execution_count": 45,
     "metadata": {},
     "output_type": "execute_result"
    }
   ],
   "source": [
    "predict1 = model1.predict(X_test)\n",
    "predict1"
   ]
  },
  {
   "cell_type": "markdown",
   "id": "a0f0d842",
   "metadata": {},
   "source": [
    "Generate the class probabilities and this gives us the probabilities for the diagnosis 0 and 1\n",
    "\n",
    "This classifier predicts, in second column any value greater than 0.5 has heart disease i.e. the diagnosis is 1"
   ]
  },
  {
   "cell_type": "code",
   "execution_count": 46,
   "id": "23d56f54",
   "metadata": {},
   "outputs": [
    {
     "data": {
      "text/plain": [
       "array([[0.43635066, 0.56364934],\n",
       "       [0.5333042 , 0.4666958 ],\n",
       "       [0.76997088, 0.23002912],\n",
       "       [0.11610081, 0.88389919],\n",
       "       [0.22631922, 0.77368078]])"
      ]
     },
     "execution_count": 46,
     "metadata": {},
     "output_type": "execute_result"
    }
   ],
   "source": [
    "prob = model1.predict_proba(X_test)\n",
    "prob[:5]"
   ]
  },
  {
   "cell_type": "markdown",
   "id": "d51a8abd",
   "metadata": {},
   "source": [
    "* Confusion matrix :\n",
    "\n",
    "Create the confustion matrix using y_test and predictions generated. By using the confusion matrix() function in Scikit-Learn and providing both the true and predicted labels, we may build a confusion matrix.\n",
    "\n",
    "Print the true positive, false positive, true negative and false negative from the created matrix"
   ]
  },
  {
   "cell_type": "code",
   "execution_count": 47,
   "id": "a1b79ee5",
   "metadata": {},
   "outputs": [
    {
     "data": {
      "text/plain": [
       "array([[35, 12],\n",
       "       [ 4, 25]])"
      ]
     },
     "execution_count": 47,
     "metadata": {},
     "output_type": "execute_result"
    }
   ],
   "source": [
    "cm=confusion_matrix (y_test,predict1)\n",
    "cm"
   ]
  },
  {
   "cell_type": "code",
   "execution_count": 48,
   "id": "744a8c06",
   "metadata": {},
   "outputs": [
    {
     "data": {
      "text/plain": [
       "(35, 12, 4, 25)"
      ]
     },
     "execution_count": 48,
     "metadata": {},
     "output_type": "execute_result"
    }
   ],
   "source": [
    "tn, fp, fn, tp = cm.ravel()\n",
    "(tn, fp, fn, tp)"
   ]
  },
  {
   "cell_type": "markdown",
   "id": "a1a71220",
   "metadata": {},
   "source": [
    "Print the precision and accuracy scores using formula\n",
    "\n",
    "Precision quantifies the number of correct positive predictions made. The worst value is 0.0 and the best is 1.00. The formula to calculate the precision is:\n",
    "Precision = TruePositives/(TruePositives + FalsePositives)\n",
    "\n",
    "Accuracy tells how often to expect the model will correctly predict an outcome of the total number of times its predictions.\n",
    "Accuracy = (TruePositives + TrueNegative)/(TruePositives + FalsePositives + TrueNegatives + FalseNegatives)"
   ]
  },
  {
   "cell_type": "code",
   "execution_count": 49,
   "id": "1c9c4866",
   "metadata": {},
   "outputs": [
    {
     "name": "stdout",
     "output_type": "stream",
     "text": [
      "Testing Precision : 0.68\n",
      "Testing Accuracy : 0.79\n"
     ]
    }
   ],
   "source": [
    "print(\"Testing Precision :\",round(tp/(tp+fp),2))\n",
    "print(\"Testing Accuracy :\",round((tp+tn)/(tp+fp+fn+tn),2))"
   ]
  },
  {
   "cell_type": "markdown",
   "id": "06f9d42c",
   "metadata": {},
   "source": [
    "Print the precision and accuracy scores using the metrics from sklearn. The calculated one matches with the metrics one\n",
    "\n",
    "Accuracy_score is the testing accuracy and in this case it is 79%\n",
    "\n",
    "Print the classification report to see other metrics  "
   ]
  },
  {
   "cell_type": "code",
   "execution_count": 50,
   "id": "8452200e",
   "metadata": {
    "scrolled": true
   },
   "outputs": [
    {
     "name": "stdout",
     "output_type": "stream",
     "text": [
      "precision_score : 0.68\n",
      "accuracy_score : 0.79\n",
      "\n",
      "classification_report :\n",
      "               precision    recall  f1-score   support\n",
      "\n",
      "           0       0.90      0.74      0.81        47\n",
      "           1       0.68      0.86      0.76        29\n",
      "\n",
      "    accuracy                           0.79        76\n",
      "   macro avg       0.79      0.80      0.79        76\n",
      "weighted avg       0.81      0.79      0.79        76\n",
      "\n"
     ]
    }
   ],
   "source": [
    "print(\"precision_score :\",round(precision_score(y_test,predict1),2))\n",
    "print(\"accuracy_score :\",round(accuracy_score(y_test,predict1),2))\n",
    "print(\"\\nclassification_report :\\n\",classification_report(y_test,predict1))"
   ]
  },
  {
   "cell_type": "markdown",
   "id": "73d00b93",
   "metadata": {},
   "source": [
    "What's going on here?\n",
    "\n",
    "__Precision__ - Indicates the proportion of positive Identifications (model predicted class 1) which were actually correct. A model which produces no false positives has a precision of 1.0.\n",
    "\n",
    "__Recall__ - Indicates the proportion of actual positives which were correctly classified. A model which produces no false negatives has a recall of 1.0.\n",
    "\n",
    "__F1 score__ - A combination of precision and recall. a perfect model achieves an F1 score of 1.0.\n",
    "Support - The number of samples each metric was calculated on.\n",
    "\n",
    "__Accuracy__ - The accuracy of the model in decimal form. Perfect accuracy is equal to 1.0.\n",
    "\n",
    "__Macro avg__ - Short for macro average, the average precision, recall and F1 score between classes. Macro avg doesn’t class imbalance into effort, so if you do have class imbalances, pay attention to this metric.\n",
    "\n",
    "__Weighted avg__ - Short for weighted average, the weighted average precision, recall and F1 score between classes. \n",
    "\n",
    "Weighted means each metric is calculated with respect to how many samples there are in each class. This metric will favour the majority class (e.g. will give a high value when one class out performs another due to having more samples).\n"
   ]
  },
  {
   "cell_type": "markdown",
   "id": "82a4d794",
   "metadata": {},
   "source": [
    "Evaluate the model using 20-fold cross-validation, to see if the accuracy holds up more rigorously\n",
    "\n",
    "The mean is 78%, which is very close to the accuracy score"
   ]
  },
  {
   "cell_type": "code",
   "execution_count": 51,
   "id": "de2df37e",
   "metadata": {
    "scrolled": true
   },
   "outputs": [
    {
     "name": "stdout",
     "output_type": "stream",
     "text": [
      "[0.8125     0.6875     0.625      0.8        0.73333333 0.8\n",
      " 0.86666667 0.93333333 0.86666667 0.93333333 0.86666667 0.73333333\n",
      " 0.73333333 0.8        0.66666667 0.86666667 0.66666667 0.66666667\n",
      " 0.73333333 0.86666667]\n",
      "\n",
      "Mean : 0.7829166666666665\n"
     ]
    }
   ],
   "source": [
    "score1 = cross_val_score(lr, X, y, scoring='accuracy', cv=20)\n",
    "print (score1)\n",
    "print (\"\\nMean :\",score1.mean())"
   ]
  },
  {
   "cell_type": "markdown",
   "id": "a12109f0",
   "metadata": {},
   "source": [
    "We will utilize cross_val_score() and various scoring parameter values together with the optimal model and hyperparameters. \n",
    "\n",
    "When using cross_val_score(), data and labels are combined with an estimator (a machine learning model). The machine learning model is then assessed using cross-validation and a predetermined score parameter on the data and labels. \n",
    "\n",
    "The best hyperparameters should be reviewed before we put them to use."
   ]
  },
  {
   "cell_type": "markdown",
   "id": "1bd16752",
   "metadata": {},
   "source": [
    "### Tuning a model with GridSearchCV\n",
    "\n",
    "The difference between RandomizedSearchCV and GridSearchCV is where RandomizedSearchCV searches over a grid of hyperparameters performing n_itercombinations, GridSearchCV will test every single possible combination.\n",
    "\n",
    "In short:\n",
    "\n",
    "* RandomizedSearchCV - tries n_itercombinations of hyperparameters and saves the best.\n",
    "* GridSearchCV - tries every single combination of hyperparameters and saves the best.\n",
    "\n",
    "Let's see it in action."
   ]
  },
  {
   "cell_type": "code",
   "execution_count": 52,
   "id": "346138ed",
   "metadata": {},
   "outputs": [
    {
     "name": "stdout",
     "output_type": "stream",
     "text": [
      "Fitting 5 folds for each of 30 candidates, totalling 150 fits\n"
     ]
    }
   ],
   "source": [
    "# Different hyperparameters for our LogisticRegression model\n",
    "log_reg_grid = {\"C\": np.logspace(-4, 4, 30),\n",
    "               \"solver\": [\"liblinear\"]}\n",
    "\n",
    "# Setup grid hyperparameter search for LogisticRegression\n",
    "gs_log_reg = GridSearchCV(LogisticRegression(),\n",
    "                         param_grid=log_reg_grid,\n",
    "                         cv=5,\n",
    "                         verbose=True)\n",
    "\n",
    "# Fit grid hyperparameter search model\n",
    "gs_log_reg.fit(X_train, y_train);"
   ]
  },
  {
   "cell_type": "code",
   "execution_count": 53,
   "id": "a31b6485",
   "metadata": {},
   "outputs": [
    {
     "data": {
      "text/plain": [
       "{'C': 9.236708571873866, 'solver': 'liblinear'}"
      ]
     },
     "execution_count": 53,
     "metadata": {},
     "output_type": "execute_result"
    }
   ],
   "source": [
    "# Check the best hyperparameters\n",
    "gs_log_reg.best_params_\n"
   ]
  },
  {
   "cell_type": "code",
   "execution_count": 54,
   "id": "caec1bf4",
   "metadata": {},
   "outputs": [
    {
     "data": {
      "text/plain": [
       "0.7763157894736842"
      ]
     },
     "execution_count": 54,
     "metadata": {},
     "output_type": "execute_result"
    }
   ],
   "source": [
    "# Evaluate the grid search LogisticRegression model\n",
    "gs_log_reg.score(X_test, y_test)"
   ]
  },
  {
   "cell_type": "markdown",
   "id": "0a5161ea",
   "metadata": {},
   "source": [
    "Due to the fact that our grid can only hold a maximum of 20 distinct hyperparameter combinations, we obtain the same outcomes as previously. \n",
    "\n",
    "It should be noted that if your grid has many different hyperparameter combinations, it may take a while for GridSearchCV to test them all. For this reason, it's wise to start with RandomizedSearchCV, test a number of options, and then use GridSearchCV to hone your results."
   ]
  },
  {
   "cell_type": "code",
   "execution_count": 55,
   "id": "7c4e6c30",
   "metadata": {},
   "outputs": [
    {
     "data": {
      "text/plain": [
       "{'C': 9.236708571873866, 'solver': 'liblinear'}"
      ]
     },
     "execution_count": 55,
     "metadata": {},
     "output_type": "execute_result"
    }
   ],
   "source": [
    "#check best hyperparameters\n",
    "gs_log_reg.best_params_"
   ]
  },
  {
   "cell_type": "code",
   "execution_count": 56,
   "id": "82d4abb5",
   "metadata": {},
   "outputs": [],
   "source": [
    "# Create a new classifier with best parameters\n",
    "clf = LogisticRegression(C=9.236708571873866,\n",
    "                        solver=\"liblinear\")"
   ]
  },
  {
   "cell_type": "markdown",
   "id": "66335e2a",
   "metadata": {},
   "source": [
    "Now we've got an instantiated classifier, let's find some cross-validated metrics."
   ]
  },
  {
   "cell_type": "code",
   "execution_count": 57,
   "id": "bd86f4c2",
   "metadata": {},
   "outputs": [
    {
     "data": {
      "text/plain": [
       "array([0.72131148, 0.83606557, 0.81967213, 0.75      , 0.78333333])"
      ]
     },
     "execution_count": 57,
     "metadata": {},
     "output_type": "execute_result"
    }
   ],
   "source": [
    "# Cross-validates accuracy\n",
    "cv_acc = cross_val_score(clf,\n",
    "                        X,\n",
    "                        y,\n",
    "                        cv=5,\n",
    "                        scoring=\"accuracy\")\n",
    "cv_acc"
   ]
  },
  {
   "cell_type": "markdown",
   "id": "94bd5116",
   "metadata": {},
   "source": [
    "Since there are 5 metrics here, we'll take the average."
   ]
  },
  {
   "cell_type": "code",
   "execution_count": 58,
   "id": "f389a054",
   "metadata": {},
   "outputs": [
    {
     "data": {
      "text/plain": [
       "0.7820765027322405"
      ]
     },
     "execution_count": 58,
     "metadata": {},
     "output_type": "execute_result"
    }
   ],
   "source": [
    "cv_acc = np.mean(cv_acc)\n",
    "cv_acc"
   ]
  },
  {
   "cell_type": "markdown",
   "id": "ac460f2e",
   "metadata": {},
   "source": [
    "Now we'll do the same for other classification metrics."
   ]
  },
  {
   "cell_type": "code",
   "execution_count": 59,
   "id": "9c8ffe0c",
   "metadata": {},
   "outputs": [
    {
     "data": {
      "text/plain": [
       "0.7834871794871795"
      ]
     },
     "execution_count": 59,
     "metadata": {},
     "output_type": "execute_result"
    }
   ],
   "source": [
    "# Cross-validated precision\n",
    "cv_precision = cross_val_score(clf,\n",
    "                        X,\n",
    "                        y,\n",
    "                        cv=5,\n",
    "                        scoring=\"precision\")\n",
    "cv_precision = np.mean(cv_precision)\n",
    "cv_precision"
   ]
  },
  {
   "cell_type": "code",
   "execution_count": 60,
   "id": "490e385a",
   "metadata": {},
   "outputs": [
    {
     "data": {
      "text/plain": [
       "0.7335978835978836"
      ]
     },
     "execution_count": 60,
     "metadata": {},
     "output_type": "execute_result"
    }
   ],
   "source": [
    "# Cross-validated recall\n",
    "cv_recall = cross_val_score(clf, \n",
    "                           X,\n",
    "                           y,\n",
    "                           cv=5,\n",
    "                           scoring=\"recall\")\n",
    "cv_recall = np.mean(cv_recall)\n",
    "cv_recall"
   ]
  },
  {
   "cell_type": "code",
   "execution_count": 61,
   "id": "90fde9bb",
   "metadata": {},
   "outputs": [
    {
     "data": {
      "text/plain": [
       "0.7541231054747912"
      ]
     },
     "execution_count": 61,
     "metadata": {},
     "output_type": "execute_result"
    }
   ],
   "source": [
    "# Cross_validated F1-score\n",
    "cv_f1 = cross_val_score(clf,\n",
    "                       X,\n",
    "                       y,\n",
    "                       cv=5,\n",
    "                       scoring=\"f1\")\n",
    "cv_f1 = np.mean(cv_f1)\n",
    "cv_f1"
   ]
  },
  {
   "cell_type": "markdown",
   "id": "54efa0ea",
   "metadata": {},
   "source": [
    "Now that we have cross-validated metrics, what should we do? \n",
    "\n",
    "Let's picture them first."
   ]
  },
  {
   "cell_type": "code",
   "execution_count": 62,
   "id": "22e322fd",
   "metadata": {
    "scrolled": true
   },
   "outputs": [
    {
     "data": {
      "image/png": "[encoded data removed]",
      "text/plain": [
       "<Figure size 432x288 with 1 Axes>"
      ]
     },
     "metadata": {
      "needs_background": "light"
     },
     "output_type": "display_data"
    }
   ],
   "source": [
    "# Visualize cross-validated metrics\n",
    "cv_metrics = pd.DataFrame({\"Accuracy\": cv_acc,\n",
    "                          \"Precision\": cv_precision,\n",
    "                          \"Recall\": cv_recall,\n",
    "                          \"F1\": cv_f1},\n",
    "                         index=[0])\n",
    "\n",
    "cv_metrics.T.plot.bar(title=\"Cross-validated classification metrics\",\n",
    "                     legend=False);\n"
   ]
  },
  {
   "cell_type": "markdown",
   "id": "76f7d180",
   "metadata": {},
   "source": [
    "Great! It appears that we could share this. To make it easier to understand where someone was, an addition may be to add the metrics to the top of each bar. \n",
    "\n",
    "The last item on our list of methods for evaluating our models is feature importance."
   ]
  },
  {
   "cell_type": "markdown",
   "id": "cc56b050",
   "metadata": {},
   "source": [
    "### Feature importance\n",
    "\n",
    "Another way to phrase the question, \"Which characteristics contributing most to the results of the model?\" is \"feature significance.\" \n",
    "\n",
    "Or in the case of our issue, attempting to forecast heart illness using a patient's medical features, which characteristics most significantly influence a model's ability to determine whether or not a person has heart disease? \n",
    "\n",
    "Because each model identifies patterns in data a little bit differently from the others that we've seen, how a model determines how significant those patterns are also varies. This implies that there is a somewhat different method for determining which attributes were most crucial for each model. \n",
    "\n",
    "Usually, you may locate an example by searching for \"[MODEL TYPE] feature importance,\" for instance, \"random forest feature significance,\" in the Scikit-Learn documentation. \n",
    "\n",
    "Since we're using LogisticRegression, we'll look at one way we can calculate feature importance for it.\n",
    "\n",
    "To do so, we'll use the coef_ attribute. Looking at the Scikit-Learn documentation for LogisticRegression, the coef_ attribute is the coefficient of the features in the decision function.\n",
    "\n",
    "We can access the coef_attribute after we've fit an instance of LogisticRegression."
   ]
  },
  {
   "cell_type": "code",
   "execution_count": 63,
   "id": "98469179",
   "metadata": {},
   "outputs": [],
   "source": [
    "# Fit an instance of LogisticRegression\n",
    "clf = LogisticRegression(C=9.236708571873866,\n",
    "                        solver=\"liblinear\")\n",
    "\n",
    "clf.fit(X_train, y_train);"
   ]
  },
  {
   "cell_type": "markdown",
   "id": "750a77e9",
   "metadata": {},
   "source": [
    "It might not make much sense after looking at this. However, these numbers represent how much each attribute influences how a model determines whether a sample of patients' health data shows patterns that are more indicative of heart disease or not. \n",
    "\n",
    "Even with this knowledge, the coef_ array's present shape still has little meaning. However, it will if we incorporate it with the dataframe's columns (features)."
   ]
  },
  {
   "cell_type": "code",
   "execution_count": 64,
   "id": "6d9f2a91",
   "metadata": {
    "scrolled": true
   },
   "outputs": [],
   "source": [
    "# Match coef's of feature to columns\n",
    "feature_dict = dict(zip(X.columns, list(clf.coef_[0])))"
   ]
  },
  {
   "cell_type": "markdown",
   "id": "f48c9057",
   "metadata": {},
   "source": [
    "Now we've match the feature coefficient to different features, let's visualize them."
   ]
  },
  {
   "cell_type": "code",
   "execution_count": 65,
   "id": "c078393c",
   "metadata": {
    "scrolled": true
   },
   "outputs": [
    {
     "data": {
      "image/png": "[encoded data removed]",
      "text/plain": [
       "<Figure size 432x288 with 1 Axes>"
      ]
     },
     "metadata": {
      "needs_background": "light"
     },
     "output_type": "display_data"
    }
   ],
   "source": [
    "# Visualize feature importance\n",
    "feature_df = pd.DataFrame(feature_dict, index=[0])\n",
    "feature_df.T.plot.bar(title=\"Feature Importance\", legend=False);"
   ]
  },
  {
   "cell_type": "markdown",
   "id": "dbf1aacd",
   "metadata": {},
   "source": [
    "You'll notice some are negative and some are positive.\n",
    "\n",
    "The larger the value (bigger bar), the more the feature contributes to the models decision.\n",
    "\n",
    "If the value is negative, it means there's a negative correlation. And vice versa for positive values.\n",
    "\n"
   ]
  },
  {
   "cell_type": "markdown",
   "id": "6fc11df7",
   "metadata": {},
   "source": [
    "For example, the ExAngina attribute has a negative value of -0.9, which means as the value for ExAngina increases, the target value decreases.\n",
    "\n",
    "We can see this by comparing the ExAngina column to the Diagnosis column."
   ]
  },
  {
   "cell_type": "code",
   "execution_count": 66,
   "id": "d154570f",
   "metadata": {
    "scrolled": true
   },
   "outputs": [
    {
     "data": {
      "text/html": [
       "<div>\n",
       "<style scoped>\n",
       "    .dataframe tbody tr th:only-of-type {\n",
       "        vertical-align: middle;\n",
       "    }\n",
       "\n",
       "    .dataframe tbody tr th {\n",
       "        vertical-align: top;\n",
       "    }\n",
       "\n",
       "    .dataframe thead th {\n",
       "        text-align: right;\n",
       "    }\n",
       "</style>\n",
       "<table border=\"1\" class=\"dataframe\">\n",
       "  <thead>\n",
       "    <tr style=\"text-align: right;\">\n",
       "      <th>Diagnosis</th>\n",
       "      <th>0</th>\n",
       "      <th>1</th>\n",
       "      <th>2</th>\n",
       "      <th>3</th>\n",
       "      <th>4</th>\n",
       "    </tr>\n",
       "    <tr>\n",
       "      <th>ExAngina</th>\n",
       "      <th></th>\n",
       "      <th></th>\n",
       "      <th></th>\n",
       "      <th></th>\n",
       "      <th></th>\n",
       "    </tr>\n",
       "  </thead>\n",
       "  <tbody>\n",
       "    <tr>\n",
       "      <th>0</th>\n",
       "      <td>141</td>\n",
       "      <td>30</td>\n",
       "      <td>14</td>\n",
       "      <td>12</td>\n",
       "      <td>7</td>\n",
       "    </tr>\n",
       "    <tr>\n",
       "      <th>1</th>\n",
       "      <td>23</td>\n",
       "      <td>25</td>\n",
       "      <td>22</td>\n",
       "      <td>23</td>\n",
       "      <td>6</td>\n",
       "    </tr>\n",
       "  </tbody>\n",
       "</table>\n",
       "</div>"
      ],
      "text/plain": [
       "Diagnosis    0   1   2   3  4\n",
       "ExAngina                     \n",
       "0          141  30  14  12  7\n",
       "1           23  25  22  23  6"
      ]
     },
     "execution_count": 66,
     "metadata": {},
     "output_type": "execute_result"
    }
   ],
   "source": [
    "pd.crosstab(df2[\"ExAngina\"], df2[\"Diagnosis\"])"
   ]
  },
  {
   "cell_type": "markdown",
   "id": "3574122b",
   "metadata": {},
   "source": [
    "How about a positive correlation?"
   ]
  },
  {
   "cell_type": "code",
   "execution_count": 67,
   "id": "ec076e62",
   "metadata": {
    "scrolled": false
   },
   "outputs": [
    {
     "data": {
      "text/html": [
       "<div>\n",
       "<style scoped>\n",
       "    .dataframe tbody tr th:only-of-type {\n",
       "        vertical-align: middle;\n",
       "    }\n",
       "\n",
       "    .dataframe tbody tr th {\n",
       "        vertical-align: top;\n",
       "    }\n",
       "\n",
       "    .dataframe thead th {\n",
       "        text-align: right;\n",
       "    }\n",
       "</style>\n",
       "<table border=\"1\" class=\"dataframe\">\n",
       "  <thead>\n",
       "    <tr style=\"text-align: right;\">\n",
       "      <th>Diagnosis</th>\n",
       "      <th>0</th>\n",
       "      <th>1</th>\n",
       "      <th>2</th>\n",
       "      <th>3</th>\n",
       "      <th>4</th>\n",
       "    </tr>\n",
       "    <tr>\n",
       "      <th>FBSugar</th>\n",
       "      <th></th>\n",
       "      <th></th>\n",
       "      <th></th>\n",
       "      <th></th>\n",
       "      <th></th>\n",
       "    </tr>\n",
       "  </thead>\n",
       "  <tbody>\n",
       "    <tr>\n",
       "      <th>0</th>\n",
       "      <td>141</td>\n",
       "      <td>51</td>\n",
       "      <td>27</td>\n",
       "      <td>27</td>\n",
       "      <td>12</td>\n",
       "    </tr>\n",
       "    <tr>\n",
       "      <th>1</th>\n",
       "      <td>23</td>\n",
       "      <td>4</td>\n",
       "      <td>9</td>\n",
       "      <td>8</td>\n",
       "      <td>1</td>\n",
       "    </tr>\n",
       "  </tbody>\n",
       "</table>\n",
       "</div>"
      ],
      "text/plain": [
       "Diagnosis    0   1   2   3   4\n",
       "FBSugar                       \n",
       "0          141  51  27  27  12\n",
       "1           23   4   9   8   1"
      ]
     },
     "execution_count": 67,
     "metadata": {},
     "output_type": "execute_result"
    }
   ],
   "source": [
    "pd.crosstab(df[\"FBSugar\"], df[\"Diagnosis\"])"
   ]
  },
  {
   "cell_type": "markdown",
   "id": "0d945772",
   "metadata": {},
   "source": [
    "Looking back the data dictionary, we see FBSugar is where:\n",
    "\n",
    "Indicator: Is fasting blood sugar > 120 mg/dl (1 = true; 0 = false)"
   ]
  },
  {
   "cell_type": "markdown",
   "id": "c0f0d882",
   "metadata": {},
   "source": [
    "Create the dataframe X_reg using the prediction probability from model1 on X dataset for future use if needed\n",
    "\n",
    "Count the records with Diagnosis as 1 and the count is 145"
   ]
  },
  {
   "cell_type": "code",
   "execution_count": 68,
   "id": "398615aa",
   "metadata": {},
   "outputs": [],
   "source": [
    "d0 = []\n",
    "d1 = []\n",
    "diagnose = []\n",
    "prob1 = model1.predict_proba(X)\n",
    "\n",
    "for p in range(len(prob1)):\n",
    "    d0.append(prob1[p][0])\n",
    "    d1.append(prob1[p][1])\n",
    "    if prob1[p][1]>0.5:\n",
    "        diagnose.append(\"Yes\")\n",
    "    else:\n",
    "        diagnose.append(\"No\")"
   ]
  },
  {
   "cell_type": "code",
   "execution_count": 69,
   "id": "0f3b317f",
   "metadata": {},
   "outputs": [
    {
     "data": {
      "text/plain": [
       "d_0              145\n",
       "d_1              145\n",
       "Heart_disease    145\n",
       "dtype: int64"
      ]
     },
     "execution_count": 69,
     "metadata": {},
     "output_type": "execute_result"
    }
   ],
   "source": [
    "X_reg = pd.DataFrame()\n",
    "X_reg[\"d_0\"] = d0\n",
    "X_reg[\"d_1\"] = d1\n",
    "X_reg[\"Heart_disease\"] = diagnose\n",
    "\n",
    "X_reg[X_reg['Heart_disease']==\"Yes\"].count()"
   ]
  },
  {
   "cell_type": "markdown",
   "id": "22b1043c",
   "metadata": {},
   "source": [
    "### KNN MODEL:\n",
    "\n",
    "Used KNN as second model with n_neighbors value (k value) as 10\n",
    "\n",
    "Fit the model to the training data and check the score. The score is 0.788 which gives us the correctly classified samples"
   ]
  },
  {
   "cell_type": "code",
   "execution_count": 70,
   "id": "6446b665",
   "metadata": {},
   "outputs": [
    {
     "data": {
      "text/plain": [
       "0.788546255506608"
      ]
     },
     "execution_count": 70,
     "metadata": {},
     "output_type": "execute_result"
    }
   ],
   "source": [
    "model2 = KNeighborsClassifier(n_neighbors = 10)\n",
    "model2.fit(X_train,y_train)\n",
    "model2.score(X_train, y_train)"
   ]
  },
  {
   "cell_type": "markdown",
   "id": "99fe68e7",
   "metadata": {},
   "source": [
    "Predict the values on test data using KNN model\n",
    "\n",
    "Use accuracy_score to compute the accuracy of the correct predictions and the accuracy with 10 k value is 80%"
   ]
  },
  {
   "cell_type": "code",
   "execution_count": 71,
   "id": "4032680f",
   "metadata": {},
   "outputs": [
    {
     "name": "stdout",
     "output_type": "stream",
     "text": [
      "0.8\n"
     ]
    }
   ],
   "source": [
    "predict2 = model2.predict(X_test)\n",
    "print(round(accuracy_score(y_test,predict2),2))"
   ]
  },
  {
   "cell_type": "markdown",
   "id": "b8cdc377",
   "metadata": {},
   "source": [
    "Since we're not sure which k value gives the best accuracy_score, getting the hyperparameter n_neighbors to check the number of neighbors for every data point\n",
    "\n",
    "Performed and received accuracy_score for n_neighbors ranging from 1 to 50 and appended it to testing list"
   ]
  },
  {
   "cell_type": "code",
   "execution_count": 72,
   "id": "760ed2fb",
   "metadata": {},
   "outputs": [],
   "source": [
    "testing = []\n",
    "for i in range(1,50):\n",
    "    p = KNeighborsClassifier(n_neighbors = i)\n",
    "    p.fit(X_train,y_train)\n",
    "    testing.append(accuracy_score(y_test,p.predict(X_test)))"
   ]
  },
  {
   "cell_type": "markdown",
   "id": "62231a11",
   "metadata": {},
   "source": [
    "Plot the line graph of accuracy_scores for k-value from 1 to 50\n",
    "\n",
    "Small k-value has low bias, low accuracy and high variance but risk of overfitting\n",
    "\n",
    "High k-value has high bias, high accuracy and low variance and can be underfitting"
   ]
  },
  {
   "cell_type": "code",
   "execution_count": 73,
   "id": "6650a9db",
   "metadata": {},
   "outputs": [
    {
     "data": {
      "text/plain": [
       "[<matplotlib.lines.Line2D at 0x7fe4a1a457c0>]"
      ]
     },
     "execution_count": 73,
     "metadata": {},
     "output_type": "execute_result"
    },
    {
     "data": {
      "image/png": "[encoded data removed]",
      "text/plain": [
       "<Figure size 432x288 with 1 Axes>"
      ]
     },
     "metadata": {
      "needs_background": "light"
     },
     "output_type": "display_data"
    }
   ],
   "source": [
    "plt.plot(range(1,50),testing)"
   ]
  },
  {
   "cell_type": "markdown",
   "id": "e1d85368",
   "metadata": {},
   "source": [
    "check the maximum accuracy score in testing with its index"
   ]
  },
  {
   "cell_type": "code",
   "execution_count": 74,
   "id": "09fa2d42",
   "metadata": {},
   "outputs": [
    {
     "name": "stdout",
     "output_type": "stream",
     "text": [
      "43\n",
      "0.8421052631578947\n"
     ]
    }
   ],
   "source": [
    "print(testing.index(max(testing)))\n",
    "print(max(testing))"
   ]
  },
  {
   "cell_type": "markdown",
   "id": "d01c6297",
   "metadata": {},
   "source": [
    "Use the same maximum index as k-value and calculate the training score and testing accuracy score\n",
    "\n",
    "The training score is 72% and the accuracy score is 84%\n",
    "\n",
    "Generate the predictions using model2"
   ]
  },
  {
   "cell_type": "code",
   "execution_count": 75,
   "id": "2963a9fe",
   "metadata": {},
   "outputs": [
    {
     "data": {
      "text/plain": [
       "0.7180616740088106"
      ]
     },
     "execution_count": 75,
     "metadata": {},
     "output_type": "execute_result"
    }
   ],
   "source": [
    "model2 = KNeighborsClassifier(n_neighbors = testing.index(max(testing))+1)\n",
    "model2.fit(X_train,y_train)\n",
    "model2.score(X_train, y_train)"
   ]
  },
  {
   "cell_type": "code",
   "execution_count": 76,
   "id": "77c12515",
   "metadata": {},
   "outputs": [
    {
     "data": {
      "text/plain": [
       "array([1, 0, 0, 1, 1, 1, 0, 0, 0, 1, 1, 0, 1, 0, 0, 0, 0, 0, 0, 0, 0, 0,\n",
       "       1, 1, 0, 1, 0, 0, 1, 1, 0, 1, 1, 0, 1, 1, 1, 0, 0, 1, 0, 0, 1, 1,\n",
       "       0, 1, 0, 0, 1, 0, 1, 1, 0, 0, 0, 0, 1, 1, 1, 1, 0, 0, 0, 1, 0, 1,\n",
       "       1, 0, 1, 0, 0, 0, 0, 1, 1, 1])"
      ]
     },
     "execution_count": 76,
     "metadata": {},
     "output_type": "execute_result"
    }
   ],
   "source": [
    "predict2 = model2.predict(X_test)\n",
    "predict2"
   ]
  },
  {
   "cell_type": "code",
   "execution_count": 77,
   "id": "773ae68d",
   "metadata": {},
   "outputs": [
    {
     "name": "stdout",
     "output_type": "stream",
     "text": [
      "0.842\n"
     ]
    }
   ],
   "source": [
    "print(round(accuracy_score(y_test,predict2),3))"
   ]
  },
  {
   "cell_type": "markdown",
   "id": "dbebf560",
   "metadata": {},
   "source": [
    "* Confusion matrix:\n",
    "\n",
    "Create the confusion matrix on test data using predict 2 and check the TP, FP, TN and FN"
   ]
  },
  {
   "cell_type": "code",
   "execution_count": 78,
   "id": "4a0ac8b2",
   "metadata": {},
   "outputs": [
    {
     "data": {
      "text/plain": [
       "array([[38,  9],\n",
       "       [ 3, 26]])"
      ]
     },
     "execution_count": 78,
     "metadata": {},
     "output_type": "execute_result"
    }
   ],
   "source": [
    "cmk=confusion_matrix (y_test,predict2)\n",
    "cmk"
   ]
  },
  {
   "cell_type": "code",
   "execution_count": 79,
   "id": "5e3e4611",
   "metadata": {},
   "outputs": [
    {
     "data": {
      "text/plain": [
       "(38, 9, 3, 26)"
      ]
     },
     "execution_count": 79,
     "metadata": {},
     "output_type": "execute_result"
    }
   ],
   "source": [
    "tn, fp, fn, tp = cmk.ravel()\n",
    "(tn, fp, fn, tp)"
   ]
  },
  {
   "cell_type": "markdown",
   "id": "c4e0714b",
   "metadata": {},
   "source": [
    "Check and print the metrics values using classification report\n",
    "\n",
    "Precision is 74% and accuracy is 84%\n",
    "\n",
    "The accuracy score calculated using KNN model is more than that of regression model"
   ]
  },
  {
   "cell_type": "code",
   "execution_count": 80,
   "id": "c120c6d6",
   "metadata": {},
   "outputs": [
    {
     "name": "stdout",
     "output_type": "stream",
     "text": [
      "precision_score : 0.74\n",
      "accuracy_score : 0.84\n",
      "\n",
      "classification_report :\n",
      "               precision    recall  f1-score   support\n",
      "\n",
      "           0       0.93      0.81      0.86        47\n",
      "           1       0.74      0.90      0.81        29\n",
      "\n",
      "    accuracy                           0.84        76\n",
      "   macro avg       0.83      0.85      0.84        76\n",
      "weighted avg       0.86      0.84      0.84        76\n",
      "\n"
     ]
    }
   ],
   "source": [
    "print(\"precision_score :\",round(precision_score(y_test,predict2),2))\n",
    "print(\"accuracy_score :\",round(accuracy_score(y_test,predict2),2))\n",
    "print(\"\\nclassification_report :\\n\",classification_report(y_test,predict2))"
   ]
  },
  {
   "cell_type": "markdown",
   "id": "a5979e5a",
   "metadata": {},
   "source": [
    "Generate the class probabilities and this gives us the probabilities for the diagnosis 0 and 1\n",
    "\n",
    "This classifier predicts, in second column any value greater than 0.5 has heart disease i.e. the diagnosis is 1"
   ]
  },
  {
   "cell_type": "code",
   "execution_count": 81,
   "id": "338fefc1",
   "metadata": {},
   "outputs": [
    {
     "data": {
      "text/plain": [
       "array([[0.47727273, 0.52272727],\n",
       "       [0.5       , 0.5       ],\n",
       "       [0.65909091, 0.34090909],\n",
       "       [0.29545455, 0.70454545],\n",
       "       [0.29545455, 0.70454545]])"
      ]
     },
     "execution_count": 81,
     "metadata": {},
     "output_type": "execute_result"
    }
   ],
   "source": [
    "prob2 = model2.predict_proba(X_test)\n",
    "prob2[:5]"
   ]
  },
  {
   "cell_type": "markdown",
   "id": "854012fa",
   "metadata": {},
   "source": [
    "Create the dataframe X_knn using the prediction probability from model2 on X dataset for future use if needed\n",
    "\n",
    "Count the records with Diagnosis as 1 and the count is 139"
   ]
  },
  {
   "cell_type": "code",
   "execution_count": 82,
   "id": "0214bff6",
   "metadata": {},
   "outputs": [
    {
     "data": {
      "text/plain": [
       "d_0              139\n",
       "d_1              139\n",
       "Heart_disease    139\n",
       "dtype: int64"
      ]
     },
     "execution_count": 82,
     "metadata": {},
     "output_type": "execute_result"
    }
   ],
   "source": [
    "d0 = []\n",
    "d1 = []\n",
    "diagnose = []\n",
    "prob2 = model2.predict_proba(X)\n",
    "\n",
    "for p in range(len(prob2)):\n",
    "    d0.append(prob2[p][0])\n",
    "    d1.append(prob2[p][1])\n",
    "    if prob2[p][1]>0.5:\n",
    "        diagnose.append(\"Yes\")\n",
    "    else:\n",
    "        diagnose.append(\"No\")\n",
    "        \n",
    "X_knn = pd.DataFrame()\n",
    "X_knn[\"d_0\"] = d0\n",
    "X_knn[\"d_1\"] = d1\n",
    "X_knn[\"Heart_disease\"] = diagnose\n",
    "\n",
    "X_knn[X_knn['Heart_disease']==\"Yes\"].count()"
   ]
  },
  {
   "cell_type": "markdown",
   "id": "e7494e13",
   "metadata": {},
   "source": [
    "Count the records of original dataset with Diagnosis number greater than 0 and the count is 139"
   ]
  },
  {
   "cell_type": "code",
   "execution_count": 83,
   "id": "1335ec12",
   "metadata": {
    "scrolled": true
   },
   "outputs": [
    {
     "data": {
      "text/plain": [
       "Diagnosis                    139\n",
       "Age                          139\n",
       "Gender                       139\n",
       "BloodPres                    139\n",
       "Chol                         139\n",
       "MaxHeartRate                 139\n",
       "ExAngina                     139\n",
       "PainType_Asymptomatic        139\n",
       "PainType_Atypical_Angina     139\n",
       "PainType_Non-anginal_pain    139\n",
       "PainType_Typical_Angina      139\n",
       "STPeakSlope_down_sloping     139\n",
       "STPeakSlope_flat             139\n",
       "STPeakSlope_up_sloping       139\n",
       "dtype: int64"
      ]
     },
     "execution_count": 83,
     "metadata": {},
     "output_type": "execute_result"
    }
   ],
   "source": [
    "dum[dum['Diagnosis']>0].count()"
   ]
  },
  {
   "cell_type": "markdown",
   "id": "7ae81651",
   "metadata": {},
   "source": [
    "Put models in a dictionary\n",
    "\n",
    "We have shown the RandomForest just for comparison purpose and we do not find it the right fit for analysis"
   ]
  },
  {
   "cell_type": "code",
   "execution_count": 84,
   "id": "399fdfe0",
   "metadata": {},
   "outputs": [],
   "source": [
    "\n",
    "models = {\n",
    "    \"KNN\": KNeighborsClassifier(),\n",
    "    \"Logistic Regression\": LogisticRegression(),\n",
    "    \"Random Forest\": RandomForestClassifier()\n",
    "}\n",
    "\n",
    "\n",
    "# Create function to fit and score models\n",
    "def fit_and_score(models, X_train, X_test, y_train, y_test):\n",
    "    \"\"\"\n",
    "    assesses and fits pre-existing machine learning models. \n",
    "    models : a dict of different Scikit-Learn machine learning models\n",
    "    X_train : training data\n",
    "    X_test : testing data\n",
    "    y_train : labels assosciated with training data\n",
    "    y_test : labels assosciated with test data\n",
    "    \"\"\"\n",
    "    # Random seed for reproducible results\n",
    "    np.random.seed(42)\n",
    "    # Make a list to keep model scores\n",
    "    model_scores = {}\n",
    "    # Loop through models\n",
    "    for name, model in models.items():\n",
    "        # Fit the model to the data\n",
    "        model.fit(X_train, y_train)\n",
    "        # Evaluate the model and append its score to model_scores\n",
    "        model_scores[name] = model.score(X_test, y_test)\n",
    "    return model_scores"
   ]
  },
  {
   "cell_type": "code",
   "execution_count": 85,
   "id": "cc341c8c",
   "metadata": {},
   "outputs": [
    {
     "data": {
      "text/plain": [
       "{'KNN': 0.7894736842105263,\n",
       " 'Logistic Regression': 0.7894736842105263,\n",
       " 'Random Forest': 0.7631578947368421}"
      ]
     },
     "execution_count": 85,
     "metadata": {},
     "output_type": "execute_result"
    }
   ],
   "source": [
    "model_scores = fit_and_score(models=models,\n",
    "                            X_train=X_train,\n",
    "                            X_test=X_test,\n",
    "                            y_train=y_train,\n",
    "                            y_test=y_test)\n",
    "\n",
    "model_scores"
   ]
  },
  {
   "cell_type": "markdown",
   "id": "de05e6ce",
   "metadata": {},
   "source": [
    " Let's compare our models visually as they are all fitting."
   ]
  },
  {
   "cell_type": "markdown",
   "id": "bbf63bf3",
   "metadata": {},
   "source": [
    "We may visualize our model scores since we've saved them to a dictionary; however, we must first convert them to a DataFrame."
   ]
  },
  {
   "cell_type": "code",
   "execution_count": 86,
   "id": "65561d31",
   "metadata": {},
   "outputs": [
    {
     "data": {
      "image/png": "[encoded data removed]",
      "text/plain": [
       "<Figure size 432x288 with 1 Axes>"
      ]
     },
     "metadata": {
      "needs_background": "light"
     },
     "output_type": "display_data"
    }
   ],
   "source": [
    "model_compare = pd.DataFrame(model_scores, index=[\"accuracy\"])\n",
    "model_compare.T.plot.bar();"
   ]
  },
  {
   "cell_type": "markdown",
   "id": "038fb30c",
   "metadata": {},
   "source": [
    "Beautiful! We can't really see it from the graph but looking at the dictionary, the LogisticRegression() , KNN model performs best."
   ]
  },
  {
   "cell_type": "markdown",
   "id": "6cde3ce1",
   "metadata": {},
   "source": [
    "### UAC Scores and the ROC Curve \n",
    "\n",
    "Describe the ROC curve. \n",
    "\n",
    "By contrasting the true positive rate with the false positive rate, you can gauge how well your model is working. \n",
    "\n",
    "In this instance, \n",
    "\n",
    "Consider a diagnostic test that looks to see if a person has a certain condition to get a good illustration of a real-world issue. When a person tests positive but doesn't truly have the condition, it's called a false positive. \n",
    "\n",
    "On the other side, a false negative happens when a person tests negative, indicating that they are healthy, but they actually have the disease. \n",
    "\n",
    "Scikit-Learn has a method called plot roc curve that we can use to build ROC curves and get the area under the curve (AUC) metric. \n"
   ]
  },
  {
   "cell_type": "code",
   "execution_count": 87,
   "id": "1560207d",
   "metadata": {
    "scrolled": true
   },
   "outputs": [
    {
     "name": "stderr",
     "output_type": "stream",
     "text": [
      "/Users/aishu/opt/anaconda3/lib/python3.9/site-packages/sklearn/utils/deprecation.py:87: FutureWarning: Function plot_roc_curve is deprecated; Function :func:`plot_roc_curve` is deprecated in 1.0 and will be removed in 1.2. Use one of the class methods: :meth:`sklearn.metric.RocCurveDisplay.from_predictions` or :meth:`sklearn.metric.RocCurveDisplay.from_estimator`.\n",
      "  warnings.warn(msg, category=FutureWarning)\n"
     ]
    },
    {
     "data": {
      "text/plain": [
       "<sklearn.metrics._plot.roc_curve.RocCurveDisplay at 0x7fe4a195c280>"
      ]
     },
     "execution_count": 87,
     "metadata": {},
     "output_type": "execute_result"
    },
    {
     "data": {
      "image/png": "[encoded data removed]",
      "text/plain": [
       "<Figure size 432x288 with 1 Axes>"
      ]
     },
     "metadata": {
      "needs_background": "light"
     },
     "output_type": "display_data"
    }
   ],
   "source": [
    "# Plot ROC curve and calculate AUC metric\n",
    "plot_roc_curve(gs_log_reg, X_test, y_test)"
   ]
  },
  {
   "cell_type": "markdown",
   "id": "b93800b0",
   "metadata": {},
   "source": [
    "This is great, our model does far better then guessing which would be a line going from the bottom left corner to the top right corner, AUC = 0.5. But a perfect model would achieve an AUC score of 1.0. So there's still room for improvement."
   ]
  },
  {
   "cell_type": "markdown",
   "id": "1a1bd4e3",
   "metadata": {},
   "source": [
    "What are your options for using this knowledge? \n",
    "\n",
    "You might wish to consult an authority on the subject about this. They might be curious to know where the machine learning model finds the most patterns (areas with the highest correlation) and where it doesn't (lowest correlation). \n",
    "\n",
    "This offers the following advantages: \n",
    "\n",
    "1. Finding out more - If some of the correlations and feature importances are confusing, a subject matter expert may be able to shed some light on the situation and help you figure out more.\n",
    "\n",
    "2. Redirecting efforts - If some features offer far more value than others, this may change how you collect data for different problems. See point 3.\n",
    "\n",
    "3. Less but better - Similar to above, if some features are offering far more value than others, you could reduce the number of features your model tries to find patterns in as well as improve the ones which offer the most. This could potentially lead to saving on computation, by having a model find patterns across less features, whilst still achieving the same performance levels.\n"
   ]
  },
  {
   "cell_type": "markdown",
   "id": "74c2ead0",
   "metadata": {},
   "source": [
    "### CONCLUSION:\n",
    "\n",
    "One of the biggest issues facing modern civilization is heart disease. \n",
    "Manually calculating the likelihood of developing heart disease based on risk factors is challenging. Machinelearning methods are helpful to forecast the results from the available data, nevertheless.\n",
    "\n",
    "* __The prediction count of KNN model is 139 which matches the diagnosis count of original dataset, whereas the prediction count of regression model is 145__\n",
    "* __The accuracy score of KNN model is 84% and that of regression model is 79%__\n",
    "\n",
    "Considering and comparing the results from two models, KNN model has more accuracy\n",
    "\n",
    "The top four characteristics were determined to be the kind of chest discomfort, the highest heart rate attained, ExAngina, and ST depression brought on by exercise in comparison to rest (STPeakSlope).\n",
    "\n",
    "From attempting several models, to adjusting various models, to determining which hyperparameters were most effective. \n",
    "\n",
    "We've conducted a number of trials up to this point. \n",
    "\n",
    "In fact, we could go on forever. However, nothing lasts indefinitely. \n",
    "\n",
    "At this point, after experimenting with a few various approaches, we would inquire whether we had fulfilled the assessment measure. \n",
    "\n",
    "We'll move on with this research if we can determine whether a patient has cardiac disease with 95% accuracy during the proof of concept. \n",
    "\n",
    "Not in this instance. Our model's accuracy peaked at less than 90%.\n"
   ]
  },
  {
   "cell_type": "markdown",
   "id": "f043fb7f",
   "metadata": {},
   "source": [
    "### How can you reduce the chance of developing heart disease? \n",
    "\n",
    "Thankfully, there are several of things you can take to lessen your risk of developing heart disease: \n",
    "\n",
    "__Maintain blood pressure control__. A significant risk factor for heart disease is high blood pressure. The majority of individuals should get their blood pressure tested once a year or more frequently if they have high blood pressure. Take action to avoid or manage high blood pressure, including modifying your lifestyle. \n",
    "\n",
    "\n",
    "__Maintain healthy levels of triglycerides and cholesterol__. High cholesterol levels can narrow your arteries and increase your risk of heart attack and coronary artery disease. You may decrease your cholesterol by altering your lifestyle and using medications if necessary. Another form of fat seen in the blood is called triglycerides. Additionally, particularly in women, high triglyceride levels may increase the risk of coronary artery disease. \n",
    "\n",
    "__maintaining a healthy weight__. Your chance of developing heart disease might rise if you are obese or overweight. This is mostly due to their associations with other risk factors for heart disease, such as diabetes, high blood pressure, high blood cholesterol, and high triglyceride levels. Keeping your weight under control can reduce these dangers. \n",
    "\n",
    "__Adopt a balanced diet__. Limit your intake of added sugars, sodium-rich meals, and saturated fats. Consume a lot of whole grains, fresh fruit, and veggies. The DASH diet is an illustration of a meal plan that can assist you in lowering your cholesterol and blood pressure, two factors that can reduce your risk of heart disease. \n",
    "\n",
    "__Exercise often__. Exercise has several advantages, including boosting circulation and heart health. It can also decrease your blood pressure and cholesterol while assisting you in maintaining a healthy weight. Your risk of heart disease can be decreased by all of these. \n",
    "\n",
    "__Stress management__. In many respects, stress and heart disease are related. It could cause a spike in blood pressure. A heart attack may be \"triggered\" by extreme stress. Additionally, unhealthy stress-relieving behaviors like binge eating, heavy drinking, and smoking are hazardous for your heart. Exercise, music, focusing on something serene or calming, and meditation are a few techniques to help you manage your stress. \n",
    "\n",
    "__control diabetes__. Diabetes increases the likelihood of developing diabetic heart disease. This is due to the fact that diabetes-related elevated blood sugar over time can harm your blood vessels as well as the nerves that regulate your heart and blood vessels. Therefore, it's crucial to get tested for diabetes and to manage it if you do have it. \n"
   ]
  },
  {
   "cell_type": "markdown",
   "id": "bd53bc15",
   "metadata": {},
   "source": [
    "### What's Next\n",
    "\n",
    "What transpires if the evaluation metric isn't satisfied, we might be wondering? \n",
    "\n",
    "Is all we've worked for in vain? \n",
    "\n",
    "No. \n",
    "\n",
    "It implies that we are aware of what fails. In this situation, we are aware that the model we are currently employing (a tweaked version of KNN) and the particular data set we are utilizing do not meet the goals we set for them. \n",
    "\n",
    "Experimental steps really shines in this situation. \n",
    "\n",
    "Discussing several choices for moving forward with our team or conducting independent research might be a fantastic next step. \n",
    "\n",
    "* Could we gather further information? \n",
    "\n",
    "* Can we try an other model? we might wish to research CatBoost or XGBoost if we work with structured data. \n",
    "\n",
    "* Could we go beyond what we've already done to enhance the current models? \n",
    "\n",
    "* How would we export and share your model with others if it were good enough? \n",
    "\n",
    "The important thing to keep in mind is that time will be our biggest obstacle. Reduce the length of time between experiments, for this reason. \n",
    "\n",
    "we'll start to grasp what works as we experiment more and learn what doesn't work by doing so."
   ]
  },
  {
   "cell_type": "code",
   "execution_count": null,
   "id": "432a272a",
   "metadata": {},
   "outputs": [],
   "source": []
  }
 ],
 "metadata": {
  "kernelspec": {
   "display_name": "Python 3 (ipykernel)",
   "language": "python",
   "name": "python3"
  },
  "language_info": {
   "codemirror_mode": {
    "name": "ipython",
    "version": 3
   },
   "file_extension": ".py",
   "mimetype": "text/x-python",
   "name": "python",
   "nbconvert_exporter": "python",
   "pygments_lexer": "ipython3",
   "version": "3.9.12"
  }
 },
 "nbformat": 4,
 "nbformat_minor": 5
}
