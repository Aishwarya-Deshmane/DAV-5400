{
 "cells": [
  {
   "cell_type": "markdown",
   "id": "6029169e",
   "metadata": {},
   "source": [
    "## DAV 5400 Module 3 Assignment\n",
    "### By Aishwarya Deshmane"
   ]
  },
  {
   "cell_type": "markdown",
   "id": "b4284941",
   "metadata": {},
   "source": [
    "### 1. Write a Python/NumPy code block that finds the distinct/unique common items between these two arrays\n",
    "Import numpy library\n",
    "\n",
    "np.intersect1d(a,b) gives 1D sorted array of common and unique elements\n",
    "\n",
    "Assign the result array to variable c\n",
    "\n",
    "Print the result"
   ]
  },
  {
   "cell_type": "code",
   "execution_count": 1,
   "id": "b1209933",
   "metadata": {},
   "outputs": [
    {
     "data": {
      "text/plain": [
       "array([2, 4])"
      ]
     },
     "execution_count": 1,
     "metadata": {},
     "output_type": "execute_result"
    }
   ],
   "source": [
    "import numpy as np\n",
    "\n",
    "a = np.array([1, 2, 3, 2, 3, 4, 3, 4, 5, 6])\n",
    "b = np.array([7, 2, 10, 2, 7, 4, 9, 4, 9, 8])\n",
    "\n",
    "c = np.intersect1d(a,b)\n",
    "c"
   ]
  },
  {
   "cell_type": "markdown",
   "id": "ae54a260",
   "metadata": {},
   "source": [
    "### 2. Create the following 5x3 array using knowledge you have of Python’s / NumPy’s sequencing functionality so that you do not need to explicitly key in every integer value\n",
    "np.arange(1,16) gives the array of 1 to 15\n",
    "\n",
    "Reshape function shapes the array row-wise into shape 3*5\n",
    "\n",
    "Transpose the array to get the elements column-wise and shape it into 5*3\n",
    "\n",
    "Print the result"
   ]
  },
  {
   "cell_type": "code",
   "execution_count": 2,
   "id": "ec36e00b",
   "metadata": {},
   "outputs": [
    {
     "data": {
      "text/plain": [
       "array([[ 1,  6, 11],\n",
       "       [ 2,  7, 12],\n",
       "       [ 3,  8, 13],\n",
       "       [ 4,  9, 14],\n",
       "       [ 5, 10, 15]])"
      ]
     },
     "execution_count": 2,
     "metadata": {},
     "output_type": "execute_result"
    }
   ],
   "source": [
    "arr = np.arange(1,16).reshape(3,5).T\n",
    "arr"
   ]
  },
  {
   "cell_type": "markdown",
   "id": "f390cd62",
   "metadata": {},
   "source": [
    "### 3. Write a Python/Numpy code block that removes from array a any items that are also present in array b\n",
    "np.setdiff1d(a,b) gives the items from array a that is not present in array b\n",
    "\n",
    "Assign the result array to variable c\n",
    "\n",
    "Print the result"
   ]
  },
  {
   "cell_type": "code",
   "execution_count": 3,
   "id": "88f66dba",
   "metadata": {},
   "outputs": [
    {
     "data": {
      "text/plain": [
       "array([ 1,  7,  8, 15])"
      ]
     },
     "execution_count": 3,
     "metadata": {},
     "output_type": "execute_result"
    }
   ],
   "source": [
    "a = np.array([12, 5, 7, 15, 3, 1, 8])\n",
    "b = np.array([14, 6, 3, 11, 19, 12, 5])\n",
    "\n",
    "c = np.setdiff1d(a,b)\n",
    "c"
   ]
  },
  {
   "cell_type": "markdown",
   "id": "8e51adc4",
   "metadata": {},
   "source": [
    "### 4. The process of transforming a multidimensional array into a unidimensional array is referred to as “flattening”. Transform the 5x3 array shown above in Problem 2 into a unidimensional array such that the sequence of values contained within the array is as follows: 1, 2, 3, 4, 5, 6, 7, 8, 9, 10, 11, 12, 13, 14, 15\n",
    "Print arr to check we are using the same required array\n",
    "\n",
    "Assigning it to variable arr1, transpose it to get the elements row-wise and the shape changes to 3*5\n",
    "\n",
    "Use flatten function to transform the multidimensional array to unidimensional array and get the sequence\n",
    "\n",
    "Print the result"
   ]
  },
  {
   "cell_type": "code",
   "execution_count": 4,
   "id": "81e15aef",
   "metadata": {},
   "outputs": [
    {
     "name": "stdout",
     "output_type": "stream",
     "text": [
      "[[ 1  6 11]\n",
      " [ 2  7 12]\n",
      " [ 3  8 13]\n",
      " [ 4  9 14]\n",
      " [ 5 10 15]]\n",
      "[ 1  2  3  4  5  6  7  8  9 10 11 12 13 14 15]\n"
     ]
    }
   ],
   "source": [
    "print(arr)\n",
    "arr1 = arr.T.flatten()\n",
    "print(arr1)"
   ]
  },
  {
   "cell_type": "markdown",
   "id": "0b0d41e2",
   "metadata": {},
   "source": [
    "### TASK 5\n",
    "Suppress scientific notation np.set_printoptions(suppress = True)\n",
    "\n",
    "Read the data file from GitHub and convert to a NumPy ndarray object\n",
    "\n",
    "Be sure to replace the ‘link_to_raw_copy of data file in your Github Repository’ placeholder shown below with a link to the “raw” version of the file you pushed to your online GitHub repository\n",
    "\n",
    "Verify you have an ndarray object"
   ]
  },
  {
   "cell_type": "code",
   "execution_count": 5,
   "id": "bf878583",
   "metadata": {},
   "outputs": [
    {
     "data": {
      "text/plain": [
       "numpy.ndarray"
      ]
     },
     "execution_count": 5,
     "metadata": {},
     "output_type": "execute_result"
    }
   ],
   "source": [
    "import pandas\n",
    "import numpy as np\n",
    "\n",
    "nyc_water = pandas.read_csv('https://raw.githubusercontent.com/Aishwarya-Deshmane/DAV-5400/main/M3_Data.csv').to_numpy()\n",
    "\n",
    "type(nyc_water)"
   ]
  },
  {
   "cell_type": "markdown",
   "id": "e4c81d56",
   "metadata": {},
   "source": [
    "### 5.1 What is the maximum yearly NYC consumption of water in millions of gallons per day?\n",
    "np.amax gives the maximum value of the given array\n",
    "\n",
    "Assign the result to variable result1. 'nyc_water[:,2]' notifies the column index 2 of nyc_water dataset\n",
    "\n",
    "Print the result"
   ]
  },
  {
   "cell_type": "code",
   "execution_count": 6,
   "id": "b9bcc022",
   "metadata": {},
   "outputs": [
    {
     "name": "stdout",
     "output_type": "stream",
     "text": [
      "Maximum yearly NYC water consumption in millions of gallons per day is : 1512.0\n"
     ]
    }
   ],
   "source": [
    "result1 = np.amax(nyc_water[:,2])\n",
    "print('Maximum yearly NYC water consumption in millions of gallons per day is :',result1)"
   ]
  },
  {
   "cell_type": "markdown",
   "id": "508fc75f",
   "metadata": {},
   "source": [
    "### 5.2 How many calendar years are represented within this data set? NumPy's shape command is one way to find out\n",
    "np.shape finds out the shape of array. '(nyc_water)[0]' specifies that we are counting the rows i.e.,number of records of nyc_water dataset. This also gives us the count of calendar years\n",
    "\n",
    "Assign the function to result2 variable\n",
    "\n",
    "Print the result"
   ]
  },
  {
   "cell_type": "code",
   "execution_count": 7,
   "id": "77d834b9",
   "metadata": {},
   "outputs": [
    {
     "name": "stdout",
     "output_type": "stream",
     "text": [
      "The number of calendar years represented in dataset are : 41\n"
     ]
    }
   ],
   "source": [
    "result2 = np.shape(nyc_water)[0]\n",
    "print('The number of calendar years represented in dataset are :',result2)"
   ]
  },
  {
   "cell_type": "markdown",
   "id": "8799ae85",
   "metadata": {},
   "source": [
    "### 5.3 What is the mean and the standard deviation of the per capita daily water consumption?\n",
    "np.mean gives the mean and np.std gives the standard deviation of the array. 'nyc_water[:,3]' specifies that we are getting mean and std of column index 3 from nyc_water dataset\n",
    "\n",
    "Assign the functions to resultmean and resultstd variables\n",
    "\n",
    "Print the result"
   ]
  },
  {
   "cell_type": "code",
   "execution_count": 8,
   "id": "81435b8d",
   "metadata": {},
   "outputs": [
    {
     "name": "stdout",
     "output_type": "stream",
     "text": [
      "Mean of the per capita daily water consumption is : 158.41463414634146\n",
      "Standard deviation of the per capita daily water consumption is : 31.847177467886052\n"
     ]
    }
   ],
   "source": [
    "resultmean = np.mean(nyc_water[:,3])\n",
    "print('Mean of the per capita daily water consumption is :',resultmean)\n",
    "resultstd = np.std(nyc_water[:,3])\n",
    "print('Standard deviation of the per capita daily water consumption is :',resultstd)"
   ]
  },
  {
   "cell_type": "markdown",
   "id": "754ed6c9",
   "metadata": {},
   "source": [
    "### 5.4 What is the increase or decrease in population from year to year? Use NumPy's `diff` function to create an array of differences and save that to a variable called \"pop_diff\", then print that variable to the screen.\n",
    "np.diff gives the difference between each element of array. 'nyc_water[:,1]' specifies that we are getting year to year population difference for column index 1 of nyc_water dataset\n",
    "\n",
    "Assign the function to pop_diff variable\n",
    "\n",
    "Print the result"
   ]
  },
  {
   "cell_type": "code",
   "execution_count": 9,
   "id": "3fb6ec83",
   "metadata": {},
   "outputs": [
    {
     "data": {
      "text/plain": [
       "array([-30461. ,  17602. ,  19864. ,  72119. ,  53290. ,  39540. ,\n",
       "        45192. ,  23230. ,  11243. ,  -9544. ,  -8525. ,  38851. ,\n",
       "        54443. ,  77222. ,  64292. ,  62582. ,  64772. ,  75631. ,\n",
       "        84816. ,  89401. ,  60618. ,  16685.5,  16685.5,  16685.5,\n",
       "        16685.5,  16685.5,  16685.5,  16685.5,  16685.5,  16685.5,\n",
       "        16685.5,  97830. ,  75069. ,  50707. ,  38648. ,  30794. ,\n",
       "         7795. , -37705. , -39523. , -61931. ])"
      ]
     },
     "execution_count": 9,
     "metadata": {},
     "output_type": "execute_result"
    }
   ],
   "source": [
    "pop_diff = np.diff(nyc_water[:,1])\n",
    "pop_diff"
   ]
  }
 ],
 "metadata": {
  "kernelspec": {
   "display_name": "Python 3 (ipykernel)",
   "language": "python",
   "name": "python3"
  },
  "language_info": {
   "codemirror_mode": {
    "name": "ipython",
    "version": 3
   },
   "file_extension": ".py",
   "mimetype": "text/x-python",
   "name": "python",
   "nbconvert_exporter": "python",
   "pygments_lexer": "ipython3",
   "version": "3.9.12"
  }
 },
 "nbformat": 4,
 "nbformat_minor": 5
}
